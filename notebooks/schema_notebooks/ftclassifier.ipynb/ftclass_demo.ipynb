{
 "cells": [
  {
   "cell_type": "code",
   "execution_count": 4,
   "metadata": {},
   "outputs": [
    {
     "name": "stdout",
     "output_type": "stream",
     "text": [
      "c:\\Users\\RAZER\\Desktop\\QuickDraw-ML\n"
     ]
    }
   ],
   "source": [
    "cd ../.."
   ]
  },
  {
   "cell_type": "code",
   "execution_count": 5,
   "metadata": {},
   "outputs": [],
   "source": [
    "from schema.training.ftclassifier import TransformersFTClassifier"
   ]
  },
  {
   "cell_type": "code",
   "execution_count": 6,
   "metadata": {},
   "outputs": [
    {
     "name": "stdout",
     "output_type": "stream",
     "text": [
      "cuda\n"
     ]
    }
   ],
   "source": [
    "import torch\n",
    "\n",
    "device = \"cuda\" if torch.cuda.is_available() else \"cpu\"\n",
    "\n",
    "print(device)"
   ]
  },
  {
   "cell_type": "code",
   "execution_count": 17,
   "metadata": {},
   "outputs": [],
   "source": [
    "model_names = [\"google/vit-base-patch16-224-in21k\", \"google/vit-base-patch16-224\", \"microsoft/beit-base-patch16-224-pt22k-ft22k\"]"
   ]
  },
  {
   "cell_type": "code",
   "execution_count": 7,
   "metadata": {},
   "outputs": [
    {
     "name": "stderr",
     "output_type": "stream",
     "text": [
      "Some weights of ViTForImageClassification were not initialized from the model checkpoint at google/vit-base-patch16-224-in21k and are newly initialized: ['classifier.bias', 'classifier.weight']\n",
      "You should probably TRAIN this model on a down-stream task to be able to use it for predictions and inference.\n"
     ]
    }
   ],
   "source": [
    "classifier = TransformersFTClassifier(\n",
    "    model_name=model_names[0], \n",
    "    output_dir=f\"models/model_{model_names[0]}_finetuned\",\n",
    "    device = device,\n",
    "    data_path=\"data/img\",\n",
    "    seed=42,\n",
    "    per_device_train_batch_size=16,\n",
    "    evaluation_strategy=\"steps\",\n",
    "    num_train_epochs=4,\n",
    "    save_steps=100,\n",
    "    eval_steps=100,\n",
    "    logging_steps=10,\n",
    "    learning_rate=2e-4,\n",
    "    save_total_limit=2,\n",
    "    remove_unused_columns=False,\n",
    "    push_to_hub=False,\n",
    "    load_best_model_at_end=True\n",
    ")"
   ]
  },
  {
   "cell_type": "code",
   "execution_count": 11,
   "metadata": {},
   "outputs": [
    {
     "name": "stdout",
     "output_type": "stream",
     "text": [
      "Using MLflow experiment: Fine_Tuning\n"
     ]
    },
    {
     "data": {
      "application/vnd.jupyter.widget-view+json": {
       "model_id": "f788b9fc8bfe4835aa2f28c65ae29928",
       "version_major": 2,
       "version_minor": 0
      },
      "text/plain": [
       "  0%|          | 0/832 [00:00<?, ?it/s]"
      ]
     },
     "metadata": {},
     "output_type": "display_data"
    },
    {
     "name": "stdout",
     "output_type": "stream",
     "text": [
      "{'loss': 3.1821, 'grad_norm': 1.1452380418777466, 'learning_rate': 0.00019759615384615386, 'epoch': 0.05}\n",
      "{'loss': 3.0352, 'grad_norm': 2.0875344276428223, 'learning_rate': 0.0001951923076923077, 'epoch': 0.1}\n",
      "{'loss': 2.8693, 'grad_norm': 1.913527250289917, 'learning_rate': 0.00019278846153846155, 'epoch': 0.14}\n",
      "{'loss': 2.5844, 'grad_norm': 2.0478923320770264, 'learning_rate': 0.00019038461538461538, 'epoch': 0.19}\n",
      "{'loss': 2.3633, 'grad_norm': 2.149665355682373, 'learning_rate': 0.00018798076923076925, 'epoch': 0.24}\n",
      "{'loss': 2.0985, 'grad_norm': 2.449305772781372, 'learning_rate': 0.0001855769230769231, 'epoch': 0.29}\n",
      "{'loss': 1.838, 'grad_norm': 1.885445475578308, 'learning_rate': 0.00018317307692307692, 'epoch': 0.34}\n",
      "{'loss': 1.661, 'grad_norm': 2.2572710514068604, 'learning_rate': 0.00018076923076923077, 'epoch': 0.38}\n",
      "{'loss': 1.5395, 'grad_norm': 2.4659361839294434, 'learning_rate': 0.00017836538461538464, 'epoch': 0.43}\n",
      "{'loss': 1.5004, 'grad_norm': 2.6115798950195312, 'learning_rate': 0.00017596153846153846, 'epoch': 0.48}\n"
     ]
    },
    {
     "data": {
      "application/vnd.jupyter.widget-view+json": {
       "model_id": "15b619b8fa8f45e288215224745d6cb5",
       "version_major": 2,
       "version_minor": 0
      },
      "text/plain": [
       "  0%|          | 0/138 [00:00<?, ?it/s]"
      ]
     },
     "metadata": {},
     "output_type": "display_data"
    },
    {
     "name": "stdout",
     "output_type": "stream",
     "text": [
      "{'eval_loss': 1.371212363243103, 'eval_accuracy': 0.7484047402005469, 'eval_weighted_precision': 0.7863455256406982, 'eval_weighted_recall': 0.7484047402005469, 'eval_weighted_f1': 0.7201653099760646, 'eval_macro_precision': 0.7807677241051406, 'eval_macro_recall': 0.7476688960878747, 'eval_macro_f1': 0.7165059610567792, 'eval_micro_precision': 0.7484047402005469, 'eval_micro_recall': 0.7484047402005469, 'eval_micro_f1': 0.7484047402005469, 'eval_mcc': 0.7412371166496927, 'eval_runtime': 20.9872, 'eval_samples_per_second': 52.27, 'eval_steps_per_second': 6.575, 'epoch': 0.48}\n",
      "{'loss': 1.2873, 'grad_norm': 3.212782621383667, 'learning_rate': 0.0001735576923076923, 'epoch': 0.53}\n",
      "{'loss': 1.2687, 'grad_norm': 3.509838104248047, 'learning_rate': 0.00017115384615384616, 'epoch': 0.58}\n",
      "{'loss': 1.2299, 'grad_norm': 2.367821455001831, 'learning_rate': 0.00016875, 'epoch': 0.62}\n",
      "{'loss': 1.1756, 'grad_norm': 2.312678575515747, 'learning_rate': 0.00016634615384615386, 'epoch': 0.67}\n",
      "{'loss': 0.9531, 'grad_norm': 2.7184224128723145, 'learning_rate': 0.0001639423076923077, 'epoch': 0.72}\n",
      "{'loss': 1.0873, 'grad_norm': 4.934378147125244, 'learning_rate': 0.00016153846153846155, 'epoch': 0.77}\n",
      "{'loss': 0.9961, 'grad_norm': 2.1264657974243164, 'learning_rate': 0.00015913461538461537, 'epoch': 0.82}\n",
      "{'loss': 0.8014, 'grad_norm': 3.172287702560425, 'learning_rate': 0.00015673076923076925, 'epoch': 0.87}\n",
      "{'loss': 0.8204, 'grad_norm': 5.782342910766602, 'learning_rate': 0.0001543269230769231, 'epoch': 0.91}\n",
      "{'loss': 0.9572, 'grad_norm': 4.247413158416748, 'learning_rate': 0.00015192307692307692, 'epoch': 0.96}\n"
     ]
    },
    {
     "data": {
      "application/vnd.jupyter.widget-view+json": {
       "model_id": "711c06c4ed594db9b4a98b4b55533c3a",
       "version_major": 2,
       "version_minor": 0
      },
      "text/plain": [
       "  0%|          | 0/138 [00:00<?, ?it/s]"
      ]
     },
     "metadata": {},
     "output_type": "display_data"
    },
    {
     "name": "stdout",
     "output_type": "stream",
     "text": [
      "{'eval_loss': 0.778333306312561, 'eval_accuracy': 0.8614402917046491, 'eval_weighted_precision': 0.873964327029215, 'eval_weighted_recall': 0.8614402917046491, 'eval_weighted_f1': 0.8598047182417999, 'eval_macro_precision': 0.871943704982218, 'eval_macro_recall': 0.8587169300043221, 'eval_macro_f1': 0.8571843519452732, 'eval_micro_precision': 0.8614402917046491, 'eval_micro_recall': 0.8614402917046491, 'eval_micro_f1': 0.8614402917046491, 'eval_mcc': 0.8561417919501532, 'eval_runtime': 21.3797, 'eval_samples_per_second': 51.31, 'eval_steps_per_second': 6.455, 'epoch': 0.96}\n",
      "{'loss': 0.6745, 'grad_norm': 2.216831922531128, 'learning_rate': 0.00014951923076923077, 'epoch': 1.01}\n",
      "{'loss': 0.6596, 'grad_norm': 3.091648578643799, 'learning_rate': 0.00014711538461538464, 'epoch': 1.06}\n",
      "{'loss': 0.704, 'grad_norm': 2.642287492752075, 'learning_rate': 0.00014471153846153846, 'epoch': 1.11}\n",
      "{'loss': 0.5604, 'grad_norm': 3.209960460662842, 'learning_rate': 0.0001423076923076923, 'epoch': 1.15}\n",
      "{'loss': 0.5104, 'grad_norm': 3.3434479236602783, 'learning_rate': 0.00013990384615384616, 'epoch': 1.2}\n",
      "{'loss': 0.4632, 'grad_norm': 1.323185920715332, 'learning_rate': 0.0001375, 'epoch': 1.25}\n",
      "{'loss': 0.558, 'grad_norm': 3.5202279090881348, 'learning_rate': 0.00013509615384615386, 'epoch': 1.3}\n",
      "{'loss': 0.5318, 'grad_norm': 1.1564682722091675, 'learning_rate': 0.0001326923076923077, 'epoch': 1.35}\n",
      "{'loss': 0.431, 'grad_norm': 2.5881857872009277, 'learning_rate': 0.00013028846153846155, 'epoch': 1.39}\n",
      "{'loss': 0.5171, 'grad_norm': 3.512590169906616, 'learning_rate': 0.00012788461538461537, 'epoch': 1.44}\n"
     ]
    },
    {
     "data": {
      "application/vnd.jupyter.widget-view+json": {
       "model_id": "8952be57c64341e9ac5a1184c7a9ba3d",
       "version_major": 2,
       "version_minor": 0
      },
      "text/plain": [
       "  0%|          | 0/138 [00:00<?, ?it/s]"
      ]
     },
     "metadata": {},
     "output_type": "display_data"
    },
    {
     "name": "stdout",
     "output_type": "stream",
     "text": [
      "{'eval_loss': 0.5875347256660461, 'eval_accuracy': 0.8696444849589791, 'eval_weighted_precision': 0.8839116570940863, 'eval_weighted_recall': 0.8696444849589791, 'eval_weighted_f1': 0.8703178736991363, 'eval_macro_precision': 0.8797775073185111, 'eval_macro_recall': 0.869719962747225, 'eval_macro_f1': 0.868237320334475, 'eval_micro_precision': 0.8696444849589791, 'eval_micro_recall': 0.8696444849589791, 'eval_micro_f1': 0.8696444849589791, 'eval_mcc': 0.864549856973011, 'eval_runtime': 21.4557, 'eval_samples_per_second': 51.129, 'eval_steps_per_second': 6.432, 'epoch': 1.44}\n",
      "{'loss': 0.4474, 'grad_norm': 2.4759836196899414, 'learning_rate': 0.00012548076923076922, 'epoch': 1.49}\n",
      "{'loss': 0.476, 'grad_norm': 1.8393359184265137, 'learning_rate': 0.0001230769230769231, 'epoch': 1.54}\n",
      "{'loss': 0.4399, 'grad_norm': 2.471601724624634, 'learning_rate': 0.00012067307692307692, 'epoch': 1.59}\n",
      "{'loss': 0.3704, 'grad_norm': 3.094367265701294, 'learning_rate': 0.00011826923076923078, 'epoch': 1.63}\n",
      "{'loss': 0.3663, 'grad_norm': 3.383419990539551, 'learning_rate': 0.00011586538461538463, 'epoch': 1.68}\n",
      "{'loss': 0.3797, 'grad_norm': 1.2115248441696167, 'learning_rate': 0.00011346153846153846, 'epoch': 1.73}\n",
      "{'loss': 0.3504, 'grad_norm': 2.013587474822998, 'learning_rate': 0.00011105769230769232, 'epoch': 1.78}\n",
      "{'loss': 0.4774, 'grad_norm': 2.8449957370758057, 'learning_rate': 0.00010865384615384615, 'epoch': 1.83}\n",
      "{'loss': 0.3484, 'grad_norm': 0.4606649875640869, 'learning_rate': 0.00010625000000000001, 'epoch': 1.88}\n",
      "{'loss': 0.4106, 'grad_norm': 1.0852477550506592, 'learning_rate': 0.00010384615384615386, 'epoch': 1.92}\n"
     ]
    },
    {
     "data": {
      "application/vnd.jupyter.widget-view+json": {
       "model_id": "b2d452fd1053422d8f70c34ae3ca97e7",
       "version_major": 2,
       "version_minor": 0
      },
      "text/plain": [
       "  0%|          | 0/138 [00:00<?, ?it/s]"
      ]
     },
     "metadata": {},
     "output_type": "display_data"
    },
    {
     "name": "stdout",
     "output_type": "stream",
     "text": [
      "{'eval_loss': 0.4736768901348114, 'eval_accuracy': 0.8924339106654512, 'eval_weighted_precision': 0.8980836224279197, 'eval_weighted_recall': 0.8924339106654512, 'eval_weighted_f1': 0.8911308433941256, 'eval_macro_precision': 0.8964132186318152, 'eval_macro_recall': 0.8913686133641444, 'eval_macro_f1': 0.8897483330802975, 'eval_micro_precision': 0.8924339106654512, 'eval_micro_recall': 0.8924339106654512, 'eval_micro_f1': 0.8924339106654512, 'eval_mcc': 0.8880692311807846, 'eval_runtime': 21.012, 'eval_samples_per_second': 52.208, 'eval_steps_per_second': 6.568, 'epoch': 1.92}\n",
      "{'loss': 0.2423, 'grad_norm': 0.368466317653656, 'learning_rate': 0.00010144230769230769, 'epoch': 1.97}\n",
      "{'loss': 0.2564, 'grad_norm': 3.538214683532715, 'learning_rate': 9.903846153846155e-05, 'epoch': 2.02}\n",
      "{'loss': 0.1796, 'grad_norm': 1.7579392194747925, 'learning_rate': 9.663461538461539e-05, 'epoch': 2.07}\n",
      "{'loss': 0.2069, 'grad_norm': 1.5669833421707153, 'learning_rate': 9.423076923076924e-05, 'epoch': 2.12}\n",
      "{'loss': 0.2202, 'grad_norm': 0.254550963640213, 'learning_rate': 9.182692307692308e-05, 'epoch': 2.16}\n",
      "{'loss': 0.2574, 'grad_norm': 1.2841269969940186, 'learning_rate': 8.942307692307693e-05, 'epoch': 2.21}\n",
      "{'loss': 0.2413, 'grad_norm': 4.693519592285156, 'learning_rate': 8.701923076923078e-05, 'epoch': 2.26}\n",
      "{'loss': 0.1666, 'grad_norm': 4.841279983520508, 'learning_rate': 8.461538461538461e-05, 'epoch': 2.31}\n",
      "{'loss': 0.1022, 'grad_norm': 1.4215688705444336, 'learning_rate': 8.221153846153846e-05, 'epoch': 2.36}\n",
      "{'loss': 0.1881, 'grad_norm': 0.5726220607757568, 'learning_rate': 7.980769230769231e-05, 'epoch': 2.4}\n"
     ]
    },
    {
     "data": {
      "application/vnd.jupyter.widget-view+json": {
       "model_id": "86e26677902e484ea54e72c9e7aa630d",
       "version_major": 2,
       "version_minor": 0
      },
      "text/plain": [
       "  0%|          | 0/138 [00:00<?, ?it/s]"
      ]
     },
     "metadata": {},
     "output_type": "display_data"
    },
    {
     "name": "stdout",
     "output_type": "stream",
     "text": [
      "{'eval_loss': 0.3853265047073364, 'eval_accuracy': 0.8979033728350045, 'eval_weighted_precision': 0.9051916096942001, 'eval_weighted_recall': 0.8979033728350045, 'eval_weighted_f1': 0.8988023444563812, 'eval_macro_precision': 0.9041889967507948, 'eval_macro_recall': 0.8951348180176718, 'eval_macro_f1': 0.8966855558824057, 'eval_micro_precision': 0.8979033728350045, 'eval_micro_recall': 0.8979033728350045, 'eval_micro_f1': 0.8979033728350045, 'eval_mcc': 0.8936698810229866, 'eval_runtime': 20.5646, 'eval_samples_per_second': 53.344, 'eval_steps_per_second': 6.711, 'epoch': 2.4}\n",
      "{'loss': 0.1338, 'grad_norm': 3.2938084602355957, 'learning_rate': 7.740384615384616e-05, 'epoch': 2.45}\n",
      "{'loss': 0.1369, 'grad_norm': 5.9147515296936035, 'learning_rate': 7.500000000000001e-05, 'epoch': 2.5}\n",
      "{'loss': 0.1956, 'grad_norm': 0.42105555534362793, 'learning_rate': 7.259615384615384e-05, 'epoch': 2.55}\n",
      "{'loss': 0.1102, 'grad_norm': 0.6333029270172119, 'learning_rate': 7.019230769230769e-05, 'epoch': 2.6}\n",
      "{'loss': 0.132, 'grad_norm': 0.1663675755262375, 'learning_rate': 6.778846153846155e-05, 'epoch': 2.64}\n",
      "{'loss': 0.1593, 'grad_norm': 0.7203887701034546, 'learning_rate': 6.538461538461539e-05, 'epoch': 2.69}\n",
      "{'loss': 0.1496, 'grad_norm': 0.4668044149875641, 'learning_rate': 6.298076923076923e-05, 'epoch': 2.74}\n",
      "{'loss': 0.143, 'grad_norm': 4.7321014404296875, 'learning_rate': 6.0576923076923076e-05, 'epoch': 2.79}\n",
      "{'loss': 0.1957, 'grad_norm': 3.3435630798339844, 'learning_rate': 5.817307692307693e-05, 'epoch': 2.84}\n",
      "{'loss': 0.1743, 'grad_norm': 0.24659672379493713, 'learning_rate': 5.576923076923077e-05, 'epoch': 2.88}\n"
     ]
    },
    {
     "data": {
      "application/vnd.jupyter.widget-view+json": {
       "model_id": "2bad9d67702948108e24a27920ffe3a1",
       "version_major": 2,
       "version_minor": 0
      },
      "text/plain": [
       "  0%|          | 0/138 [00:00<?, ?it/s]"
      ]
     },
     "metadata": {},
     "output_type": "display_data"
    },
    {
     "name": "stdout",
     "output_type": "stream",
     "text": [
      "{'eval_loss': 0.3878282308578491, 'eval_accuracy': 0.8951686417502279, 'eval_weighted_precision': 0.8998314816606422, 'eval_weighted_recall': 0.8951686417502279, 'eval_weighted_f1': 0.8952491938712915, 'eval_macro_precision': 0.8986435511426483, 'eval_macro_recall': 0.8922666174676839, 'eval_macro_f1': 0.8930634856287986, 'eval_micro_precision': 0.8951686417502279, 'eval_micro_recall': 0.8951686417502279, 'eval_micro_f1': 0.8951686417502279, 'eval_mcc': 0.890769117590255, 'eval_runtime': 21.415, 'eval_samples_per_second': 51.226, 'eval_steps_per_second': 6.444, 'epoch': 2.88}\n",
      "{'loss': 0.1533, 'grad_norm': 2.95346999168396, 'learning_rate': 5.336538461538462e-05, 'epoch': 2.93}\n",
      "{'loss': 0.1509, 'grad_norm': 0.3893512189388275, 'learning_rate': 5.096153846153846e-05, 'epoch': 2.98}\n",
      "{'loss': 0.0861, 'grad_norm': 0.2024313062429428, 'learning_rate': 4.855769230769231e-05, 'epoch': 3.03}\n",
      "{'loss': 0.1271, 'grad_norm': 0.167998269200325, 'learning_rate': 4.615384615384616e-05, 'epoch': 3.08}\n",
      "{'loss': 0.0748, 'grad_norm': 0.324472576379776, 'learning_rate': 4.375e-05, 'epoch': 3.12}\n",
      "{'loss': 0.058, 'grad_norm': 0.24226713180541992, 'learning_rate': 4.134615384615385e-05, 'epoch': 3.17}\n",
      "{'loss': 0.1083, 'grad_norm': 0.964203953742981, 'learning_rate': 3.8942307692307696e-05, 'epoch': 3.22}\n",
      "{'loss': 0.0759, 'grad_norm': 0.15532013773918152, 'learning_rate': 3.653846153846154e-05, 'epoch': 3.27}\n",
      "{'loss': 0.0846, 'grad_norm': 2.142648935317993, 'learning_rate': 3.4134615384615386e-05, 'epoch': 3.32}\n",
      "{'loss': 0.0747, 'grad_norm': 0.1146896630525589, 'learning_rate': 3.1730769230769234e-05, 'epoch': 3.37}\n"
     ]
    },
    {
     "data": {
      "application/vnd.jupyter.widget-view+json": {
       "model_id": "72181edabff6466e99307e4a85fa399b",
       "version_major": 2,
       "version_minor": 0
      },
      "text/plain": [
       "  0%|          | 0/138 [00:00<?, ?it/s]"
      ]
     },
     "metadata": {},
     "output_type": "display_data"
    },
    {
     "name": "stdout",
     "output_type": "stream",
     "text": [
      "{'eval_loss': 0.32341644167900085, 'eval_accuracy': 0.9206927985414768, 'eval_weighted_precision': 0.9230481033674238, 'eval_weighted_recall': 0.9206927985414768, 'eval_weighted_f1': 0.920430130526486, 'eval_macro_precision': 0.9206025398040437, 'eval_macro_recall': 0.9192225058405041, 'eval_macro_f1': 0.9184211161657636, 'eval_micro_precision': 0.9206927985414768, 'eval_micro_recall': 0.9206927985414768, 'eval_micro_f1': 0.9206927985414768, 'eval_mcc': 0.9173652904885972, 'eval_runtime': 21.299, 'eval_samples_per_second': 51.505, 'eval_steps_per_second': 6.479, 'epoch': 3.37}\n",
      "{'loss': 0.0552, 'grad_norm': 0.13087348639965057, 'learning_rate': 2.932692307692308e-05, 'epoch': 3.41}\n",
      "{'loss': 0.0628, 'grad_norm': 0.11406459659337997, 'learning_rate': 2.6923076923076923e-05, 'epoch': 3.46}\n",
      "{'loss': 0.0681, 'grad_norm': 2.7597849369049072, 'learning_rate': 2.4519230769230768e-05, 'epoch': 3.51}\n",
      "{'loss': 0.0445, 'grad_norm': 0.12507782876491547, 'learning_rate': 2.2115384615384616e-05, 'epoch': 3.56}\n",
      "{'loss': 0.0858, 'grad_norm': 0.7771567702293396, 'learning_rate': 1.971153846153846e-05, 'epoch': 3.61}\n",
      "{'loss': 0.0423, 'grad_norm': 0.08968041837215424, 'learning_rate': 1.730769230769231e-05, 'epoch': 3.65}\n",
      "{'loss': 0.0633, 'grad_norm': 0.10754132270812988, 'learning_rate': 1.4903846153846154e-05, 'epoch': 3.7}\n",
      "{'loss': 0.0447, 'grad_norm': 1.0208098888397217, 'learning_rate': 1.25e-05, 'epoch': 3.75}\n",
      "{'loss': 0.0529, 'grad_norm': 2.2253990173339844, 'learning_rate': 1.0096153846153847e-05, 'epoch': 3.8}\n",
      "{'loss': 0.0403, 'grad_norm': 0.09178268909454346, 'learning_rate': 7.692307692307694e-06, 'epoch': 3.85}\n"
     ]
    },
    {
     "data": {
      "application/vnd.jupyter.widget-view+json": {
       "model_id": "44572c42c96f43ea9d6fe37a6d80773b",
       "version_major": 2,
       "version_minor": 0
      },
      "text/plain": [
       "  0%|          | 0/138 [00:00<?, ?it/s]"
      ]
     },
     "metadata": {},
     "output_type": "display_data"
    },
    {
     "name": "stdout",
     "output_type": "stream",
     "text": [
      "{'eval_loss': 0.3090197443962097, 'eval_accuracy': 0.9206927985414768, 'eval_weighted_precision': 0.9214527157799806, 'eval_weighted_recall': 0.9206927985414768, 'eval_weighted_f1': 0.9206339388633424, 'eval_macro_precision': 0.9198142163283268, 'eval_macro_recall': 0.9194384723510355, 'eval_macro_f1': 0.9192002217795094, 'eval_micro_precision': 0.9206927985414768, 'eval_micro_recall': 0.9206927985414768, 'eval_micro_f1': 0.9206927985414768, 'eval_mcc': 0.9172631765526529, 'eval_runtime': 21.3101, 'eval_samples_per_second': 51.478, 'eval_steps_per_second': 6.476, 'epoch': 3.85}\n",
      "{'loss': 0.0648, 'grad_norm': 0.7928395867347717, 'learning_rate': 5.288461538461538e-06, 'epoch': 3.89}\n",
      "{'loss': 0.039, 'grad_norm': 1.707524061203003, 'learning_rate': 2.884615384615385e-06, 'epoch': 3.94}\n",
      "{'loss': 0.055, 'grad_norm': 0.23438340425491333, 'learning_rate': 4.807692307692308e-07, 'epoch': 3.99}\n",
      "{'train_runtime': 882.66, 'train_samples_per_second': 15.023, 'train_steps_per_second': 0.943, 'train_loss': 0.5797577287751035, 'epoch': 4.0}\n"
     ]
    },
    {
     "data": {
      "application/vnd.jupyter.widget-view+json": {
       "model_id": "45d6c8a33dac494dad3aa8d12ca3ea8a",
       "version_major": 2,
       "version_minor": 0
      },
      "text/plain": [
       "  0%|          | 0/415 [00:00<?, ?it/s]"
      ]
     },
     "metadata": {},
     "output_type": "display_data"
    },
    {
     "data": {
      "application/vnd.jupyter.widget-view+json": {
       "model_id": "c8441a5b18464404b17b204437742bcd",
       "version_major": 2,
       "version_minor": 0
      },
      "text/plain": [
       "  0%|          | 0/138 [00:00<?, ?it/s]"
      ]
     },
     "metadata": {},
     "output_type": "display_data"
    }
   ],
   "source": [
    "classifier.train()"
   ]
  },
  {
   "cell_type": "code",
   "execution_count": 12,
   "metadata": {},
   "outputs": [
    {
     "data": {
      "application/vnd.jupyter.widget-view+json": {
       "model_id": "a056d585abf3421493419003b0dbea27",
       "version_major": 2,
       "version_minor": 0
      },
      "text/plain": [
       "  0%|          | 0/138 [00:00<?, ?it/s]"
      ]
     },
     "metadata": {},
     "output_type": "display_data"
    },
    {
     "data": {
      "text/plain": [
       "{'test_loss': 0.31672629714012146,\n",
       " 'test_accuracy': 0.9190909090909091,\n",
       " 'test_weighted_precision': 0.9226349860365419,\n",
       " 'test_weighted_recall': 0.9190909090909091,\n",
       " 'test_weighted_f1': 0.9196840112779854,\n",
       " 'test_macro_precision': 0.9209988622014037,\n",
       " 'test_macro_recall': 0.9171429789226044,\n",
       " 'test_macro_f1': 0.9178701195499165,\n",
       " 'test_micro_precision': 0.9190909090909091,\n",
       " 'test_micro_recall': 0.9190909090909091,\n",
       " 'test_micro_f1': 0.9190909090909091,\n",
       " 'test_mcc': 0.9156606096945809,\n",
       " 'test_samples_per_second': 53.286,\n",
       " 'test_steps_per_second': 6.685,\n",
       " 'epoch': 4.0,\n",
       " 'test_inference_time': 0.01876672727272727}"
      ]
     },
     "execution_count": 12,
     "metadata": {},
     "output_type": "execute_result"
    }
   ],
   "source": [
    "classifier.evaluate()"
   ]
  },
  {
   "cell_type": "code",
   "execution_count": 13,
   "metadata": {},
   "outputs": [],
   "source": [
    "# save model\n",
    "classifier.save_classifier()"
   ]
  },
  {
   "cell_type": "code",
   "execution_count": 15,
   "metadata": {},
   "outputs": [
    {
     "name": "stderr",
     "output_type": "stream",
     "text": [
      "Some weights of ViTForImageClassification were not initialized from the model checkpoint at google/vit-base-patch16-224 and are newly initialized because the shapes did not match:\n",
      "- classifier.bias: found shape torch.Size([1000]) in the checkpoint and torch.Size([24]) in the model instantiated\n",
      "- classifier.weight: found shape torch.Size([1000, 768]) in the checkpoint and torch.Size([24, 768]) in the model instantiated\n",
      "You should probably TRAIN this model on a down-stream task to be able to use it for predictions and inference.\n"
     ]
    }
   ],
   "source": [
    "classifier2 = TransformersFTClassifier(\n",
    "    model_name=model_names[1], \n",
    "    output_dir=f\"models/model_{model_names[1]}_finetuned\",\n",
    "    device = device,\n",
    "    data_path=\"data/img\",\n",
    "    seed=42,\n",
    "    per_device_train_batch_size=16,\n",
    "    evaluation_strategy=\"steps\",\n",
    "    num_train_epochs=4,\n",
    "    save_steps=100,\n",
    "    eval_steps=100,\n",
    "    logging_steps=10,\n",
    "    learning_rate=2e-4,\n",
    "    save_total_limit=2,\n",
    "    remove_unused_columns=False,\n",
    "    push_to_hub=False,\n",
    "    load_best_model_at_end=True\n",
    ")"
   ]
  },
  {
   "cell_type": "code",
   "execution_count": 16,
   "metadata": {},
   "outputs": [
    {
     "name": "stdout",
     "output_type": "stream",
     "text": [
      "Using MLflow experiment: Fine_Tuning\n"
     ]
    },
    {
     "data": {
      "application/vnd.jupyter.widget-view+json": {
       "model_id": "0e12cb82e4ed4d149d2012bb443b152f",
       "version_major": 2,
       "version_minor": 0
      },
      "text/plain": [
       "  0%|          | 0/832 [00:00<?, ?it/s]"
      ]
     },
     "metadata": {},
     "output_type": "display_data"
    },
    {
     "name": "stdout",
     "output_type": "stream",
     "text": [
      "{'loss': 3.1504, 'grad_norm': 8.003792762756348, 'learning_rate': 0.00019759615384615386, 'epoch': 0.05}\n",
      "{'loss': 2.3063, 'grad_norm': 8.314798355102539, 'learning_rate': 0.0001951923076923077, 'epoch': 0.1}\n",
      "{'loss': 1.8279, 'grad_norm': 7.524439811706543, 'learning_rate': 0.00019278846153846155, 'epoch': 0.14}\n",
      "{'loss': 1.3876, 'grad_norm': 7.388338565826416, 'learning_rate': 0.00019038461538461538, 'epoch': 0.19}\n",
      "{'loss': 1.1249, 'grad_norm': 6.0890984535217285, 'learning_rate': 0.00018798076923076925, 'epoch': 0.24}\n",
      "{'loss': 0.8072, 'grad_norm': 5.951855659484863, 'learning_rate': 0.0001855769230769231, 'epoch': 0.29}\n",
      "{'loss': 0.833, 'grad_norm': 5.557530403137207, 'learning_rate': 0.00018317307692307692, 'epoch': 0.34}\n",
      "{'loss': 0.6305, 'grad_norm': 6.82830810546875, 'learning_rate': 0.00018076923076923077, 'epoch': 0.38}\n",
      "{'loss': 0.8528, 'grad_norm': 8.414764404296875, 'learning_rate': 0.00017836538461538464, 'epoch': 0.43}\n",
      "{'loss': 0.8095, 'grad_norm': 4.762779712677002, 'learning_rate': 0.00017596153846153846, 'epoch': 0.48}\n"
     ]
    },
    {
     "data": {
      "application/vnd.jupyter.widget-view+json": {
       "model_id": "e10cdace4337472c950e0606d0c830f3",
       "version_major": 2,
       "version_minor": 0
      },
      "text/plain": [
       "  0%|          | 0/138 [00:00<?, ?it/s]"
      ]
     },
     "metadata": {},
     "output_type": "display_data"
    },
    {
     "name": "stdout",
     "output_type": "stream",
     "text": [
      "{'eval_loss': 0.6520064473152161, 'eval_accuracy': 0.7930720145852325, 'eval_weighted_precision': 0.8188474321680046, 'eval_weighted_recall': 0.7930720145852325, 'eval_weighted_f1': 0.787169133614011, 'eval_macro_precision': 0.8162834353005249, 'eval_macro_recall': 0.791656771317571, 'eval_macro_f1': 0.7859640172006315, 'eval_micro_precision': 0.7930720145852325, 'eval_micro_recall': 0.7930720145852325, 'eval_micro_f1': 0.7930720145852325, 'eval_mcc': 0.7858079165807201, 'eval_runtime': 20.1246, 'eval_samples_per_second': 54.51, 'eval_steps_per_second': 6.857, 'epoch': 0.48}\n",
      "{'loss': 0.6575, 'grad_norm': 8.19437313079834, 'learning_rate': 0.0001735576923076923, 'epoch': 0.53}\n",
      "{'loss': 0.4592, 'grad_norm': 4.706348896026611, 'learning_rate': 0.00017115384615384616, 'epoch': 0.58}\n",
      "{'loss': 0.6576, 'grad_norm': 5.837750434875488, 'learning_rate': 0.00016875, 'epoch': 0.62}\n",
      "{'loss': 0.6007, 'grad_norm': 2.7818875312805176, 'learning_rate': 0.00016634615384615386, 'epoch': 0.67}\n",
      "{'loss': 0.428, 'grad_norm': 3.0366878509521484, 'learning_rate': 0.0001639423076923077, 'epoch': 0.72}\n",
      "{'loss': 0.6226, 'grad_norm': 7.50129508972168, 'learning_rate': 0.00016153846153846155, 'epoch': 0.77}\n",
      "{'loss': 0.6513, 'grad_norm': 5.289599418640137, 'learning_rate': 0.00015913461538461537, 'epoch': 0.82}\n",
      "{'loss': 0.4399, 'grad_norm': 4.791721343994141, 'learning_rate': 0.00015673076923076925, 'epoch': 0.87}\n",
      "{'loss': 0.491, 'grad_norm': 7.573885917663574, 'learning_rate': 0.0001543269230769231, 'epoch': 0.91}\n",
      "{'loss': 0.6505, 'grad_norm': 6.70147705078125, 'learning_rate': 0.00015192307692307692, 'epoch': 0.96}\n"
     ]
    },
    {
     "data": {
      "application/vnd.jupyter.widget-view+json": {
       "model_id": "4a38ca2de0a040fa8736f7c41e143581",
       "version_major": 2,
       "version_minor": 0
      },
      "text/plain": [
       "  0%|          | 0/138 [00:00<?, ?it/s]"
      ]
     },
     "metadata": {},
     "output_type": "display_data"
    },
    {
     "name": "stdout",
     "output_type": "stream",
     "text": [
      "{'eval_loss': 0.3913351595401764, 'eval_accuracy': 0.8751139471285324, 'eval_weighted_precision': 0.8846040250548081, 'eval_weighted_recall': 0.8751139471285324, 'eval_weighted_f1': 0.8740442848702106, 'eval_macro_precision': 0.8834826301636469, 'eval_macro_recall': 0.87177142747678, 'eval_macro_f1': 0.8714246067901869, 'eval_micro_precision': 0.8751139471285324, 'eval_micro_recall': 0.8751139471285324, 'eval_micro_f1': 0.8751139471285324, 'eval_mcc': 0.870259304724796, 'eval_runtime': 21.4027, 'eval_samples_per_second': 51.255, 'eval_steps_per_second': 6.448, 'epoch': 0.96}\n",
      "{'loss': 0.3521, 'grad_norm': 4.639472007751465, 'learning_rate': 0.00014951923076923077, 'epoch': 1.01}\n",
      "{'loss': 0.3529, 'grad_norm': 4.23844575881958, 'learning_rate': 0.00014711538461538464, 'epoch': 1.06}\n",
      "{'loss': 0.3338, 'grad_norm': 5.2563652992248535, 'learning_rate': 0.00014471153846153846, 'epoch': 1.11}\n",
      "{'loss': 0.2811, 'grad_norm': 4.60119104385376, 'learning_rate': 0.0001423076923076923, 'epoch': 1.15}\n",
      "{'loss': 0.2869, 'grad_norm': 3.6481375694274902, 'learning_rate': 0.00013990384615384616, 'epoch': 1.2}\n",
      "{'loss': 0.3206, 'grad_norm': 3.5534908771514893, 'learning_rate': 0.0001375, 'epoch': 1.25}\n",
      "{'loss': 0.2476, 'grad_norm': 5.340018272399902, 'learning_rate': 0.00013509615384615386, 'epoch': 1.3}\n",
      "{'loss': 0.2812, 'grad_norm': 3.0323801040649414, 'learning_rate': 0.0001326923076923077, 'epoch': 1.35}\n",
      "{'loss': 0.2102, 'grad_norm': 3.3592424392700195, 'learning_rate': 0.00013028846153846155, 'epoch': 1.39}\n",
      "{'loss': 0.2892, 'grad_norm': 2.555790662765503, 'learning_rate': 0.00012788461538461537, 'epoch': 1.44}\n"
     ]
    },
    {
     "data": {
      "application/vnd.jupyter.widget-view+json": {
       "model_id": "9e329887cbd6442e974e0e1d6c8ef8ac",
       "version_major": 2,
       "version_minor": 0
      },
      "text/plain": [
       "  0%|          | 0/138 [00:00<?, ?it/s]"
      ]
     },
     "metadata": {},
     "output_type": "display_data"
    },
    {
     "name": "stdout",
     "output_type": "stream",
     "text": [
      "{'eval_loss': 0.44111719727516174, 'eval_accuracy': 0.8687329079307201, 'eval_weighted_precision': 0.8829815534589112, 'eval_weighted_recall': 0.8687329079307201, 'eval_weighted_f1': 0.8692954997285882, 'eval_macro_precision': 0.8818126474627951, 'eval_macro_recall': 0.8659905501627455, 'eval_macro_f1': 0.8671931439341378, 'eval_micro_precision': 0.8687329079307201, 'eval_micro_recall': 0.8687329079307201, 'eval_micro_f1': 0.8687329079307201, 'eval_mcc': 0.8637603464020956, 'eval_runtime': 21.5652, 'eval_samples_per_second': 50.869, 'eval_steps_per_second': 6.399, 'epoch': 1.44}\n",
      "{'loss': 0.3918, 'grad_norm': 2.285423994064331, 'learning_rate': 0.00012548076923076922, 'epoch': 1.49}\n",
      "{'loss': 0.2173, 'grad_norm': 2.427133798599243, 'learning_rate': 0.0001230769230769231, 'epoch': 1.54}\n",
      "{'loss': 0.2556, 'grad_norm': 7.484405994415283, 'learning_rate': 0.00012067307692307692, 'epoch': 1.59}\n",
      "{'loss': 0.2366, 'grad_norm': 5.1674346923828125, 'learning_rate': 0.00011826923076923078, 'epoch': 1.63}\n",
      "{'loss': 0.2833, 'grad_norm': 5.945674419403076, 'learning_rate': 0.00011586538461538463, 'epoch': 1.68}\n",
      "{'loss': 0.2215, 'grad_norm': 4.9308905601501465, 'learning_rate': 0.00011346153846153846, 'epoch': 1.73}\n",
      "{'loss': 0.3268, 'grad_norm': 3.817000150680542, 'learning_rate': 0.00011105769230769232, 'epoch': 1.78}\n",
      "{'loss': 0.2535, 'grad_norm': 4.070425987243652, 'learning_rate': 0.00010865384615384615, 'epoch': 1.83}\n",
      "{'loss': 0.2089, 'grad_norm': 0.3076108992099762, 'learning_rate': 0.00010625000000000001, 'epoch': 1.88}\n",
      "{'loss': 0.2358, 'grad_norm': 5.145873546600342, 'learning_rate': 0.00010384615384615386, 'epoch': 1.92}\n"
     ]
    },
    {
     "data": {
      "application/vnd.jupyter.widget-view+json": {
       "model_id": "53450087f4dc43b5b888177dd97ea83b",
       "version_major": 2,
       "version_minor": 0
      },
      "text/plain": [
       "  0%|          | 0/138 [00:00<?, ?it/s]"
      ]
     },
     "metadata": {},
     "output_type": "display_data"
    },
    {
     "name": "stdout",
     "output_type": "stream",
     "text": [
      "{'eval_loss': 0.30664217472076416, 'eval_accuracy': 0.9070191431175935, 'eval_weighted_precision': 0.9114216759410919, 'eval_weighted_recall': 0.9070191431175935, 'eval_weighted_f1': 0.9076644235128056, 'eval_macro_precision': 0.9088509738198001, 'eval_macro_recall': 0.9060403498239755, 'eval_macro_f1': 0.9058211661441815, 'eval_micro_precision': 0.9070191431175935, 'eval_micro_recall': 0.9070191431175935, 'eval_micro_f1': 0.9070191431175935, 'eval_mcc': 0.903096736877776, 'eval_runtime': 21.3329, 'eval_samples_per_second': 51.423, 'eval_steps_per_second': 6.469, 'epoch': 1.92}\n",
      "{'loss': 0.137, 'grad_norm': 0.29592806100845337, 'learning_rate': 0.00010144230769230769, 'epoch': 1.97}\n",
      "{'loss': 0.1257, 'grad_norm': 2.433290481567383, 'learning_rate': 9.903846153846155e-05, 'epoch': 2.02}\n",
      "{'loss': 0.1156, 'grad_norm': 5.2588114738464355, 'learning_rate': 9.663461538461539e-05, 'epoch': 2.07}\n",
      "{'loss': 0.0258, 'grad_norm': 0.7054597735404968, 'learning_rate': 9.423076923076924e-05, 'epoch': 2.12}\n",
      "{'loss': 0.0616, 'grad_norm': 0.12736977636814117, 'learning_rate': 9.182692307692308e-05, 'epoch': 2.16}\n",
      "{'loss': 0.0871, 'grad_norm': 1.4882420301437378, 'learning_rate': 8.942307692307693e-05, 'epoch': 2.21}\n",
      "{'loss': 0.1221, 'grad_norm': 2.677204132080078, 'learning_rate': 8.701923076923078e-05, 'epoch': 2.26}\n",
      "{'loss': 0.0639, 'grad_norm': 0.6861194372177124, 'learning_rate': 8.461538461538461e-05, 'epoch': 2.31}\n",
      "{'loss': 0.0614, 'grad_norm': 0.6711294651031494, 'learning_rate': 8.221153846153846e-05, 'epoch': 2.36}\n",
      "{'loss': 0.0992, 'grad_norm': 2.0446228981018066, 'learning_rate': 7.980769230769231e-05, 'epoch': 2.4}\n"
     ]
    },
    {
     "data": {
      "application/vnd.jupyter.widget-view+json": {
       "model_id": "ef38eedb8e9c4b60b23d344597abf718",
       "version_major": 2,
       "version_minor": 0
      },
      "text/plain": [
       "  0%|          | 0/138 [00:00<?, ?it/s]"
      ]
     },
     "metadata": {},
     "output_type": "display_data"
    },
    {
     "name": "stdout",
     "output_type": "stream",
     "text": [
      "{'eval_loss': 0.4297318160533905, 'eval_accuracy': 0.886052871467639, 'eval_weighted_precision': 0.8957992133773723, 'eval_weighted_recall': 0.886052871467639, 'eval_weighted_f1': 0.8869636156967996, 'eval_macro_precision': 0.8927275069251651, 'eval_macro_recall': 0.8857178854469602, 'eval_macro_f1': 0.885160153594641, 'eval_micro_precision': 0.886052871467639, 'eval_micro_recall': 0.886052871467639, 'eval_micro_f1': 0.886052871467639, 'eval_mcc': 0.8814533588816348, 'eval_runtime': 20.9369, 'eval_samples_per_second': 52.395, 'eval_steps_per_second': 6.591, 'epoch': 2.4}\n",
      "{'loss': 0.0228, 'grad_norm': 0.058395933359861374, 'learning_rate': 7.740384615384616e-05, 'epoch': 2.45}\n",
      "{'loss': 0.0395, 'grad_norm': 0.5569353699684143, 'learning_rate': 7.500000000000001e-05, 'epoch': 2.5}\n",
      "{'loss': 0.0502, 'grad_norm': 1.017472267150879, 'learning_rate': 7.259615384615384e-05, 'epoch': 2.55}\n",
      "{'loss': 0.0339, 'grad_norm': 0.2182193249464035, 'learning_rate': 7.019230769230769e-05, 'epoch': 2.6}\n",
      "{'loss': 0.046, 'grad_norm': 1.7103623151779175, 'learning_rate': 6.778846153846155e-05, 'epoch': 2.64}\n",
      "{'loss': 0.0663, 'grad_norm': 1.983289122581482, 'learning_rate': 6.538461538461539e-05, 'epoch': 2.69}\n",
      "{'loss': 0.0264, 'grad_norm': 0.11000983417034149, 'learning_rate': 6.298076923076923e-05, 'epoch': 2.74}\n",
      "{'loss': 0.1144, 'grad_norm': 4.587395191192627, 'learning_rate': 6.0576923076923076e-05, 'epoch': 2.79}\n",
      "{'loss': 0.0982, 'grad_norm': 2.833505153656006, 'learning_rate': 5.817307692307693e-05, 'epoch': 2.84}\n",
      "{'loss': 0.0353, 'grad_norm': 1.1826997995376587, 'learning_rate': 5.576923076923077e-05, 'epoch': 2.88}\n"
     ]
    },
    {
     "data": {
      "application/vnd.jupyter.widget-view+json": {
       "model_id": "8b83273a93dc4c54a5e847678876ba13",
       "version_major": 2,
       "version_minor": 0
      },
      "text/plain": [
       "  0%|          | 0/138 [00:00<?, ?it/s]"
      ]
     },
     "metadata": {},
     "output_type": "display_data"
    },
    {
     "name": "stdout",
     "output_type": "stream",
     "text": [
      "{'eval_loss': 0.3077176809310913, 'eval_accuracy': 0.9143117593436645, 'eval_weighted_precision': 0.9171163287014389, 'eval_weighted_recall': 0.9143117593436645, 'eval_weighted_f1': 0.9138833180467111, 'eval_macro_precision': 0.9152190231659452, 'eval_macro_recall': 0.9137742494172018, 'eval_macro_f1': 0.9126340870475728, 'eval_micro_precision': 0.9143117593436645, 'eval_micro_recall': 0.9143117593436645, 'eval_micro_f1': 0.9143117593436645, 'eval_mcc': 0.9107304002155014, 'eval_runtime': 21.391, 'eval_samples_per_second': 51.283, 'eval_steps_per_second': 6.451, 'epoch': 2.88}\n",
      "{'loss': 0.0274, 'grad_norm': 1.0120065212249756, 'learning_rate': 5.336538461538462e-05, 'epoch': 2.93}\n",
      "{'loss': 0.0433, 'grad_norm': 0.1424020379781723, 'learning_rate': 5.096153846153846e-05, 'epoch': 2.98}\n",
      "{'loss': 0.0146, 'grad_norm': 0.03258059173822403, 'learning_rate': 4.855769230769231e-05, 'epoch': 3.03}\n",
      "{'loss': 0.0095, 'grad_norm': 0.03313513845205307, 'learning_rate': 4.615384615384616e-05, 'epoch': 3.08}\n",
      "{'loss': 0.0076, 'grad_norm': 0.8090329170227051, 'learning_rate': 4.375e-05, 'epoch': 3.12}\n",
      "{'loss': 0.0055, 'grad_norm': 0.07924412935972214, 'learning_rate': 4.134615384615385e-05, 'epoch': 3.17}\n",
      "{'loss': 0.0267, 'grad_norm': 0.038520775735378265, 'learning_rate': 3.8942307692307696e-05, 'epoch': 3.22}\n",
      "{'loss': 0.0061, 'grad_norm': 0.04032626375555992, 'learning_rate': 3.653846153846154e-05, 'epoch': 3.27}\n",
      "{'loss': 0.0059, 'grad_norm': 1.0835081338882446, 'learning_rate': 3.4134615384615386e-05, 'epoch': 3.32}\n",
      "{'loss': 0.0076, 'grad_norm': 0.03402290493249893, 'learning_rate': 3.1730769230769234e-05, 'epoch': 3.37}\n"
     ]
    },
    {
     "data": {
      "application/vnd.jupyter.widget-view+json": {
       "model_id": "5c86e5becfe14d10a41ab75ca2fd29c4",
       "version_major": 2,
       "version_minor": 0
      },
      "text/plain": [
       "  0%|          | 0/138 [00:00<?, ?it/s]"
      ]
     },
     "metadata": {},
     "output_type": "display_data"
    },
    {
     "name": "stdout",
     "output_type": "stream",
     "text": [
      "{'eval_loss': 0.29036280512809753, 'eval_accuracy': 0.9179580674567, 'eval_weighted_precision': 0.920976307767836, 'eval_weighted_recall': 0.9179580674567, 'eval_weighted_f1': 0.9183088109974199, 'eval_macro_precision': 0.9181308803238891, 'eval_macro_recall': 0.9168279281801128, 'eval_macro_f1': 0.91625406262813, 'eval_micro_precision': 0.9179580674567, 'eval_micro_recall': 0.9179580674567, 'eval_micro_f1': 0.9179580674567, 'eval_mcc': 0.9144754650465812, 'eval_runtime': 20.685, 'eval_samples_per_second': 53.034, 'eval_steps_per_second': 6.672, 'epoch': 3.37}\n",
      "{'loss': 0.0066, 'grad_norm': 0.046790000051259995, 'learning_rate': 2.932692307692308e-05, 'epoch': 3.41}\n",
      "{'loss': 0.012, 'grad_norm': 0.27264055609703064, 'learning_rate': 2.6923076923076923e-05, 'epoch': 3.46}\n",
      "{'loss': 0.0054, 'grad_norm': 0.09064768999814987, 'learning_rate': 2.4519230769230768e-05, 'epoch': 3.51}\n",
      "{'loss': 0.0049, 'grad_norm': 0.051125939935445786, 'learning_rate': 2.2115384615384616e-05, 'epoch': 3.56}\n",
      "{'loss': 0.0134, 'grad_norm': 0.0291267279535532, 'learning_rate': 1.971153846153846e-05, 'epoch': 3.61}\n",
      "{'loss': 0.0114, 'grad_norm': 0.0848187580704689, 'learning_rate': 1.730769230769231e-05, 'epoch': 3.65}\n",
      "{'loss': 0.0038, 'grad_norm': 0.032001793384552, 'learning_rate': 1.4903846153846154e-05, 'epoch': 3.7}\n",
      "{'loss': 0.0134, 'grad_norm': 2.2735447883605957, 'learning_rate': 1.25e-05, 'epoch': 3.75}\n",
      "{'loss': 0.021, 'grad_norm': 0.3128269612789154, 'learning_rate': 1.0096153846153847e-05, 'epoch': 3.8}\n",
      "{'loss': 0.0031, 'grad_norm': 0.013454915955662727, 'learning_rate': 7.692307692307694e-06, 'epoch': 3.85}\n"
     ]
    },
    {
     "data": {
      "application/vnd.jupyter.widget-view+json": {
       "model_id": "ba5ad5d335d2429eaa65dafbf0233ee9",
       "version_major": 2,
       "version_minor": 0
      },
      "text/plain": [
       "  0%|          | 0/138 [00:00<?, ?it/s]"
      ]
     },
     "metadata": {},
     "output_type": "display_data"
    },
    {
     "name": "stdout",
     "output_type": "stream",
     "text": [
      "{'eval_loss': 0.28099191188812256, 'eval_accuracy': 0.9216043755697356, 'eval_weighted_precision': 0.9236391623371746, 'eval_weighted_recall': 0.9216043755697356, 'eval_weighted_f1': 0.9220282705752684, 'eval_macro_precision': 0.9212421449776979, 'eval_macro_recall': 0.9209147146018246, 'eval_macro_f1': 0.9204377784255323, 'eval_micro_precision': 0.9216043755697356, 'eval_micro_recall': 0.9216043755697356, 'eval_micro_f1': 0.9216043755697356, 'eval_mcc': 0.9182320664565513, 'eval_runtime': 20.3217, 'eval_samples_per_second': 53.982, 'eval_steps_per_second': 6.791, 'epoch': 3.85}\n",
      "{'loss': 0.0039, 'grad_norm': 0.07974091172218323, 'learning_rate': 5.288461538461538e-06, 'epoch': 3.89}\n",
      "{'loss': 0.002, 'grad_norm': 0.0384589359164238, 'learning_rate': 2.884615384615385e-06, 'epoch': 3.94}\n",
      "{'loss': 0.0027, 'grad_norm': 0.08888247609138489, 'learning_rate': 4.807692307692308e-07, 'epoch': 3.99}\n",
      "{'train_runtime': 884.901, 'train_samples_per_second': 14.985, 'train_steps_per_second': 0.94, 'train_loss': 0.3205003964952854, 'epoch': 4.0}\n"
     ]
    },
    {
     "data": {
      "application/vnd.jupyter.widget-view+json": {
       "model_id": "1de6b840bf9e4c169eb407f862a1d841",
       "version_major": 2,
       "version_minor": 0
      },
      "text/plain": [
       "  0%|          | 0/415 [00:00<?, ?it/s]"
      ]
     },
     "metadata": {},
     "output_type": "display_data"
    },
    {
     "data": {
      "application/vnd.jupyter.widget-view+json": {
       "model_id": "aeabf2c34790444990bd37699bf49a78",
       "version_major": 2,
       "version_minor": 0
      },
      "text/plain": [
       "  0%|          | 0/138 [00:00<?, ?it/s]"
      ]
     },
     "metadata": {},
     "output_type": "display_data"
    }
   ],
   "source": [
    "classifier2.train()"
   ]
  },
  {
   "cell_type": "code",
   "execution_count": 19,
   "metadata": {},
   "outputs": [],
   "source": [
    "classifier2.save_classifier()"
   ]
  },
  {
   "cell_type": "code",
   "execution_count": 18,
   "metadata": {},
   "outputs": [
    {
     "data": {
      "application/vnd.jupyter.widget-view+json": {
       "model_id": "1df411256d614cd4b3669ffaed70b132",
       "version_major": 2,
       "version_minor": 0
      },
      "text/plain": [
       "preprocessor_config.json:   0%|          | 0.00/276 [00:00<?, ?B/s]"
      ]
     },
     "metadata": {},
     "output_type": "display_data"
    },
    {
     "name": "stderr",
     "output_type": "stream",
     "text": [
      "c:\\Users\\RAZER\\AppData\\Local\\Programs\\Python\\Python310\\lib\\site-packages\\huggingface_hub\\file_download.py:149: UserWarning: `huggingface_hub` cache-system uses symlinks by default to efficiently store duplicated files but your machine does not support them in C:\\Users\\RAZER\\.cache\\huggingface\\hub\\models--microsoft--beit-base-patch16-224-pt22k-ft22k. Caching files will still work but in a degraded version that might require more space on your disk. This warning can be disabled by setting the `HF_HUB_DISABLE_SYMLINKS_WARNING` environment variable. For more details, see https://huggingface.co/docs/huggingface_hub/how-to-cache#limitations.\n",
      "To support symlinks on Windows, you either need to activate Developer Mode or to run Python as an administrator. In order to see activate developer mode, see this article: https://docs.microsoft.com/en-us/windows/apps/get-started/enable-your-device-for-development\n",
      "  warnings.warn(message)\n",
      "Could not find image processor class in the image processor config or the model config. Loading based on pattern matching with the model's feature extractor configuration. Please open a PR/issue to update `preprocessor_config.json` to use `image_processor_type` instead of `feature_extractor_type`. This warning will be removed in v4.40.\n"
     ]
    },
    {
     "data": {
      "application/vnd.jupyter.widget-view+json": {
       "model_id": "f539c32bd79545e1a749e6fcdc696b68",
       "version_major": 2,
       "version_minor": 0
      },
      "text/plain": [
       "config.json:   0%|          | 0.00/1.67M [00:00<?, ?B/s]"
      ]
     },
     "metadata": {},
     "output_type": "display_data"
    },
    {
     "data": {
      "application/vnd.jupyter.widget-view+json": {
       "model_id": "abde7d2292f74ace8e35d085ed3f6072",
       "version_major": 2,
       "version_minor": 0
      },
      "text/plain": [
       "pytorch_model.bin:   0%|          | 0.00/414M [00:00<?, ?B/s]"
      ]
     },
     "metadata": {},
     "output_type": "display_data"
    },
    {
     "name": "stderr",
     "output_type": "stream",
     "text": [
      "Some weights of BeitForImageClassification were not initialized from the model checkpoint at microsoft/beit-base-patch16-224-pt22k-ft22k and are newly initialized because the shapes did not match:\n",
      "- classifier.weight: found shape torch.Size([21841, 768]) in the checkpoint and torch.Size([24, 768]) in the model instantiated\n",
      "- classifier.bias: found shape torch.Size([21841]) in the checkpoint and torch.Size([24]) in the model instantiated\n",
      "You should probably TRAIN this model on a down-stream task to be able to use it for predictions and inference.\n"
     ]
    }
   ],
   "source": [
    "classifier3 = TransformersFTClassifier(\n",
    "    model_name=model_names[2], \n",
    "    output_dir=f\"models/model_{model_names[2]}_finetuned\",\n",
    "    device = device,\n",
    "    data_path=\"data/img\",\n",
    "    seed=42,\n",
    "    per_device_train_batch_size=16,\n",
    "    evaluation_strategy=\"steps\",\n",
    "    num_train_epochs=4,\n",
    "    save_steps=100,\n",
    "    eval_steps=100,\n",
    "    logging_steps=10,\n",
    "    learning_rate=2e-4,\n",
    "    save_total_limit=2,\n",
    "    remove_unused_columns=False,\n",
    "    push_to_hub=False,\n",
    "    load_best_model_at_end=True\n",
    ")"
   ]
  },
  {
   "cell_type": "code",
   "execution_count": 20,
   "metadata": {},
   "outputs": [
    {
     "name": "stdout",
     "output_type": "stream",
     "text": [
      "Using MLflow experiment: Fine_Tuning\n"
     ]
    },
    {
     "data": {
      "application/vnd.jupyter.widget-view+json": {
       "model_id": "0185af244b2b4e5ca5e258a62b09329b",
       "version_major": 2,
       "version_minor": 0
      },
      "text/plain": [
       "  0%|          | 0/832 [00:00<?, ?it/s]"
      ]
     },
     "metadata": {},
     "output_type": "display_data"
    },
    {
     "name": "stdout",
     "output_type": "stream",
     "text": [
      "{'loss': 3.3863, 'grad_norm': 6.917953968048096, 'learning_rate': 0.00019759615384615386, 'epoch': 0.05}\n"
     ]
    }
   ],
   "source": [
    "classifier3.train()"
   ]
  },
  {
   "cell_type": "code",
   "execution_count": null,
   "metadata": {},
   "outputs": [],
   "source": [
    "classifier3.save_classifier()"
   ]
  },
  {
   "cell_type": "code",
   "execution_count": null,
   "metadata": {},
   "outputs": [],
   "source": []
  }
 ],
 "metadata": {
  "kernelspec": {
   "display_name": "cloudspace",
   "language": "python",
   "name": "python3"
  },
  "language_info": {
   "codemirror_mode": {
    "name": "ipython",
    "version": 3
   },
   "file_extension": ".py",
   "mimetype": "text/x-python",
   "name": "python",
   "nbconvert_exporter": "python",
   "pygments_lexer": "ipython3",
   "version": "3.10.0"
  }
 },
 "nbformat": 4,
 "nbformat_minor": 2
}
