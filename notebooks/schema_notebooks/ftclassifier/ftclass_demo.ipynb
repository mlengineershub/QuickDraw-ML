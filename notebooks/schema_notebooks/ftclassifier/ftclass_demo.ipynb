{
 "cells": [
  {
   "cell_type": "code",
   "execution_count": 4,
   "metadata": {},
   "outputs": [
    {
     "name": "stdout",
     "output_type": "stream",
     "text": [
      "c:\\Users\\RAZER\\Desktop\\QuickDraw-ML\n"
     ]
    }
   ],
   "source": [
    "cd ../.."
   ]
  },
  {
   "cell_type": "code",
   "execution_count": 42,
   "metadata": {},
   "outputs": [],
   "source": [
    "from schema.training.ftclassifier import FTClassifier"
   ]
  },
  {
   "cell_type": "code",
   "execution_count": 41,
   "metadata": {},
   "outputs": [
    {
     "name": "stdout",
     "output_type": "stream",
     "text": [
      "cuda\n"
     ]
    }
   ],
   "source": [
    "import torch\n",
    "\n",
    "device = \"cuda\" if torch.cuda.is_available() else \"cpu\"\n",
    "\n",
    "print(device)"
   ]
  },
  {
   "cell_type": "code",
   "execution_count": 40,
   "metadata": {},
   "outputs": [],
   "source": [
    "model_names = [\"google/vit-base-patch16-224-in21k\", \"google/vit-base-patch16-224\"]"
   ]
  },
  {
   "cell_type": "code",
   "execution_count": 7,
   "metadata": {},
   "outputs": [
    {
     "name": "stderr",
     "output_type": "stream",
     "text": [
      "Some weights of ViTForImageClassification were not initialized from the model checkpoint at google/vit-base-patch16-224-in21k and are newly initialized: ['classifier.bias', 'classifier.weight']\n",
      "You should probably TRAIN this model on a down-stream task to be able to use it for predictions and inference.\n"
     ]
    }
   ],
   "source": [
    "classifier = FTClassifier(\n",
    "    model_name=model_names[0], \n",
    "    output_dir=f\"models/model_{model_names[0]}_finetuned\",\n",
    "    device = device,\n",
    "    data_path=\"data/img\",\n",
    "    seed=42,\n",
    "    per_device_train_batch_size=16,\n",
    "    evaluation_strategy=\"steps\",\n",
    "    num_train_epochs=4,\n",
    "    save_steps=100,\n",
    "    eval_steps=100,\n",
    "    logging_steps=10,\n",
    "    learning_rate=2e-4,\n",
    "    save_total_limit=2,\n",
    "    remove_unused_columns=False,\n",
    "    push_to_hub=False,\n",
    "    load_best_model_at_end=True\n",
    ")"
   ]
  },
  {
   "cell_type": "code",
   "execution_count": 11,
   "metadata": {},
   "outputs": [
    {
     "name": "stdout",
     "output_type": "stream",
     "text": [
      "Using MLflow experiment: Fine_Tuning\n"
     ]
    },
    {
     "data": {
      "application/vnd.jupyter.widget-view+json": {
       "model_id": "f788b9fc8bfe4835aa2f28c65ae29928",
       "version_major": 2,
       "version_minor": 0
      },
      "text/plain": [
       "  0%|          | 0/832 [00:00<?, ?it/s]"
      ]
     },
     "metadata": {},
     "output_type": "display_data"
    },
    {
     "name": "stdout",
     "output_type": "stream",
     "text": [
      "{'loss': 3.1821, 'grad_norm': 1.1452380418777466, 'learning_rate': 0.00019759615384615386, 'epoch': 0.05}\n",
      "{'loss': 3.0352, 'grad_norm': 2.0875344276428223, 'learning_rate': 0.0001951923076923077, 'epoch': 0.1}\n",
      "{'loss': 2.8693, 'grad_norm': 1.913527250289917, 'learning_rate': 0.00019278846153846155, 'epoch': 0.14}\n",
      "{'loss': 2.5844, 'grad_norm': 2.0478923320770264, 'learning_rate': 0.00019038461538461538, 'epoch': 0.19}\n",
      "{'loss': 2.3633, 'grad_norm': 2.149665355682373, 'learning_rate': 0.00018798076923076925, 'epoch': 0.24}\n",
      "{'loss': 2.0985, 'grad_norm': 2.449305772781372, 'learning_rate': 0.0001855769230769231, 'epoch': 0.29}\n",
      "{'loss': 1.838, 'grad_norm': 1.885445475578308, 'learning_rate': 0.00018317307692307692, 'epoch': 0.34}\n",
      "{'loss': 1.661, 'grad_norm': 2.2572710514068604, 'learning_rate': 0.00018076923076923077, 'epoch': 0.38}\n",
      "{'loss': 1.5395, 'grad_norm': 2.4659361839294434, 'learning_rate': 0.00017836538461538464, 'epoch': 0.43}\n",
      "{'loss': 1.5004, 'grad_norm': 2.6115798950195312, 'learning_rate': 0.00017596153846153846, 'epoch': 0.48}\n"
     ]
    },
    {
     "data": {
      "application/vnd.jupyter.widget-view+json": {
       "model_id": "15b619b8fa8f45e288215224745d6cb5",
       "version_major": 2,
       "version_minor": 0
      },
      "text/plain": [
       "  0%|          | 0/138 [00:00<?, ?it/s]"
      ]
     },
     "metadata": {},
     "output_type": "display_data"
    },
    {
     "name": "stdout",
     "output_type": "stream",
     "text": [
      "{'eval_loss': 1.371212363243103, 'eval_accuracy': 0.7484047402005469, 'eval_weighted_precision': 0.7863455256406982, 'eval_weighted_recall': 0.7484047402005469, 'eval_weighted_f1': 0.7201653099760646, 'eval_macro_precision': 0.7807677241051406, 'eval_macro_recall': 0.7476688960878747, 'eval_macro_f1': 0.7165059610567792, 'eval_micro_precision': 0.7484047402005469, 'eval_micro_recall': 0.7484047402005469, 'eval_micro_f1': 0.7484047402005469, 'eval_mcc': 0.7412371166496927, 'eval_runtime': 20.9872, 'eval_samples_per_second': 52.27, 'eval_steps_per_second': 6.575, 'epoch': 0.48}\n",
      "{'loss': 1.2873, 'grad_norm': 3.212782621383667, 'learning_rate': 0.0001735576923076923, 'epoch': 0.53}\n",
      "{'loss': 1.2687, 'grad_norm': 3.509838104248047, 'learning_rate': 0.00017115384615384616, 'epoch': 0.58}\n",
      "{'loss': 1.2299, 'grad_norm': 2.367821455001831, 'learning_rate': 0.00016875, 'epoch': 0.62}\n",
      "{'loss': 1.1756, 'grad_norm': 2.312678575515747, 'learning_rate': 0.00016634615384615386, 'epoch': 0.67}\n",
      "{'loss': 0.9531, 'grad_norm': 2.7184224128723145, 'learning_rate': 0.0001639423076923077, 'epoch': 0.72}\n",
      "{'loss': 1.0873, 'grad_norm': 4.934378147125244, 'learning_rate': 0.00016153846153846155, 'epoch': 0.77}\n",
      "{'loss': 0.9961, 'grad_norm': 2.1264657974243164, 'learning_rate': 0.00015913461538461537, 'epoch': 0.82}\n",
      "{'loss': 0.8014, 'grad_norm': 3.172287702560425, 'learning_rate': 0.00015673076923076925, 'epoch': 0.87}\n",
      "{'loss': 0.8204, 'grad_norm': 5.782342910766602, 'learning_rate': 0.0001543269230769231, 'epoch': 0.91}\n",
      "{'loss': 0.9572, 'grad_norm': 4.247413158416748, 'learning_rate': 0.00015192307692307692, 'epoch': 0.96}\n"
     ]
    },
    {
     "data": {
      "application/vnd.jupyter.widget-view+json": {
       "model_id": "711c06c4ed594db9b4a98b4b55533c3a",
       "version_major": 2,
       "version_minor": 0
      },
      "text/plain": [
       "  0%|          | 0/138 [00:00<?, ?it/s]"
      ]
     },
     "metadata": {},
     "output_type": "display_data"
    },
    {
     "name": "stdout",
     "output_type": "stream",
     "text": [
      "{'eval_loss': 0.778333306312561, 'eval_accuracy': 0.8614402917046491, 'eval_weighted_precision': 0.873964327029215, 'eval_weighted_recall': 0.8614402917046491, 'eval_weighted_f1': 0.8598047182417999, 'eval_macro_precision': 0.871943704982218, 'eval_macro_recall': 0.8587169300043221, 'eval_macro_f1': 0.8571843519452732, 'eval_micro_precision': 0.8614402917046491, 'eval_micro_recall': 0.8614402917046491, 'eval_micro_f1': 0.8614402917046491, 'eval_mcc': 0.8561417919501532, 'eval_runtime': 21.3797, 'eval_samples_per_second': 51.31, 'eval_steps_per_second': 6.455, 'epoch': 0.96}\n",
      "{'loss': 0.6745, 'grad_norm': 2.216831922531128, 'learning_rate': 0.00014951923076923077, 'epoch': 1.01}\n",
      "{'loss': 0.6596, 'grad_norm': 3.091648578643799, 'learning_rate': 0.00014711538461538464, 'epoch': 1.06}\n",
      "{'loss': 0.704, 'grad_norm': 2.642287492752075, 'learning_rate': 0.00014471153846153846, 'epoch': 1.11}\n",
      "{'loss': 0.5604, 'grad_norm': 3.209960460662842, 'learning_rate': 0.0001423076923076923, 'epoch': 1.15}\n",
      "{'loss': 0.5104, 'grad_norm': 3.3434479236602783, 'learning_rate': 0.00013990384615384616, 'epoch': 1.2}\n",
      "{'loss': 0.4632, 'grad_norm': 1.323185920715332, 'learning_rate': 0.0001375, 'epoch': 1.25}\n",
      "{'loss': 0.558, 'grad_norm': 3.5202279090881348, 'learning_rate': 0.00013509615384615386, 'epoch': 1.3}\n",
      "{'loss': 0.5318, 'grad_norm': 1.1564682722091675, 'learning_rate': 0.0001326923076923077, 'epoch': 1.35}\n",
      "{'loss': 0.431, 'grad_norm': 2.5881857872009277, 'learning_rate': 0.00013028846153846155, 'epoch': 1.39}\n",
      "{'loss': 0.5171, 'grad_norm': 3.512590169906616, 'learning_rate': 0.00012788461538461537, 'epoch': 1.44}\n"
     ]
    },
    {
     "data": {
      "application/vnd.jupyter.widget-view+json": {
       "model_id": "8952be57c64341e9ac5a1184c7a9ba3d",
       "version_major": 2,
       "version_minor": 0
      },
      "text/plain": [
       "  0%|          | 0/138 [00:00<?, ?it/s]"
      ]
     },
     "metadata": {},
     "output_type": "display_data"
    },
    {
     "name": "stdout",
     "output_type": "stream",
     "text": [
      "{'eval_loss': 0.5875347256660461, 'eval_accuracy': 0.8696444849589791, 'eval_weighted_precision': 0.8839116570940863, 'eval_weighted_recall': 0.8696444849589791, 'eval_weighted_f1': 0.8703178736991363, 'eval_macro_precision': 0.8797775073185111, 'eval_macro_recall': 0.869719962747225, 'eval_macro_f1': 0.868237320334475, 'eval_micro_precision': 0.8696444849589791, 'eval_micro_recall': 0.8696444849589791, 'eval_micro_f1': 0.8696444849589791, 'eval_mcc': 0.864549856973011, 'eval_runtime': 21.4557, 'eval_samples_per_second': 51.129, 'eval_steps_per_second': 6.432, 'epoch': 1.44}\n",
      "{'loss': 0.4474, 'grad_norm': 2.4759836196899414, 'learning_rate': 0.00012548076923076922, 'epoch': 1.49}\n",
      "{'loss': 0.476, 'grad_norm': 1.8393359184265137, 'learning_rate': 0.0001230769230769231, 'epoch': 1.54}\n",
      "{'loss': 0.4399, 'grad_norm': 2.471601724624634, 'learning_rate': 0.00012067307692307692, 'epoch': 1.59}\n",
      "{'loss': 0.3704, 'grad_norm': 3.094367265701294, 'learning_rate': 0.00011826923076923078, 'epoch': 1.63}\n",
      "{'loss': 0.3663, 'grad_norm': 3.383419990539551, 'learning_rate': 0.00011586538461538463, 'epoch': 1.68}\n",
      "{'loss': 0.3797, 'grad_norm': 1.2115248441696167, 'learning_rate': 0.00011346153846153846, 'epoch': 1.73}\n",
      "{'loss': 0.3504, 'grad_norm': 2.013587474822998, 'learning_rate': 0.00011105769230769232, 'epoch': 1.78}\n",
      "{'loss': 0.4774, 'grad_norm': 2.8449957370758057, 'learning_rate': 0.00010865384615384615, 'epoch': 1.83}\n",
      "{'loss': 0.3484, 'grad_norm': 0.4606649875640869, 'learning_rate': 0.00010625000000000001, 'epoch': 1.88}\n",
      "{'loss': 0.4106, 'grad_norm': 1.0852477550506592, 'learning_rate': 0.00010384615384615386, 'epoch': 1.92}\n"
     ]
    },
    {
     "data": {
      "application/vnd.jupyter.widget-view+json": {
       "model_id": "b2d452fd1053422d8f70c34ae3ca97e7",
       "version_major": 2,
       "version_minor": 0
      },
      "text/plain": [
       "  0%|          | 0/138 [00:00<?, ?it/s]"
      ]
     },
     "metadata": {},
     "output_type": "display_data"
    },
    {
     "name": "stdout",
     "output_type": "stream",
     "text": [
      "{'eval_loss': 0.4736768901348114, 'eval_accuracy': 0.8924339106654512, 'eval_weighted_precision': 0.8980836224279197, 'eval_weighted_recall': 0.8924339106654512, 'eval_weighted_f1': 0.8911308433941256, 'eval_macro_precision': 0.8964132186318152, 'eval_macro_recall': 0.8913686133641444, 'eval_macro_f1': 0.8897483330802975, 'eval_micro_precision': 0.8924339106654512, 'eval_micro_recall': 0.8924339106654512, 'eval_micro_f1': 0.8924339106654512, 'eval_mcc': 0.8880692311807846, 'eval_runtime': 21.012, 'eval_samples_per_second': 52.208, 'eval_steps_per_second': 6.568, 'epoch': 1.92}\n",
      "{'loss': 0.2423, 'grad_norm': 0.368466317653656, 'learning_rate': 0.00010144230769230769, 'epoch': 1.97}\n",
      "{'loss': 0.2564, 'grad_norm': 3.538214683532715, 'learning_rate': 9.903846153846155e-05, 'epoch': 2.02}\n",
      "{'loss': 0.1796, 'grad_norm': 1.7579392194747925, 'learning_rate': 9.663461538461539e-05, 'epoch': 2.07}\n",
      "{'loss': 0.2069, 'grad_norm': 1.5669833421707153, 'learning_rate': 9.423076923076924e-05, 'epoch': 2.12}\n",
      "{'loss': 0.2202, 'grad_norm': 0.254550963640213, 'learning_rate': 9.182692307692308e-05, 'epoch': 2.16}\n",
      "{'loss': 0.2574, 'grad_norm': 1.2841269969940186, 'learning_rate': 8.942307692307693e-05, 'epoch': 2.21}\n",
      "{'loss': 0.2413, 'grad_norm': 4.693519592285156, 'learning_rate': 8.701923076923078e-05, 'epoch': 2.26}\n",
      "{'loss': 0.1666, 'grad_norm': 4.841279983520508, 'learning_rate': 8.461538461538461e-05, 'epoch': 2.31}\n",
      "{'loss': 0.1022, 'grad_norm': 1.4215688705444336, 'learning_rate': 8.221153846153846e-05, 'epoch': 2.36}\n",
      "{'loss': 0.1881, 'grad_norm': 0.5726220607757568, 'learning_rate': 7.980769230769231e-05, 'epoch': 2.4}\n"
     ]
    },
    {
     "data": {
      "application/vnd.jupyter.widget-view+json": {
       "model_id": "86e26677902e484ea54e72c9e7aa630d",
       "version_major": 2,
       "version_minor": 0
      },
      "text/plain": [
       "  0%|          | 0/138 [00:00<?, ?it/s]"
      ]
     },
     "metadata": {},
     "output_type": "display_data"
    },
    {
     "name": "stdout",
     "output_type": "stream",
     "text": [
      "{'eval_loss': 0.3853265047073364, 'eval_accuracy': 0.8979033728350045, 'eval_weighted_precision': 0.9051916096942001, 'eval_weighted_recall': 0.8979033728350045, 'eval_weighted_f1': 0.8988023444563812, 'eval_macro_precision': 0.9041889967507948, 'eval_macro_recall': 0.8951348180176718, 'eval_macro_f1': 0.8966855558824057, 'eval_micro_precision': 0.8979033728350045, 'eval_micro_recall': 0.8979033728350045, 'eval_micro_f1': 0.8979033728350045, 'eval_mcc': 0.8936698810229866, 'eval_runtime': 20.5646, 'eval_samples_per_second': 53.344, 'eval_steps_per_second': 6.711, 'epoch': 2.4}\n",
      "{'loss': 0.1338, 'grad_norm': 3.2938084602355957, 'learning_rate': 7.740384615384616e-05, 'epoch': 2.45}\n",
      "{'loss': 0.1369, 'grad_norm': 5.9147515296936035, 'learning_rate': 7.500000000000001e-05, 'epoch': 2.5}\n",
      "{'loss': 0.1956, 'grad_norm': 0.42105555534362793, 'learning_rate': 7.259615384615384e-05, 'epoch': 2.55}\n",
      "{'loss': 0.1102, 'grad_norm': 0.6333029270172119, 'learning_rate': 7.019230769230769e-05, 'epoch': 2.6}\n",
      "{'loss': 0.132, 'grad_norm': 0.1663675755262375, 'learning_rate': 6.778846153846155e-05, 'epoch': 2.64}\n",
      "{'loss': 0.1593, 'grad_norm': 0.7203887701034546, 'learning_rate': 6.538461538461539e-05, 'epoch': 2.69}\n",
      "{'loss': 0.1496, 'grad_norm': 0.4668044149875641, 'learning_rate': 6.298076923076923e-05, 'epoch': 2.74}\n",
      "{'loss': 0.143, 'grad_norm': 4.7321014404296875, 'learning_rate': 6.0576923076923076e-05, 'epoch': 2.79}\n",
      "{'loss': 0.1957, 'grad_norm': 3.3435630798339844, 'learning_rate': 5.817307692307693e-05, 'epoch': 2.84}\n",
      "{'loss': 0.1743, 'grad_norm': 0.24659672379493713, 'learning_rate': 5.576923076923077e-05, 'epoch': 2.88}\n"
     ]
    },
    {
     "data": {
      "application/vnd.jupyter.widget-view+json": {
       "model_id": "2bad9d67702948108e24a27920ffe3a1",
       "version_major": 2,
       "version_minor": 0
      },
      "text/plain": [
       "  0%|          | 0/138 [00:00<?, ?it/s]"
      ]
     },
     "metadata": {},
     "output_type": "display_data"
    },
    {
     "name": "stdout",
     "output_type": "stream",
     "text": [
      "{'eval_loss': 0.3878282308578491, 'eval_accuracy': 0.8951686417502279, 'eval_weighted_precision': 0.8998314816606422, 'eval_weighted_recall': 0.8951686417502279, 'eval_weighted_f1': 0.8952491938712915, 'eval_macro_precision': 0.8986435511426483, 'eval_macro_recall': 0.8922666174676839, 'eval_macro_f1': 0.8930634856287986, 'eval_micro_precision': 0.8951686417502279, 'eval_micro_recall': 0.8951686417502279, 'eval_micro_f1': 0.8951686417502279, 'eval_mcc': 0.890769117590255, 'eval_runtime': 21.415, 'eval_samples_per_second': 51.226, 'eval_steps_per_second': 6.444, 'epoch': 2.88}\n",
      "{'loss': 0.1533, 'grad_norm': 2.95346999168396, 'learning_rate': 5.336538461538462e-05, 'epoch': 2.93}\n",
      "{'loss': 0.1509, 'grad_norm': 0.3893512189388275, 'learning_rate': 5.096153846153846e-05, 'epoch': 2.98}\n",
      "{'loss': 0.0861, 'grad_norm': 0.2024313062429428, 'learning_rate': 4.855769230769231e-05, 'epoch': 3.03}\n",
      "{'loss': 0.1271, 'grad_norm': 0.167998269200325, 'learning_rate': 4.615384615384616e-05, 'epoch': 3.08}\n",
      "{'loss': 0.0748, 'grad_norm': 0.324472576379776, 'learning_rate': 4.375e-05, 'epoch': 3.12}\n",
      "{'loss': 0.058, 'grad_norm': 0.24226713180541992, 'learning_rate': 4.134615384615385e-05, 'epoch': 3.17}\n",
      "{'loss': 0.1083, 'grad_norm': 0.964203953742981, 'learning_rate': 3.8942307692307696e-05, 'epoch': 3.22}\n",
      "{'loss': 0.0759, 'grad_norm': 0.15532013773918152, 'learning_rate': 3.653846153846154e-05, 'epoch': 3.27}\n",
      "{'loss': 0.0846, 'grad_norm': 2.142648935317993, 'learning_rate': 3.4134615384615386e-05, 'epoch': 3.32}\n",
      "{'loss': 0.0747, 'grad_norm': 0.1146896630525589, 'learning_rate': 3.1730769230769234e-05, 'epoch': 3.37}\n"
     ]
    },
    {
     "data": {
      "application/vnd.jupyter.widget-view+json": {
       "model_id": "72181edabff6466e99307e4a85fa399b",
       "version_major": 2,
       "version_minor": 0
      },
      "text/plain": [
       "  0%|          | 0/138 [00:00<?, ?it/s]"
      ]
     },
     "metadata": {},
     "output_type": "display_data"
    },
    {
     "name": "stdout",
     "output_type": "stream",
     "text": [
      "{'eval_loss': 0.32341644167900085, 'eval_accuracy': 0.9206927985414768, 'eval_weighted_precision': 0.9230481033674238, 'eval_weighted_recall': 0.9206927985414768, 'eval_weighted_f1': 0.920430130526486, 'eval_macro_precision': 0.9206025398040437, 'eval_macro_recall': 0.9192225058405041, 'eval_macro_f1': 0.9184211161657636, 'eval_micro_precision': 0.9206927985414768, 'eval_micro_recall': 0.9206927985414768, 'eval_micro_f1': 0.9206927985414768, 'eval_mcc': 0.9173652904885972, 'eval_runtime': 21.299, 'eval_samples_per_second': 51.505, 'eval_steps_per_second': 6.479, 'epoch': 3.37}\n",
      "{'loss': 0.0552, 'grad_norm': 0.13087348639965057, 'learning_rate': 2.932692307692308e-05, 'epoch': 3.41}\n",
      "{'loss': 0.0628, 'grad_norm': 0.11406459659337997, 'learning_rate': 2.6923076923076923e-05, 'epoch': 3.46}\n",
      "{'loss': 0.0681, 'grad_norm': 2.7597849369049072, 'learning_rate': 2.4519230769230768e-05, 'epoch': 3.51}\n",
      "{'loss': 0.0445, 'grad_norm': 0.12507782876491547, 'learning_rate': 2.2115384615384616e-05, 'epoch': 3.56}\n",
      "{'loss': 0.0858, 'grad_norm': 0.7771567702293396, 'learning_rate': 1.971153846153846e-05, 'epoch': 3.61}\n",
      "{'loss': 0.0423, 'grad_norm': 0.08968041837215424, 'learning_rate': 1.730769230769231e-05, 'epoch': 3.65}\n",
      "{'loss': 0.0633, 'grad_norm': 0.10754132270812988, 'learning_rate': 1.4903846153846154e-05, 'epoch': 3.7}\n",
      "{'loss': 0.0447, 'grad_norm': 1.0208098888397217, 'learning_rate': 1.25e-05, 'epoch': 3.75}\n",
      "{'loss': 0.0529, 'grad_norm': 2.2253990173339844, 'learning_rate': 1.0096153846153847e-05, 'epoch': 3.8}\n",
      "{'loss': 0.0403, 'grad_norm': 0.09178268909454346, 'learning_rate': 7.692307692307694e-06, 'epoch': 3.85}\n"
     ]
    },
    {
     "data": {
      "application/vnd.jupyter.widget-view+json": {
       "model_id": "44572c42c96f43ea9d6fe37a6d80773b",
       "version_major": 2,
       "version_minor": 0
      },
      "text/plain": [
       "  0%|          | 0/138 [00:00<?, ?it/s]"
      ]
     },
     "metadata": {},
     "output_type": "display_data"
    },
    {
     "name": "stdout",
     "output_type": "stream",
     "text": [
      "{'eval_loss': 0.3090197443962097, 'eval_accuracy': 0.9206927985414768, 'eval_weighted_precision': 0.9214527157799806, 'eval_weighted_recall': 0.9206927985414768, 'eval_weighted_f1': 0.9206339388633424, 'eval_macro_precision': 0.9198142163283268, 'eval_macro_recall': 0.9194384723510355, 'eval_macro_f1': 0.9192002217795094, 'eval_micro_precision': 0.9206927985414768, 'eval_micro_recall': 0.9206927985414768, 'eval_micro_f1': 0.9206927985414768, 'eval_mcc': 0.9172631765526529, 'eval_runtime': 21.3101, 'eval_samples_per_second': 51.478, 'eval_steps_per_second': 6.476, 'epoch': 3.85}\n",
      "{'loss': 0.0648, 'grad_norm': 0.7928395867347717, 'learning_rate': 5.288461538461538e-06, 'epoch': 3.89}\n",
      "{'loss': 0.039, 'grad_norm': 1.707524061203003, 'learning_rate': 2.884615384615385e-06, 'epoch': 3.94}\n",
      "{'loss': 0.055, 'grad_norm': 0.23438340425491333, 'learning_rate': 4.807692307692308e-07, 'epoch': 3.99}\n",
      "{'train_runtime': 882.66, 'train_samples_per_second': 15.023, 'train_steps_per_second': 0.943, 'train_loss': 0.5797577287751035, 'epoch': 4.0}\n"
     ]
    },
    {
     "data": {
      "application/vnd.jupyter.widget-view+json": {
       "model_id": "45d6c8a33dac494dad3aa8d12ca3ea8a",
       "version_major": 2,
       "version_minor": 0
      },
      "text/plain": [
       "  0%|          | 0/415 [00:00<?, ?it/s]"
      ]
     },
     "metadata": {},
     "output_type": "display_data"
    },
    {
     "data": {
      "application/vnd.jupyter.widget-view+json": {
       "model_id": "c8441a5b18464404b17b204437742bcd",
       "version_major": 2,
       "version_minor": 0
      },
      "text/plain": [
       "  0%|          | 0/138 [00:00<?, ?it/s]"
      ]
     },
     "metadata": {},
     "output_type": "display_data"
    }
   ],
   "source": [
    "classifier.train()"
   ]
  },
  {
   "cell_type": "code",
   "execution_count": 12,
   "metadata": {},
   "outputs": [
    {
     "data": {
      "application/vnd.jupyter.widget-view+json": {
       "model_id": "a056d585abf3421493419003b0dbea27",
       "version_major": 2,
       "version_minor": 0
      },
      "text/plain": [
       "  0%|          | 0/138 [00:00<?, ?it/s]"
      ]
     },
     "metadata": {},
     "output_type": "display_data"
    },
    {
     "data": {
      "text/plain": [
       "{'test_loss': 0.31672629714012146,\n",
       " 'test_accuracy': 0.9190909090909091,\n",
       " 'test_weighted_precision': 0.9226349860365419,\n",
       " 'test_weighted_recall': 0.9190909090909091,\n",
       " 'test_weighted_f1': 0.9196840112779854,\n",
       " 'test_macro_precision': 0.9209988622014037,\n",
       " 'test_macro_recall': 0.9171429789226044,\n",
       " 'test_macro_f1': 0.9178701195499165,\n",
       " 'test_micro_precision': 0.9190909090909091,\n",
       " 'test_micro_recall': 0.9190909090909091,\n",
       " 'test_micro_f1': 0.9190909090909091,\n",
       " 'test_mcc': 0.9156606096945809,\n",
       " 'test_samples_per_second': 53.286,\n",
       " 'test_steps_per_second': 6.685,\n",
       " 'epoch': 4.0,\n",
       " 'test_inference_time': 0.01876672727272727}"
      ]
     },
     "execution_count": 12,
     "metadata": {},
     "output_type": "execute_result"
    }
   ],
   "source": [
    "classifier.evaluate()"
   ]
  },
  {
   "cell_type": "code",
   "execution_count": 13,
   "metadata": {},
   "outputs": [],
   "source": [
    "# save model\n",
    "classifier.save_classifier()"
   ]
  },
  {
   "cell_type": "code",
   "execution_count": 15,
   "metadata": {},
   "outputs": [
    {
     "name": "stderr",
     "output_type": "stream",
     "text": [
      "Some weights of ViTForImageClassification were not initialized from the model checkpoint at google/vit-base-patch16-224 and are newly initialized because the shapes did not match:\n",
      "- classifier.bias: found shape torch.Size([1000]) in the checkpoint and torch.Size([24]) in the model instantiated\n",
      "- classifier.weight: found shape torch.Size([1000, 768]) in the checkpoint and torch.Size([24, 768]) in the model instantiated\n",
      "You should probably TRAIN this model on a down-stream task to be able to use it for predictions and inference.\n"
     ]
    }
   ],
   "source": [
    "classifier2 = FTClassifier(\n",
    "    model_name=model_names[1], \n",
    "    output_dir=f\"models/model_{model_names[1]}_finetuned\",\n",
    "    device = device,\n",
    "    data_path=\"data/img\",\n",
    "    seed=42,\n",
    "    per_device_train_batch_size=16,\n",
    "    evaluation_strategy=\"steps\",\n",
    "    num_train_epochs=4,\n",
    "    save_steps=100,\n",
    "    eval_steps=100,\n",
    "    logging_steps=10,\n",
    "    learning_rate=2e-4,\n",
    "    save_total_limit=2,\n",
    "    remove_unused_columns=False,\n",
    "    push_to_hub=False,\n",
    "    load_best_model_at_end=True\n",
    ")"
   ]
  },
  {
   "cell_type": "code",
   "execution_count": 16,
   "metadata": {},
   "outputs": [
    {
     "name": "stdout",
     "output_type": "stream",
     "text": [
      "Using MLflow experiment: Fine_Tuning\n"
     ]
    },
    {
     "data": {
      "application/vnd.jupyter.widget-view+json": {
       "model_id": "0e12cb82e4ed4d149d2012bb443b152f",
       "version_major": 2,
       "version_minor": 0
      },
      "text/plain": [
       "  0%|          | 0/832 [00:00<?, ?it/s]"
      ]
     },
     "metadata": {},
     "output_type": "display_data"
    },
    {
     "name": "stdout",
     "output_type": "stream",
     "text": [
      "{'loss': 3.1504, 'grad_norm': 8.003792762756348, 'learning_rate': 0.00019759615384615386, 'epoch': 0.05}\n",
      "{'loss': 2.3063, 'grad_norm': 8.314798355102539, 'learning_rate': 0.0001951923076923077, 'epoch': 0.1}\n",
      "{'loss': 1.8279, 'grad_norm': 7.524439811706543, 'learning_rate': 0.00019278846153846155, 'epoch': 0.14}\n",
      "{'loss': 1.3876, 'grad_norm': 7.388338565826416, 'learning_rate': 0.00019038461538461538, 'epoch': 0.19}\n",
      "{'loss': 1.1249, 'grad_norm': 6.0890984535217285, 'learning_rate': 0.00018798076923076925, 'epoch': 0.24}\n",
      "{'loss': 0.8072, 'grad_norm': 5.951855659484863, 'learning_rate': 0.0001855769230769231, 'epoch': 0.29}\n",
      "{'loss': 0.833, 'grad_norm': 5.557530403137207, 'learning_rate': 0.00018317307692307692, 'epoch': 0.34}\n",
      "{'loss': 0.6305, 'grad_norm': 6.82830810546875, 'learning_rate': 0.00018076923076923077, 'epoch': 0.38}\n",
      "{'loss': 0.8528, 'grad_norm': 8.414764404296875, 'learning_rate': 0.00017836538461538464, 'epoch': 0.43}\n",
      "{'loss': 0.8095, 'grad_norm': 4.762779712677002, 'learning_rate': 0.00017596153846153846, 'epoch': 0.48}\n"
     ]
    },
    {
     "data": {
      "application/vnd.jupyter.widget-view+json": {
       "model_id": "e10cdace4337472c950e0606d0c830f3",
       "version_major": 2,
       "version_minor": 0
      },
      "text/plain": [
       "  0%|          | 0/138 [00:00<?, ?it/s]"
      ]
     },
     "metadata": {},
     "output_type": "display_data"
    },
    {
     "name": "stdout",
     "output_type": "stream",
     "text": [
      "{'eval_loss': 0.6520064473152161, 'eval_accuracy': 0.7930720145852325, 'eval_weighted_precision': 0.8188474321680046, 'eval_weighted_recall': 0.7930720145852325, 'eval_weighted_f1': 0.787169133614011, 'eval_macro_precision': 0.8162834353005249, 'eval_macro_recall': 0.791656771317571, 'eval_macro_f1': 0.7859640172006315, 'eval_micro_precision': 0.7930720145852325, 'eval_micro_recall': 0.7930720145852325, 'eval_micro_f1': 0.7930720145852325, 'eval_mcc': 0.7858079165807201, 'eval_runtime': 20.1246, 'eval_samples_per_second': 54.51, 'eval_steps_per_second': 6.857, 'epoch': 0.48}\n",
      "{'loss': 0.6575, 'grad_norm': 8.19437313079834, 'learning_rate': 0.0001735576923076923, 'epoch': 0.53}\n",
      "{'loss': 0.4592, 'grad_norm': 4.706348896026611, 'learning_rate': 0.00017115384615384616, 'epoch': 0.58}\n",
      "{'loss': 0.6576, 'grad_norm': 5.837750434875488, 'learning_rate': 0.00016875, 'epoch': 0.62}\n",
      "{'loss': 0.6007, 'grad_norm': 2.7818875312805176, 'learning_rate': 0.00016634615384615386, 'epoch': 0.67}\n",
      "{'loss': 0.428, 'grad_norm': 3.0366878509521484, 'learning_rate': 0.0001639423076923077, 'epoch': 0.72}\n",
      "{'loss': 0.6226, 'grad_norm': 7.50129508972168, 'learning_rate': 0.00016153846153846155, 'epoch': 0.77}\n",
      "{'loss': 0.6513, 'grad_norm': 5.289599418640137, 'learning_rate': 0.00015913461538461537, 'epoch': 0.82}\n",
      "{'loss': 0.4399, 'grad_norm': 4.791721343994141, 'learning_rate': 0.00015673076923076925, 'epoch': 0.87}\n",
      "{'loss': 0.491, 'grad_norm': 7.573885917663574, 'learning_rate': 0.0001543269230769231, 'epoch': 0.91}\n",
      "{'loss': 0.6505, 'grad_norm': 6.70147705078125, 'learning_rate': 0.00015192307692307692, 'epoch': 0.96}\n"
     ]
    },
    {
     "data": {
      "application/vnd.jupyter.widget-view+json": {
       "model_id": "4a38ca2de0a040fa8736f7c41e143581",
       "version_major": 2,
       "version_minor": 0
      },
      "text/plain": [
       "  0%|          | 0/138 [00:00<?, ?it/s]"
      ]
     },
     "metadata": {},
     "output_type": "display_data"
    },
    {
     "name": "stdout",
     "output_type": "stream",
     "text": [
      "{'eval_loss': 0.3913351595401764, 'eval_accuracy': 0.8751139471285324, 'eval_weighted_precision': 0.8846040250548081, 'eval_weighted_recall': 0.8751139471285324, 'eval_weighted_f1': 0.8740442848702106, 'eval_macro_precision': 0.8834826301636469, 'eval_macro_recall': 0.87177142747678, 'eval_macro_f1': 0.8714246067901869, 'eval_micro_precision': 0.8751139471285324, 'eval_micro_recall': 0.8751139471285324, 'eval_micro_f1': 0.8751139471285324, 'eval_mcc': 0.870259304724796, 'eval_runtime': 21.4027, 'eval_samples_per_second': 51.255, 'eval_steps_per_second': 6.448, 'epoch': 0.96}\n",
      "{'loss': 0.3521, 'grad_norm': 4.639472007751465, 'learning_rate': 0.00014951923076923077, 'epoch': 1.01}\n",
      "{'loss': 0.3529, 'grad_norm': 4.23844575881958, 'learning_rate': 0.00014711538461538464, 'epoch': 1.06}\n",
      "{'loss': 0.3338, 'grad_norm': 5.2563652992248535, 'learning_rate': 0.00014471153846153846, 'epoch': 1.11}\n",
      "{'loss': 0.2811, 'grad_norm': 4.60119104385376, 'learning_rate': 0.0001423076923076923, 'epoch': 1.15}\n",
      "{'loss': 0.2869, 'grad_norm': 3.6481375694274902, 'learning_rate': 0.00013990384615384616, 'epoch': 1.2}\n",
      "{'loss': 0.3206, 'grad_norm': 3.5534908771514893, 'learning_rate': 0.0001375, 'epoch': 1.25}\n",
      "{'loss': 0.2476, 'grad_norm': 5.340018272399902, 'learning_rate': 0.00013509615384615386, 'epoch': 1.3}\n",
      "{'loss': 0.2812, 'grad_norm': 3.0323801040649414, 'learning_rate': 0.0001326923076923077, 'epoch': 1.35}\n",
      "{'loss': 0.2102, 'grad_norm': 3.3592424392700195, 'learning_rate': 0.00013028846153846155, 'epoch': 1.39}\n",
      "{'loss': 0.2892, 'grad_norm': 2.555790662765503, 'learning_rate': 0.00012788461538461537, 'epoch': 1.44}\n"
     ]
    },
    {
     "data": {
      "application/vnd.jupyter.widget-view+json": {
       "model_id": "9e329887cbd6442e974e0e1d6c8ef8ac",
       "version_major": 2,
       "version_minor": 0
      },
      "text/plain": [
       "  0%|          | 0/138 [00:00<?, ?it/s]"
      ]
     },
     "metadata": {},
     "output_type": "display_data"
    },
    {
     "name": "stdout",
     "output_type": "stream",
     "text": [
      "{'eval_loss': 0.44111719727516174, 'eval_accuracy': 0.8687329079307201, 'eval_weighted_precision': 0.8829815534589112, 'eval_weighted_recall': 0.8687329079307201, 'eval_weighted_f1': 0.8692954997285882, 'eval_macro_precision': 0.8818126474627951, 'eval_macro_recall': 0.8659905501627455, 'eval_macro_f1': 0.8671931439341378, 'eval_micro_precision': 0.8687329079307201, 'eval_micro_recall': 0.8687329079307201, 'eval_micro_f1': 0.8687329079307201, 'eval_mcc': 0.8637603464020956, 'eval_runtime': 21.5652, 'eval_samples_per_second': 50.869, 'eval_steps_per_second': 6.399, 'epoch': 1.44}\n",
      "{'loss': 0.3918, 'grad_norm': 2.285423994064331, 'learning_rate': 0.00012548076923076922, 'epoch': 1.49}\n",
      "{'loss': 0.2173, 'grad_norm': 2.427133798599243, 'learning_rate': 0.0001230769230769231, 'epoch': 1.54}\n",
      "{'loss': 0.2556, 'grad_norm': 7.484405994415283, 'learning_rate': 0.00012067307692307692, 'epoch': 1.59}\n",
      "{'loss': 0.2366, 'grad_norm': 5.1674346923828125, 'learning_rate': 0.00011826923076923078, 'epoch': 1.63}\n",
      "{'loss': 0.2833, 'grad_norm': 5.945674419403076, 'learning_rate': 0.00011586538461538463, 'epoch': 1.68}\n",
      "{'loss': 0.2215, 'grad_norm': 4.9308905601501465, 'learning_rate': 0.00011346153846153846, 'epoch': 1.73}\n",
      "{'loss': 0.3268, 'grad_norm': 3.817000150680542, 'learning_rate': 0.00011105769230769232, 'epoch': 1.78}\n",
      "{'loss': 0.2535, 'grad_norm': 4.070425987243652, 'learning_rate': 0.00010865384615384615, 'epoch': 1.83}\n",
      "{'loss': 0.2089, 'grad_norm': 0.3076108992099762, 'learning_rate': 0.00010625000000000001, 'epoch': 1.88}\n",
      "{'loss': 0.2358, 'grad_norm': 5.145873546600342, 'learning_rate': 0.00010384615384615386, 'epoch': 1.92}\n"
     ]
    },
    {
     "data": {
      "application/vnd.jupyter.widget-view+json": {
       "model_id": "53450087f4dc43b5b888177dd97ea83b",
       "version_major": 2,
       "version_minor": 0
      },
      "text/plain": [
       "  0%|          | 0/138 [00:00<?, ?it/s]"
      ]
     },
     "metadata": {},
     "output_type": "display_data"
    },
    {
     "name": "stdout",
     "output_type": "stream",
     "text": [
      "{'eval_loss': 0.30664217472076416, 'eval_accuracy': 0.9070191431175935, 'eval_weighted_precision': 0.9114216759410919, 'eval_weighted_recall': 0.9070191431175935, 'eval_weighted_f1': 0.9076644235128056, 'eval_macro_precision': 0.9088509738198001, 'eval_macro_recall': 0.9060403498239755, 'eval_macro_f1': 0.9058211661441815, 'eval_micro_precision': 0.9070191431175935, 'eval_micro_recall': 0.9070191431175935, 'eval_micro_f1': 0.9070191431175935, 'eval_mcc': 0.903096736877776, 'eval_runtime': 21.3329, 'eval_samples_per_second': 51.423, 'eval_steps_per_second': 6.469, 'epoch': 1.92}\n",
      "{'loss': 0.137, 'grad_norm': 0.29592806100845337, 'learning_rate': 0.00010144230769230769, 'epoch': 1.97}\n",
      "{'loss': 0.1257, 'grad_norm': 2.433290481567383, 'learning_rate': 9.903846153846155e-05, 'epoch': 2.02}\n",
      "{'loss': 0.1156, 'grad_norm': 5.2588114738464355, 'learning_rate': 9.663461538461539e-05, 'epoch': 2.07}\n",
      "{'loss': 0.0258, 'grad_norm': 0.7054597735404968, 'learning_rate': 9.423076923076924e-05, 'epoch': 2.12}\n",
      "{'loss': 0.0616, 'grad_norm': 0.12736977636814117, 'learning_rate': 9.182692307692308e-05, 'epoch': 2.16}\n",
      "{'loss': 0.0871, 'grad_norm': 1.4882420301437378, 'learning_rate': 8.942307692307693e-05, 'epoch': 2.21}\n",
      "{'loss': 0.1221, 'grad_norm': 2.677204132080078, 'learning_rate': 8.701923076923078e-05, 'epoch': 2.26}\n",
      "{'loss': 0.0639, 'grad_norm': 0.6861194372177124, 'learning_rate': 8.461538461538461e-05, 'epoch': 2.31}\n",
      "{'loss': 0.0614, 'grad_norm': 0.6711294651031494, 'learning_rate': 8.221153846153846e-05, 'epoch': 2.36}\n",
      "{'loss': 0.0992, 'grad_norm': 2.0446228981018066, 'learning_rate': 7.980769230769231e-05, 'epoch': 2.4}\n"
     ]
    },
    {
     "data": {
      "application/vnd.jupyter.widget-view+json": {
       "model_id": "ef38eedb8e9c4b60b23d344597abf718",
       "version_major": 2,
       "version_minor": 0
      },
      "text/plain": [
       "  0%|          | 0/138 [00:00<?, ?it/s]"
      ]
     },
     "metadata": {},
     "output_type": "display_data"
    },
    {
     "name": "stdout",
     "output_type": "stream",
     "text": [
      "{'eval_loss': 0.4297318160533905, 'eval_accuracy': 0.886052871467639, 'eval_weighted_precision': 0.8957992133773723, 'eval_weighted_recall': 0.886052871467639, 'eval_weighted_f1': 0.8869636156967996, 'eval_macro_precision': 0.8927275069251651, 'eval_macro_recall': 0.8857178854469602, 'eval_macro_f1': 0.885160153594641, 'eval_micro_precision': 0.886052871467639, 'eval_micro_recall': 0.886052871467639, 'eval_micro_f1': 0.886052871467639, 'eval_mcc': 0.8814533588816348, 'eval_runtime': 20.9369, 'eval_samples_per_second': 52.395, 'eval_steps_per_second': 6.591, 'epoch': 2.4}\n",
      "{'loss': 0.0228, 'grad_norm': 0.058395933359861374, 'learning_rate': 7.740384615384616e-05, 'epoch': 2.45}\n",
      "{'loss': 0.0395, 'grad_norm': 0.5569353699684143, 'learning_rate': 7.500000000000001e-05, 'epoch': 2.5}\n",
      "{'loss': 0.0502, 'grad_norm': 1.017472267150879, 'learning_rate': 7.259615384615384e-05, 'epoch': 2.55}\n",
      "{'loss': 0.0339, 'grad_norm': 0.2182193249464035, 'learning_rate': 7.019230769230769e-05, 'epoch': 2.6}\n",
      "{'loss': 0.046, 'grad_norm': 1.7103623151779175, 'learning_rate': 6.778846153846155e-05, 'epoch': 2.64}\n",
      "{'loss': 0.0663, 'grad_norm': 1.983289122581482, 'learning_rate': 6.538461538461539e-05, 'epoch': 2.69}\n",
      "{'loss': 0.0264, 'grad_norm': 0.11000983417034149, 'learning_rate': 6.298076923076923e-05, 'epoch': 2.74}\n",
      "{'loss': 0.1144, 'grad_norm': 4.587395191192627, 'learning_rate': 6.0576923076923076e-05, 'epoch': 2.79}\n",
      "{'loss': 0.0982, 'grad_norm': 2.833505153656006, 'learning_rate': 5.817307692307693e-05, 'epoch': 2.84}\n",
      "{'loss': 0.0353, 'grad_norm': 1.1826997995376587, 'learning_rate': 5.576923076923077e-05, 'epoch': 2.88}\n"
     ]
    },
    {
     "data": {
      "application/vnd.jupyter.widget-view+json": {
       "model_id": "8b83273a93dc4c54a5e847678876ba13",
       "version_major": 2,
       "version_minor": 0
      },
      "text/plain": [
       "  0%|          | 0/138 [00:00<?, ?it/s]"
      ]
     },
     "metadata": {},
     "output_type": "display_data"
    },
    {
     "name": "stdout",
     "output_type": "stream",
     "text": [
      "{'eval_loss': 0.3077176809310913, 'eval_accuracy': 0.9143117593436645, 'eval_weighted_precision': 0.9171163287014389, 'eval_weighted_recall': 0.9143117593436645, 'eval_weighted_f1': 0.9138833180467111, 'eval_macro_precision': 0.9152190231659452, 'eval_macro_recall': 0.9137742494172018, 'eval_macro_f1': 0.9126340870475728, 'eval_micro_precision': 0.9143117593436645, 'eval_micro_recall': 0.9143117593436645, 'eval_micro_f1': 0.9143117593436645, 'eval_mcc': 0.9107304002155014, 'eval_runtime': 21.391, 'eval_samples_per_second': 51.283, 'eval_steps_per_second': 6.451, 'epoch': 2.88}\n",
      "{'loss': 0.0274, 'grad_norm': 1.0120065212249756, 'learning_rate': 5.336538461538462e-05, 'epoch': 2.93}\n",
      "{'loss': 0.0433, 'grad_norm': 0.1424020379781723, 'learning_rate': 5.096153846153846e-05, 'epoch': 2.98}\n",
      "{'loss': 0.0146, 'grad_norm': 0.03258059173822403, 'learning_rate': 4.855769230769231e-05, 'epoch': 3.03}\n",
      "{'loss': 0.0095, 'grad_norm': 0.03313513845205307, 'learning_rate': 4.615384615384616e-05, 'epoch': 3.08}\n",
      "{'loss': 0.0076, 'grad_norm': 0.8090329170227051, 'learning_rate': 4.375e-05, 'epoch': 3.12}\n",
      "{'loss': 0.0055, 'grad_norm': 0.07924412935972214, 'learning_rate': 4.134615384615385e-05, 'epoch': 3.17}\n",
      "{'loss': 0.0267, 'grad_norm': 0.038520775735378265, 'learning_rate': 3.8942307692307696e-05, 'epoch': 3.22}\n",
      "{'loss': 0.0061, 'grad_norm': 0.04032626375555992, 'learning_rate': 3.653846153846154e-05, 'epoch': 3.27}\n",
      "{'loss': 0.0059, 'grad_norm': 1.0835081338882446, 'learning_rate': 3.4134615384615386e-05, 'epoch': 3.32}\n",
      "{'loss': 0.0076, 'grad_norm': 0.03402290493249893, 'learning_rate': 3.1730769230769234e-05, 'epoch': 3.37}\n"
     ]
    },
    {
     "data": {
      "application/vnd.jupyter.widget-view+json": {
       "model_id": "5c86e5becfe14d10a41ab75ca2fd29c4",
       "version_major": 2,
       "version_minor": 0
      },
      "text/plain": [
       "  0%|          | 0/138 [00:00<?, ?it/s]"
      ]
     },
     "metadata": {},
     "output_type": "display_data"
    },
    {
     "name": "stdout",
     "output_type": "stream",
     "text": [
      "{'eval_loss': 0.29036280512809753, 'eval_accuracy': 0.9179580674567, 'eval_weighted_precision': 0.920976307767836, 'eval_weighted_recall': 0.9179580674567, 'eval_weighted_f1': 0.9183088109974199, 'eval_macro_precision': 0.9181308803238891, 'eval_macro_recall': 0.9168279281801128, 'eval_macro_f1': 0.91625406262813, 'eval_micro_precision': 0.9179580674567, 'eval_micro_recall': 0.9179580674567, 'eval_micro_f1': 0.9179580674567, 'eval_mcc': 0.9144754650465812, 'eval_runtime': 20.685, 'eval_samples_per_second': 53.034, 'eval_steps_per_second': 6.672, 'epoch': 3.37}\n",
      "{'loss': 0.0066, 'grad_norm': 0.046790000051259995, 'learning_rate': 2.932692307692308e-05, 'epoch': 3.41}\n",
      "{'loss': 0.012, 'grad_norm': 0.27264055609703064, 'learning_rate': 2.6923076923076923e-05, 'epoch': 3.46}\n",
      "{'loss': 0.0054, 'grad_norm': 0.09064768999814987, 'learning_rate': 2.4519230769230768e-05, 'epoch': 3.51}\n",
      "{'loss': 0.0049, 'grad_norm': 0.051125939935445786, 'learning_rate': 2.2115384615384616e-05, 'epoch': 3.56}\n",
      "{'loss': 0.0134, 'grad_norm': 0.0291267279535532, 'learning_rate': 1.971153846153846e-05, 'epoch': 3.61}\n",
      "{'loss': 0.0114, 'grad_norm': 0.0848187580704689, 'learning_rate': 1.730769230769231e-05, 'epoch': 3.65}\n",
      "{'loss': 0.0038, 'grad_norm': 0.032001793384552, 'learning_rate': 1.4903846153846154e-05, 'epoch': 3.7}\n",
      "{'loss': 0.0134, 'grad_norm': 2.2735447883605957, 'learning_rate': 1.25e-05, 'epoch': 3.75}\n",
      "{'loss': 0.021, 'grad_norm': 0.3128269612789154, 'learning_rate': 1.0096153846153847e-05, 'epoch': 3.8}\n",
      "{'loss': 0.0031, 'grad_norm': 0.013454915955662727, 'learning_rate': 7.692307692307694e-06, 'epoch': 3.85}\n"
     ]
    },
    {
     "data": {
      "application/vnd.jupyter.widget-view+json": {
       "model_id": "ba5ad5d335d2429eaa65dafbf0233ee9",
       "version_major": 2,
       "version_minor": 0
      },
      "text/plain": [
       "  0%|          | 0/138 [00:00<?, ?it/s]"
      ]
     },
     "metadata": {},
     "output_type": "display_data"
    },
    {
     "name": "stdout",
     "output_type": "stream",
     "text": [
      "{'eval_loss': 0.28099191188812256, 'eval_accuracy': 0.9216043755697356, 'eval_weighted_precision': 0.9236391623371746, 'eval_weighted_recall': 0.9216043755697356, 'eval_weighted_f1': 0.9220282705752684, 'eval_macro_precision': 0.9212421449776979, 'eval_macro_recall': 0.9209147146018246, 'eval_macro_f1': 0.9204377784255323, 'eval_micro_precision': 0.9216043755697356, 'eval_micro_recall': 0.9216043755697356, 'eval_micro_f1': 0.9216043755697356, 'eval_mcc': 0.9182320664565513, 'eval_runtime': 20.3217, 'eval_samples_per_second': 53.982, 'eval_steps_per_second': 6.791, 'epoch': 3.85}\n",
      "{'loss': 0.0039, 'grad_norm': 0.07974091172218323, 'learning_rate': 5.288461538461538e-06, 'epoch': 3.89}\n",
      "{'loss': 0.002, 'grad_norm': 0.0384589359164238, 'learning_rate': 2.884615384615385e-06, 'epoch': 3.94}\n",
      "{'loss': 0.0027, 'grad_norm': 0.08888247609138489, 'learning_rate': 4.807692307692308e-07, 'epoch': 3.99}\n",
      "{'train_runtime': 884.901, 'train_samples_per_second': 14.985, 'train_steps_per_second': 0.94, 'train_loss': 0.3205003964952854, 'epoch': 4.0}\n"
     ]
    },
    {
     "data": {
      "application/vnd.jupyter.widget-view+json": {
       "model_id": "1de6b840bf9e4c169eb407f862a1d841",
       "version_major": 2,
       "version_minor": 0
      },
      "text/plain": [
       "  0%|          | 0/415 [00:00<?, ?it/s]"
      ]
     },
     "metadata": {},
     "output_type": "display_data"
    },
    {
     "data": {
      "application/vnd.jupyter.widget-view+json": {
       "model_id": "aeabf2c34790444990bd37699bf49a78",
       "version_major": 2,
       "version_minor": 0
      },
      "text/plain": [
       "  0%|          | 0/138 [00:00<?, ?it/s]"
      ]
     },
     "metadata": {},
     "output_type": "display_data"
    }
   ],
   "source": [
    "classifier2.train()"
   ]
  },
  {
   "cell_type": "code",
   "execution_count": 21,
   "metadata": {},
   "outputs": [
    {
     "data": {
      "application/vnd.jupyter.widget-view+json": {
       "model_id": "7b20ba093e59490f9ec1f0da4bc4e85d",
       "version_major": 2,
       "version_minor": 0
      },
      "text/plain": [
       "  0%|          | 0/138 [00:00<?, ?it/s]"
      ]
     },
     "metadata": {},
     "output_type": "display_data"
    },
    {
     "data": {
      "text/plain": [
       "{'test_loss': 0.26436153054237366,\n",
       " 'test_accuracy': 0.9263636363636364,\n",
       " 'test_weighted_precision': 0.9286317069736143,\n",
       " 'test_weighted_recall': 0.9263636363636364,\n",
       " 'test_weighted_f1': 0.9266224768076156,\n",
       " 'test_macro_precision': 0.9264388263629876,\n",
       " 'test_macro_recall': 0.9248220771389706,\n",
       " 'test_macro_f1': 0.9247327469276426,\n",
       " 'test_micro_precision': 0.9263636363636364,\n",
       " 'test_micro_recall': 0.9263636363636364,\n",
       " 'test_micro_f1': 0.9263636363636364,\n",
       " 'test_mcc': 0.9232294701208611,\n",
       " 'test_samples_per_second': 21.994,\n",
       " 'test_steps_per_second': 2.759,\n",
       " 'epoch': 4.0,\n",
       " 'test_inference_time': 0.045467090909090915}"
      ]
     },
     "execution_count": 21,
     "metadata": {},
     "output_type": "execute_result"
    }
   ],
   "source": [
    "classifier2.evaluate()"
   ]
  },
  {
   "cell_type": "code",
   "execution_count": 19,
   "metadata": {},
   "outputs": [],
   "source": [
    "classifier2.save_classifier()"
   ]
  },
  {
   "cell_type": "code",
   "execution_count": 1,
   "metadata": {},
   "outputs": [],
   "source": [
    "from transformers import AutoModelForImageClassification, AutoImageProcessor"
   ]
  },
  {
   "cell_type": "code",
   "execution_count": 2,
   "metadata": {},
   "outputs": [],
   "source": [
    "image_processor = AutoImageProcessor.from_pretrained(\"google/vit-base-patch16-224-in21k\")"
   ]
  },
  {
   "cell_type": "code",
   "execution_count": 7,
   "metadata": {},
   "outputs": [],
   "source": [
    "path_m = \"models/model_vit-base-patch16-224-in21k_finetuned\""
   ]
  },
  {
   "cell_type": "code",
   "execution_count": 8,
   "metadata": {},
   "outputs": [
    {
     "data": {
      "text/plain": [
       "['models/model_vit-base-patch16-224-in21k_finetuned\\\\preprocessor_config.json']"
      ]
     },
     "execution_count": 8,
     "metadata": {},
     "output_type": "execute_result"
    }
   ],
   "source": [
    "image_processor.save_pretrained(path_m)"
   ]
  },
  {
   "cell_type": "code",
   "execution_count": 13,
   "metadata": {},
   "outputs": [
    {
     "data": {
      "application/vnd.jupyter.widget-view+json": {
       "model_id": "68904a3166794e8a95172b0037efe758",
       "version_major": 2,
       "version_minor": 0
      },
      "text/plain": [
       "VBox(children=(HTML(value='<center> <img\\nsrc=https://huggingface.co/front/assets/huggingface_logo-noborder.sv…"
      ]
     },
     "metadata": {},
     "output_type": "display_data"
    }
   ],
   "source": [
    "# connect to huggingfaceHub\n",
    "\n",
    "## step 1 : connect to huggingface\n",
    "from huggingface_hub import login\n",
    "\n",
    "login()"
   ]
  },
  {
   "cell_type": "code",
   "execution_count": 10,
   "metadata": {},
   "outputs": [],
   "source": [
    "model = AutoModelForImageClassification.from_pretrained(path_m)"
   ]
  },
  {
   "cell_type": "code",
   "execution_count": 16,
   "metadata": {},
   "outputs": [],
   "source": [
    "from huggingface_hub import HfApi\n",
    "\n",
    "api = HfApi()\n",
    "\n",
    "## step 2 : create repository\n",
    "\n",
    "api.create_repo(repo_id=\"vit-base-patch16-224-in21k-quickdraw\")"
   ]
  },
  {
   "cell_type": "code",
   "execution_count": 17,
   "metadata": {},
   "outputs": [
    {
     "data": {
      "application/vnd.jupyter.widget-view+json": {
       "model_id": "3e3fa09adc1e4203a26bfdb7714903be",
       "version_major": 2,
       "version_minor": 0
      },
      "text/plain": [
       "model.safetensors:   0%|          | 0.00/343M [00:00<?, ?B/s]"
      ]
     },
     "metadata": {},
     "output_type": "display_data"
    },
    {
     "data": {
      "text/plain": [
       "CommitInfo(commit_url='https://huggingface.co/ilyesdjerfaf/vit-base-patch16-224-in21k-quickdraw/commit/5cfaa2d589f95cceb77ebaf86bd3ee9f1a4bb10f', commit_message='Upload ViTForImageClassification', commit_description='', oid='5cfaa2d589f95cceb77ebaf86bd3ee9f1a4bb10f', pr_url=None, pr_revision=None, pr_num=None)"
      ]
     },
     "execution_count": 17,
     "metadata": {},
     "output_type": "execute_result"
    }
   ],
   "source": [
    "## step 3 : push model to huggingface\n",
    "\n",
    "model.push_to_hub(repo_id=\"vit-base-patch16-224-in21k-quickdraw\")"
   ]
  },
  {
   "cell_type": "code",
   "execution_count": 18,
   "metadata": {},
   "outputs": [
    {
     "data": {
      "application/vnd.jupyter.widget-view+json": {
       "model_id": "fe367bdea52247dd848c97d4870fc6e8",
       "version_major": 2,
       "version_minor": 0
      },
      "text/plain": [
       "README.md:   0%|          | 0.00/679 [00:00<?, ?B/s]"
      ]
     },
     "metadata": {},
     "output_type": "display_data"
    },
    {
     "name": "stderr",
     "output_type": "stream",
     "text": [
      "c:\\Users\\RAZER\\AppData\\Local\\Programs\\Python\\Python310\\lib\\site-packages\\huggingface_hub\\file_download.py:149: UserWarning: `huggingface_hub` cache-system uses symlinks by default to efficiently store duplicated files but your machine does not support them in C:\\Users\\RAZER\\.cache\\huggingface\\hub\\models--ilyesdjerfaf--vit-base-patch16-224-in21k-quickdraw. Caching files will still work but in a degraded version that might require more space on your disk. This warning can be disabled by setting the `HF_HUB_DISABLE_SYMLINKS_WARNING` environment variable. For more details, see https://huggingface.co/docs/huggingface_hub/how-to-cache#limitations.\n",
      "To support symlinks on Windows, you either need to activate Developer Mode or to run Python as an administrator. In order to see activate developer mode, see this article: https://docs.microsoft.com/en-us/windows/apps/get-started/enable-your-device-for-development\n",
      "  warnings.warn(message)\n"
     ]
    },
    {
     "data": {
      "text/plain": [
       "CommitInfo(commit_url='https://huggingface.co/ilyesdjerfaf/vit-base-patch16-224-in21k-quickdraw/commit/eb53f0033d061e580edb2f5b92e2d336b3c90485', commit_message='Upload processor', commit_description='', oid='eb53f0033d061e580edb2f5b92e2d336b3c90485', pr_url=None, pr_revision=None, pr_num=None)"
      ]
     },
     "execution_count": 18,
     "metadata": {},
     "output_type": "execute_result"
    }
   ],
   "source": [
    "image_processor.push_to_hub(repo_id=\"vit-base-patch16-224-in21k-quickdraw\")"
   ]
  },
  {
   "cell_type": "code",
   "execution_count": null,
   "metadata": {},
   "outputs": [],
   "source": []
  },
  {
   "cell_type": "code",
   "execution_count": null,
   "metadata": {},
   "outputs": [],
   "source": []
  },
  {
   "cell_type": "code",
   "execution_count": 43,
   "metadata": {},
   "outputs": [
    {
     "name": "stderr",
     "output_type": "stream",
     "text": [
      "Some weights of ViTForImageClassification were not initialized from the model checkpoint at google/vit-base-patch16-224-in21k and are newly initialized: ['classifier.bias', 'classifier.weight']\n",
      "You should probably TRAIN this model on a down-stream task to be able to use it for predictions and inference.\n"
     ]
    }
   ],
   "source": [
    "classifier_3 = FTClassifier(\n",
    "    model_name=model_names[0], \n",
    "    output_dir=f\"models/model_{model_names[0]}_finetuned_large\",\n",
    "    device = device,\n",
    "    data_path=\"data/img\",\n",
    "    seed=42,\n",
    "    per_device_train_batch_size=16,\n",
    "    evaluation_strategy=\"steps\",\n",
    "    num_train_epochs=4,\n",
    "    save_steps=100,\n",
    "    eval_steps=100,\n",
    "    logging_steps=10,\n",
    "    learning_rate=2e-4,\n",
    "    save_total_limit=2,\n",
    "    remove_unused_columns=False,\n",
    "    push_to_hub=False,\n",
    "    load_best_model_at_end=True\n",
    ")"
   ]
  },
  {
   "cell_type": "code",
   "execution_count": 46,
   "metadata": {},
   "outputs": [],
   "source": [
    "classifier_3.experiment_name = \"Fine_Tuning\""
   ]
  },
  {
   "cell_type": "code",
   "execution_count": 47,
   "metadata": {},
   "outputs": [
    {
     "name": "stdout",
     "output_type": "stream",
     "text": [
      "Using MLflow experiment: Fine_Tuning\n"
     ]
    },
    {
     "data": {
      "application/vnd.jupyter.widget-view+json": {
       "model_id": "49cf82535dd242a0be116a8559a81d05",
       "version_major": 2,
       "version_minor": 0
      },
      "text/plain": [
       "  0%|          | 0/5188 [00:00<?, ?it/s]"
      ]
     },
     "metadata": {},
     "output_type": "display_data"
    },
    {
     "name": "stdout",
     "output_type": "stream",
     "text": [
      "{'loss': 5.0215, 'grad_norm': 1.2704983949661255, 'learning_rate': 0.00019961449498843485, 'epoch': 0.01}\n",
      "{'loss': 5.0177, 'grad_norm': 1.0232690572738647, 'learning_rate': 0.0001992289899768697, 'epoch': 0.02}\n",
      "{'loss': 5.0076, 'grad_norm': 1.0978920459747314, 'learning_rate': 0.00019884348496530455, 'epoch': 0.02}\n",
      "{'loss': 5.0362, 'grad_norm': 1.2896440029144287, 'learning_rate': 0.0001984579799537394, 'epoch': 0.03}\n",
      "{'loss': 5.003, 'grad_norm': 1.3522717952728271, 'learning_rate': 0.00019807247494217428, 'epoch': 0.04}\n",
      "{'loss': 5.0378, 'grad_norm': 1.1893376111984253, 'learning_rate': 0.00019768696993060911, 'epoch': 0.05}\n",
      "{'loss': 5.027, 'grad_norm': 1.0625191926956177, 'learning_rate': 0.00019730146491904395, 'epoch': 0.05}\n",
      "{'loss': 4.9979, 'grad_norm': 1.2516403198242188, 'learning_rate': 0.0001969159599074788, 'epoch': 0.06}\n",
      "{'loss': 4.9641, 'grad_norm': 1.6137312650680542, 'learning_rate': 0.00019653045489591365, 'epoch': 0.07}\n",
      "{'loss': 4.9171, 'grad_norm': 1.4631545543670654, 'learning_rate': 0.00019614494988434852, 'epoch': 0.08}\n"
     ]
    },
    {
     "data": {
      "application/vnd.jupyter.widget-view+json": {
       "model_id": "f406d95523174d6fa3c7e58ff68af426",
       "version_major": 2,
       "version_minor": 0
      },
      "text/plain": [
       "  0%|          | 0/865 [00:00<?, ?it/s]"
      ]
     },
     "metadata": {},
     "output_type": "display_data"
    },
    {
     "name": "stderr",
     "output_type": "stream",
     "text": [
      "c:\\Users\\RAZER\\AppData\\Local\\Programs\\Python\\Python310\\lib\\site-packages\\sklearn\\metrics\\_classification.py:1509: UndefinedMetricWarning: Precision is ill-defined and being set to 0.0 in labels with no predicted samples. Use `zero_division` parameter to control this behavior.\n",
      "  _warn_prf(average, modifier, f\"{metric.capitalize()} is\", len(result))\n",
      "c:\\Users\\RAZER\\AppData\\Local\\Programs\\Python\\Python310\\lib\\site-packages\\sklearn\\metrics\\_classification.py:1509: UndefinedMetricWarning: Precision is ill-defined and being set to 0.0 in labels with no predicted samples. Use `zero_division` parameter to control this behavior.\n",
      "  _warn_prf(average, modifier, f\"{metric.capitalize()} is\", len(result))\n"
     ]
    },
    {
     "name": "stdout",
     "output_type": "stream",
     "text": [
      "{'eval_loss': 4.936169147491455, 'eval_accuracy': 0.02936071738501591, 'eval_weighted_precision': 0.00864739007278005, 'eval_weighted_recall': 0.02936071738501591, 'eval_weighted_f1': 0.008604945674219964, 'eval_macro_precision': 0.00815013201919108, 'eval_macro_recall': 0.028725328248950424, 'eval_macro_f1': 0.008181344778188165, 'eval_micro_precision': 0.02936071738501591, 'eval_micro_recall': 0.02936071738501591, 'eval_micro_f1': 0.02936071738501591, 'eval_mcc': 0.025200969206338075, 'eval_runtime': 125.1505, 'eval_samples_per_second': 55.245, 'eval_steps_per_second': 6.912, 'epoch': 0.08}\n",
      "{'loss': 4.9396, 'grad_norm': 1.4766418933868408, 'learning_rate': 0.00019575944487278335, 'epoch': 0.08}\n",
      "{'loss': 4.8646, 'grad_norm': 1.6130234003067017, 'learning_rate': 0.00019537393986121822, 'epoch': 0.09}\n",
      "{'loss': 4.8077, 'grad_norm': 1.7144595384597778, 'learning_rate': 0.00019498843484965306, 'epoch': 0.1}\n",
      "{'loss': 4.813, 'grad_norm': 1.9123258590698242, 'learning_rate': 0.0001946029298380879, 'epoch': 0.11}\n",
      "{'loss': 4.8073, 'grad_norm': 1.600816249847412, 'learning_rate': 0.00019421742482652276, 'epoch': 0.12}\n",
      "{'loss': 4.7642, 'grad_norm': 1.5699379444122314, 'learning_rate': 0.00019383191981495762, 'epoch': 0.12}\n",
      "{'loss': 4.6693, 'grad_norm': 1.552496075630188, 'learning_rate': 0.00019344641480339246, 'epoch': 0.13}\n",
      "{'loss': 4.5996, 'grad_norm': 1.6582285165786743, 'learning_rate': 0.0001930609097918273, 'epoch': 0.14}\n",
      "{'loss': 4.6729, 'grad_norm': 1.6817384958267212, 'learning_rate': 0.00019267540478026216, 'epoch': 0.15}\n",
      "{'loss': 4.595, 'grad_norm': 1.8556134700775146, 'learning_rate': 0.000192289899768697, 'epoch': 0.15}\n"
     ]
    },
    {
     "data": {
      "application/vnd.jupyter.widget-view+json": {
       "model_id": "bd9b13974f4f40519e11ef6c186d5e87",
       "version_major": 2,
       "version_minor": 0
      },
      "text/plain": [
       "  0%|          | 0/865 [00:00<?, ?it/s]"
      ]
     },
     "metadata": {},
     "output_type": "display_data"
    },
    {
     "name": "stderr",
     "output_type": "stream",
     "text": [
      "c:\\Users\\RAZER\\AppData\\Local\\Programs\\Python\\Python310\\lib\\site-packages\\sklearn\\metrics\\_classification.py:1509: UndefinedMetricWarning: Precision is ill-defined and being set to 0.0 in labels with no predicted samples. Use `zero_division` parameter to control this behavior.\n",
      "  _warn_prf(average, modifier, f\"{metric.capitalize()} is\", len(result))\n",
      "c:\\Users\\RAZER\\AppData\\Local\\Programs\\Python\\Python310\\lib\\site-packages\\sklearn\\metrics\\_classification.py:1509: UndefinedMetricWarning: Precision is ill-defined and being set to 0.0 in labels with no predicted samples. Use `zero_division` parameter to control this behavior.\n",
      "  _warn_prf(average, modifier, f\"{metric.capitalize()} is\", len(result))\n"
     ]
    },
    {
     "name": "stdout",
     "output_type": "stream",
     "text": [
      "{'eval_loss': 4.566686630249023, 'eval_accuracy': 0.06653167486259763, 'eval_weighted_precision': 0.035058002682002556, 'eval_weighted_recall': 0.06653167486259763, 'eval_weighted_f1': 0.030650669984894695, 'eval_macro_precision': 0.034610650059481086, 'eval_macro_recall': 0.06472403684938048, 'eval_macro_f1': 0.02978225310839684, 'eval_micro_precision': 0.06653167486259763, 'eval_micro_recall': 0.06653167486259763, 'eval_micro_f1': 0.06653167486259763, 'eval_mcc': 0.06262303976879417, 'eval_runtime': 126.3292, 'eval_samples_per_second': 54.73, 'eval_steps_per_second': 6.847, 'epoch': 0.15}\n",
      "{'loss': 4.5748, 'grad_norm': 1.6228333711624146, 'learning_rate': 0.00019190439475713183, 'epoch': 0.16}\n",
      "{'loss': 4.4394, 'grad_norm': 1.7324063777923584, 'learning_rate': 0.0001915188897455667, 'epoch': 0.17}\n",
      "{'loss': 4.5346, 'grad_norm': 1.6627267599105835, 'learning_rate': 0.00019113338473400156, 'epoch': 0.18}\n",
      "{'loss': 4.427, 'grad_norm': 1.692429542541504, 'learning_rate': 0.0001907478797224364, 'epoch': 0.19}\n",
      "{'loss': 4.4571, 'grad_norm': 1.7210232019424438, 'learning_rate': 0.00019036237471087126, 'epoch': 0.19}\n",
      "{'loss': 4.3662, 'grad_norm': 1.7045283317565918, 'learning_rate': 0.0001899768696993061, 'epoch': 0.2}\n",
      "{'loss': 4.3011, 'grad_norm': 1.7554805278778076, 'learning_rate': 0.00018959136468774094, 'epoch': 0.21}\n",
      "{'loss': 4.2664, 'grad_norm': 1.8421626091003418, 'learning_rate': 0.0001892058596761758, 'epoch': 0.22}\n",
      "{'loss': 4.1976, 'grad_norm': 1.9118378162384033, 'learning_rate': 0.00018882035466461067, 'epoch': 0.22}\n",
      "{'loss': 4.2528, 'grad_norm': 2.059861660003662, 'learning_rate': 0.0001884348496530455, 'epoch': 0.23}\n"
     ]
    },
    {
     "data": {
      "application/vnd.jupyter.widget-view+json": {
       "model_id": "008b0dd1a14b42b28668d0b03d134691",
       "version_major": 2,
       "version_minor": 0
      },
      "text/plain": [
       "  0%|          | 0/865 [00:00<?, ?it/s]"
      ]
     },
     "metadata": {},
     "output_type": "display_data"
    },
    {
     "name": "stderr",
     "output_type": "stream",
     "text": [
      "c:\\Users\\RAZER\\AppData\\Local\\Programs\\Python\\Python310\\lib\\site-packages\\sklearn\\metrics\\_classification.py:1509: UndefinedMetricWarning: Precision is ill-defined and being set to 0.0 in labels with no predicted samples. Use `zero_division` parameter to control this behavior.\n",
      "  _warn_prf(average, modifier, f\"{metric.capitalize()} is\", len(result))\n",
      "c:\\Users\\RAZER\\AppData\\Local\\Programs\\Python\\Python310\\lib\\site-packages\\sklearn\\metrics\\_classification.py:1509: UndefinedMetricWarning: Precision is ill-defined and being set to 0.0 in labels with no predicted samples. Use `zero_division` parameter to control this behavior.\n",
      "  _warn_prf(average, modifier, f\"{metric.capitalize()} is\", len(result))\n"
     ]
    },
    {
     "name": "stdout",
     "output_type": "stream",
     "text": [
      "{'eval_loss': 4.178935527801514, 'eval_accuracy': 0.1443448076366792, 'eval_weighted_precision': 0.14617840367116022, 'eval_weighted_recall': 0.1443448076366792, 'eval_weighted_f1': 0.091366040698515, 'eval_macro_precision': 0.14376008124358058, 'eval_macro_recall': 0.14186453053064352, 'eval_macro_f1': 0.08926400809608151, 'eval_micro_precision': 0.1443448076366792, 'eval_micro_recall': 0.1443448076366792, 'eval_micro_f1': 0.1443448076366792, 'eval_mcc': 0.14053289831588012, 'eval_runtime': 125.2614, 'eval_samples_per_second': 55.197, 'eval_steps_per_second': 6.906, 'epoch': 0.23}\n",
      "{'loss': 4.1843, 'grad_norm': 1.903011679649353, 'learning_rate': 0.00018804934464148034, 'epoch': 0.24}\n",
      "{'loss': 4.1744, 'grad_norm': 1.8051059246063232, 'learning_rate': 0.0001876638396299152, 'epoch': 0.25}\n",
      "{'loss': 4.1179, 'grad_norm': 1.905845046043396, 'learning_rate': 0.00018727833461835004, 'epoch': 0.25}\n",
      "{'loss': 4.0077, 'grad_norm': 2.0513291358947754, 'learning_rate': 0.00018689282960678488, 'epoch': 0.26}\n",
      "{'loss': 4.0249, 'grad_norm': 1.962233066558838, 'learning_rate': 0.00018650732459521974, 'epoch': 0.27}\n",
      "{'loss': 3.9877, 'grad_norm': 2.04248309135437, 'learning_rate': 0.0001861218195836546, 'epoch': 0.28}\n",
      "{'loss': 3.988, 'grad_norm': 2.0592265129089355, 'learning_rate': 0.00018573631457208944, 'epoch': 0.29}\n",
      "{'loss': 3.8955, 'grad_norm': 1.9681246280670166, 'learning_rate': 0.00018535080956052428, 'epoch': 0.29}\n",
      "{'loss': 3.8229, 'grad_norm': 2.0802741050720215, 'learning_rate': 0.00018496530454895915, 'epoch': 0.3}\n",
      "{'loss': 3.7441, 'grad_norm': 2.2156269550323486, 'learning_rate': 0.00018457979953739398, 'epoch': 0.31}\n"
     ]
    },
    {
     "data": {
      "application/vnd.jupyter.widget-view+json": {
       "model_id": "4ac9e6a7923c462e8529f6b5f036ca9c",
       "version_major": 2,
       "version_minor": 0
      },
      "text/plain": [
       "  0%|          | 0/865 [00:00<?, ?it/s]"
      ]
     },
     "metadata": {},
     "output_type": "display_data"
    },
    {
     "name": "stderr",
     "output_type": "stream",
     "text": [
      "c:\\Users\\RAZER\\AppData\\Local\\Programs\\Python\\Python310\\lib\\site-packages\\sklearn\\metrics\\_classification.py:1509: UndefinedMetricWarning: Precision is ill-defined and being set to 0.0 in labels with no predicted samples. Use `zero_division` parameter to control this behavior.\n",
      "  _warn_prf(average, modifier, f\"{metric.capitalize()} is\", len(result))\n",
      "c:\\Users\\RAZER\\AppData\\Local\\Programs\\Python\\Python310\\lib\\site-packages\\sklearn\\metrics\\_classification.py:1509: UndefinedMetricWarning: Precision is ill-defined and being set to 0.0 in labels with no predicted samples. Use `zero_division` parameter to control this behavior.\n",
      "  _warn_prf(average, modifier, f\"{metric.capitalize()} is\", len(result))\n"
     ]
    },
    {
     "name": "stdout",
     "output_type": "stream",
     "text": [
      "{'eval_loss': 3.773599624633789, 'eval_accuracy': 0.2354642753832803, 'eval_weighted_precision': 0.22755056787254602, 'eval_weighted_recall': 0.2354642753832803, 'eval_weighted_f1': 0.17254483015763147, 'eval_macro_precision': 0.22518905563186584, 'eval_macro_recall': 0.2313069583554262, 'eval_macro_f1': 0.1694601317052195, 'eval_micro_precision': 0.2354642753832803, 'eval_micro_recall': 0.2354642753832803, 'eval_micro_f1': 0.2354642753832803, 'eval_mcc': 0.2321892336177409, 'eval_runtime': 126.8236, 'eval_samples_per_second': 54.517, 'eval_steps_per_second': 6.82, 'epoch': 0.31}\n",
      "{'loss': 3.7974, 'grad_norm': 2.592613458633423, 'learning_rate': 0.00018419429452582885, 'epoch': 0.32}\n",
      "{'loss': 3.7638, 'grad_norm': 2.072550058364868, 'learning_rate': 0.0001838087895142637, 'epoch': 0.32}\n",
      "{'loss': 3.7022, 'grad_norm': 2.3442678451538086, 'learning_rate': 0.00018342328450269855, 'epoch': 0.33}\n",
      "{'loss': 3.5696, 'grad_norm': 1.9317233562469482, 'learning_rate': 0.00018303777949113339, 'epoch': 0.34}\n",
      "{'loss': 3.5401, 'grad_norm': 2.1697278022766113, 'learning_rate': 0.00018265227447956825, 'epoch': 0.35}\n",
      "{'loss': 3.7265, 'grad_norm': 2.0364327430725098, 'learning_rate': 0.0001822667694680031, 'epoch': 0.35}\n",
      "{'loss': 3.4856, 'grad_norm': 2.1360082626342773, 'learning_rate': 0.00018188126445643795, 'epoch': 0.36}\n",
      "{'loss': 3.4516, 'grad_norm': 2.2806808948516846, 'learning_rate': 0.0001814957594448728, 'epoch': 0.37}\n",
      "{'loss': 3.4666, 'grad_norm': 2.2006640434265137, 'learning_rate': 0.00018111025443330765, 'epoch': 0.38}\n",
      "{'loss': 3.4164, 'grad_norm': 2.321974992752075, 'learning_rate': 0.0001807247494217425, 'epoch': 0.39}\n"
     ]
    },
    {
     "data": {
      "application/vnd.jupyter.widget-view+json": {
       "model_id": "4216e80a90784c6bb70261cd0e9d2366",
       "version_major": 2,
       "version_minor": 0
      },
      "text/plain": [
       "  0%|          | 0/865 [00:00<?, ?it/s]"
      ]
     },
     "metadata": {},
     "output_type": "display_data"
    },
    {
     "name": "stderr",
     "output_type": "stream",
     "text": [
      "c:\\Users\\RAZER\\AppData\\Local\\Programs\\Python\\Python310\\lib\\site-packages\\sklearn\\metrics\\_classification.py:1509: UndefinedMetricWarning: Precision is ill-defined and being set to 0.0 in labels with no predicted samples. Use `zero_division` parameter to control this behavior.\n",
      "  _warn_prf(average, modifier, f\"{metric.capitalize()} is\", len(result))\n",
      "c:\\Users\\RAZER\\AppData\\Local\\Programs\\Python\\Python310\\lib\\site-packages\\sklearn\\metrics\\_classification.py:1509: UndefinedMetricWarning: Precision is ill-defined and being set to 0.0 in labels with no predicted samples. Use `zero_division` parameter to control this behavior.\n",
      "  _warn_prf(average, modifier, f\"{metric.capitalize()} is\", len(result))\n"
     ]
    },
    {
     "name": "stdout",
     "output_type": "stream",
     "text": [
      "{'eval_loss': 3.3810596466064453, 'eval_accuracy': 0.297512293896442, 'eval_weighted_precision': 0.3741916467679652, 'eval_weighted_recall': 0.297512293896442, 'eval_weighted_f1': 0.239167968595851, 'eval_macro_precision': 0.3691707420296167, 'eval_macro_recall': 0.29268129152474864, 'eval_macro_f1': 0.2358146696791757, 'eval_micro_precision': 0.297512293896442, 'eval_micro_recall': 0.297512293896442, 'eval_micro_f1': 0.297512293896442, 'eval_mcc': 0.29448877995084394, 'eval_runtime': 127.1128, 'eval_samples_per_second': 54.393, 'eval_steps_per_second': 6.805, 'epoch': 0.39}\n",
      "{'loss': 3.4708, 'grad_norm': 2.4069199562072754, 'learning_rate': 0.00018033924441017733, 'epoch': 0.39}\n",
      "{'loss': 3.315, 'grad_norm': 2.1184983253479004, 'learning_rate': 0.0001799537393986122, 'epoch': 0.4}\n",
      "{'loss': 3.2603, 'grad_norm': 2.8422954082489014, 'learning_rate': 0.00017956823438704703, 'epoch': 0.41}\n",
      "{'loss': 3.1414, 'grad_norm': 2.231245756149292, 'learning_rate': 0.0001791827293754819, 'epoch': 0.42}\n",
      "{'loss': 3.2812, 'grad_norm': 2.6497387886047363, 'learning_rate': 0.00017879722436391676, 'epoch': 0.42}\n",
      "{'loss': 3.1576, 'grad_norm': 2.5299432277679443, 'learning_rate': 0.0001784117193523516, 'epoch': 0.43}\n",
      "{'loss': 3.0927, 'grad_norm': 2.264094352722168, 'learning_rate': 0.00017802621434078643, 'epoch': 0.44}\n",
      "{'loss': 2.989, 'grad_norm': 2.817152738571167, 'learning_rate': 0.00017764070932922127, 'epoch': 0.45}\n",
      "{'loss': 3.0697, 'grad_norm': 2.911508798599243, 'learning_rate': 0.00017725520431765613, 'epoch': 0.45}\n",
      "{'loss': 2.9448, 'grad_norm': 2.4020349979400635, 'learning_rate': 0.000176869699306091, 'epoch': 0.46}\n"
     ]
    },
    {
     "data": {
      "application/vnd.jupyter.widget-view+json": {
       "model_id": "f3b3afcd8c2f4752afff1297ca388fe0",
       "version_major": 2,
       "version_minor": 0
      },
      "text/plain": [
       "  0%|          | 0/865 [00:00<?, ?it/s]"
      ]
     },
     "metadata": {},
     "output_type": "display_data"
    },
    {
     "name": "stderr",
     "output_type": "stream",
     "text": [
      "c:\\Users\\RAZER\\AppData\\Local\\Programs\\Python\\Python310\\lib\\site-packages\\sklearn\\metrics\\_classification.py:1509: UndefinedMetricWarning: Precision is ill-defined and being set to 0.0 in labels with no predicted samples. Use `zero_division` parameter to control this behavior.\n",
      "  _warn_prf(average, modifier, f\"{metric.capitalize()} is\", len(result))\n",
      "c:\\Users\\RAZER\\AppData\\Local\\Programs\\Python\\Python310\\lib\\site-packages\\sklearn\\metrics\\_classification.py:1509: UndefinedMetricWarning: Precision is ill-defined and being set to 0.0 in labels with no predicted samples. Use `zero_division` parameter to control this behavior.\n",
      "  _warn_prf(average, modifier, f\"{metric.capitalize()} is\", len(result))\n"
     ]
    },
    {
     "name": "stdout",
     "output_type": "stream",
     "text": [
      "{'eval_loss': 2.928391933441162, 'eval_accuracy': 0.42175296499855364, 'eval_weighted_precision': 0.5053757592007199, 'eval_weighted_recall': 0.42175296499855364, 'eval_weighted_f1': 0.3701457915246316, 'eval_macro_precision': 0.5021534417246775, 'eval_macro_recall': 0.41598067239255476, 'eval_macro_f1': 0.3646344392314203, 'eval_micro_precision': 0.42175296499855364, 'eval_micro_recall': 0.42175296499855364, 'eval_micro_f1': 0.42175296499855364, 'eval_mcc': 0.419355930684486, 'eval_runtime': 124.9841, 'eval_samples_per_second': 55.319, 'eval_steps_per_second': 6.921, 'epoch': 0.46}\n",
      "{'loss': 2.9029, 'grad_norm': 2.270612955093384, 'learning_rate': 0.00017648419429452583, 'epoch': 0.47}\n",
      "{'loss': 3.0014, 'grad_norm': 2.5712368488311768, 'learning_rate': 0.0001760986892829607, 'epoch': 0.48}\n",
      "{'loss': 2.8824, 'grad_norm': 2.7616701126098633, 'learning_rate': 0.00017571318427139554, 'epoch': 0.49}\n",
      "{'loss': 2.9293, 'grad_norm': 2.406741142272949, 'learning_rate': 0.00017532767925983037, 'epoch': 0.49}\n",
      "{'loss': 2.6722, 'grad_norm': 2.5977783203125, 'learning_rate': 0.00017494217424826524, 'epoch': 0.5}\n",
      "{'loss': 2.8262, 'grad_norm': 2.704744338989258, 'learning_rate': 0.00017455666923670007, 'epoch': 0.51}\n",
      "{'loss': 2.7065, 'grad_norm': 2.849154472351074, 'learning_rate': 0.00017417116422513494, 'epoch': 0.52}\n",
      "{'loss': 2.7223, 'grad_norm': 2.9457449913024902, 'learning_rate': 0.00017378565921356978, 'epoch': 0.52}\n",
      "{'loss': 2.5559, 'grad_norm': 2.7374489307403564, 'learning_rate': 0.00017340015420200464, 'epoch': 0.53}\n",
      "{'loss': 2.6198, 'grad_norm': 2.6376609802246094, 'learning_rate': 0.00017301464919043948, 'epoch': 0.54}\n"
     ]
    },
    {
     "data": {
      "application/vnd.jupyter.widget-view+json": {
       "model_id": "e7b3548aee5c41f4ace9bbbae6ff7262",
       "version_major": 2,
       "version_minor": 0
      },
      "text/plain": [
       "  0%|          | 0/865 [00:00<?, ?it/s]"
      ]
     },
     "metadata": {},
     "output_type": "display_data"
    },
    {
     "name": "stderr",
     "output_type": "stream",
     "text": [
      "c:\\Users\\RAZER\\AppData\\Local\\Programs\\Python\\Python310\\lib\\site-packages\\sklearn\\metrics\\_classification.py:1509: UndefinedMetricWarning: Precision is ill-defined and being set to 0.0 in labels with no predicted samples. Use `zero_division` parameter to control this behavior.\n",
      "  _warn_prf(average, modifier, f\"{metric.capitalize()} is\", len(result))\n",
      "c:\\Users\\RAZER\\AppData\\Local\\Programs\\Python\\Python310\\lib\\site-packages\\sklearn\\metrics\\_classification.py:1509: UndefinedMetricWarning: Precision is ill-defined and being set to 0.0 in labels with no predicted samples. Use `zero_division` parameter to control this behavior.\n",
      "  _warn_prf(average, modifier, f\"{metric.capitalize()} is\", len(result))\n"
     ]
    },
    {
     "name": "stdout",
     "output_type": "stream",
     "text": [
      "{'eval_loss': 2.6146981716156006, 'eval_accuracy': 0.47266415967601966, 'eval_weighted_precision': 0.5372455928270639, 'eval_weighted_recall': 0.47266415967601966, 'eval_weighted_f1': 0.4343558333997084, 'eval_macro_precision': 0.5344454377969532, 'eval_macro_recall': 0.4664934480145361, 'eval_macro_f1': 0.4289983667554837, 'eval_micro_precision': 0.47266415967601966, 'eval_micro_recall': 0.47266415967601966, 'eval_micro_f1': 0.47266415967601966, 'eval_mcc': 0.4704070607959616, 'eval_runtime': 40991.5466, 'eval_samples_per_second': 0.169, 'eval_steps_per_second': 0.021, 'epoch': 0.54}\n",
      "{'loss': 2.5195, 'grad_norm': 2.8788816928863525, 'learning_rate': 0.00017262914417887431, 'epoch': 0.55}\n",
      "{'loss': 2.5445, 'grad_norm': 2.406602621078491, 'learning_rate': 0.00017224363916730918, 'epoch': 0.56}\n",
      "{'loss': 2.4728, 'grad_norm': 2.544846296310425, 'learning_rate': 0.00017185813415574404, 'epoch': 0.56}\n",
      "{'loss': 2.611, 'grad_norm': 2.6747710704803467, 'learning_rate': 0.00017147262914417888, 'epoch': 0.57}\n",
      "{'loss': 2.3462, 'grad_norm': 2.521450996398926, 'learning_rate': 0.00017108712413261374, 'epoch': 0.58}\n",
      "{'loss': 2.3472, 'grad_norm': 2.487518787384033, 'learning_rate': 0.00017070161912104858, 'epoch': 0.59}\n",
      "{'loss': 2.4429, 'grad_norm': 2.9856057167053223, 'learning_rate': 0.00017031611410948342, 'epoch': 0.59}\n",
      "{'loss': 2.3628, 'grad_norm': 3.1760213375091553, 'learning_rate': 0.00016993060909791828, 'epoch': 0.6}\n",
      "{'loss': 2.429, 'grad_norm': 2.6872856616973877, 'learning_rate': 0.00016954510408635315, 'epoch': 0.61}\n",
      "{'loss': 2.3909, 'grad_norm': 2.8781981468200684, 'learning_rate': 0.00016915959907478798, 'epoch': 0.62}\n"
     ]
    },
    {
     "data": {
      "application/vnd.jupyter.widget-view+json": {
       "model_id": "e6d7d16500c943dbb7603dddfeba0420",
       "version_major": 2,
       "version_minor": 0
      },
      "text/plain": [
       "  0%|          | 0/865 [00:00<?, ?it/s]"
      ]
     },
     "metadata": {},
     "output_type": "display_data"
    },
    {
     "name": "stderr",
     "output_type": "stream",
     "text": [
      "c:\\Users\\RAZER\\AppData\\Local\\Programs\\Python\\Python310\\lib\\site-packages\\sklearn\\metrics\\_classification.py:1509: UndefinedMetricWarning: Precision is ill-defined and being set to 0.0 in labels with no predicted samples. Use `zero_division` parameter to control this behavior.\n",
      "  _warn_prf(average, modifier, f\"{metric.capitalize()} is\", len(result))\n",
      "c:\\Users\\RAZER\\AppData\\Local\\Programs\\Python\\Python310\\lib\\site-packages\\sklearn\\metrics\\_classification.py:1509: UndefinedMetricWarning: Precision is ill-defined and being set to 0.0 in labels with no predicted samples. Use `zero_division` parameter to control this behavior.\n",
      "  _warn_prf(average, modifier, f\"{metric.capitalize()} is\", len(result))\n"
     ]
    },
    {
     "name": "stdout",
     "output_type": "stream",
     "text": [
      "{'eval_loss': 2.2806806564331055, 'eval_accuracy': 0.5161990164882846, 'eval_weighted_precision': 0.5821999508276983, 'eval_weighted_recall': 0.5161990164882846, 'eval_weighted_f1': 0.47846915240112375, 'eval_macro_precision': 0.5822834215878225, 'eval_macro_recall': 0.509703975368923, 'eval_macro_f1': 0.4735476434899159, 'eval_micro_precision': 0.5161990164882846, 'eval_micro_recall': 0.5161990164882846, 'eval_micro_f1': 0.5161990164882846, 'eval_mcc': 0.513817342497305, 'eval_runtime': 125.6874, 'eval_samples_per_second': 55.009, 'eval_steps_per_second': 6.882, 'epoch': 0.62}\n",
      "{'loss': 2.2633, 'grad_norm': 2.849621534347534, 'learning_rate': 0.00016877409406322282, 'epoch': 0.62}\n",
      "{'loss': 2.1956, 'grad_norm': 2.973611354827881, 'learning_rate': 0.00016838858905165769, 'epoch': 0.63}\n",
      "{'loss': 2.2479, 'grad_norm': 3.2092459201812744, 'learning_rate': 0.00016800308404009252, 'epoch': 0.64}\n",
      "{'loss': 2.1706, 'grad_norm': 2.733062982559204, 'learning_rate': 0.00016761757902852736, 'epoch': 0.65}\n",
      "{'loss': 2.2915, 'grad_norm': 3.0540988445281982, 'learning_rate': 0.00016723207401696222, 'epoch': 0.66}\n",
      "{'loss': 2.2057, 'grad_norm': 3.1402347087860107, 'learning_rate': 0.0001668465690053971, 'epoch': 0.66}\n",
      "{'loss': 2.1067, 'grad_norm': 2.619577407836914, 'learning_rate': 0.00016646106399383193, 'epoch': 0.67}\n",
      "{'loss': 2.1507, 'grad_norm': 2.3516008853912354, 'learning_rate': 0.0001660755589822668, 'epoch': 0.68}\n",
      "{'loss': 1.9321, 'grad_norm': 2.6966490745544434, 'learning_rate': 0.00016569005397070163, 'epoch': 0.69}\n",
      "{'loss': 2.0271, 'grad_norm': 2.484178304672241, 'learning_rate': 0.00016530454895913646, 'epoch': 0.69}\n"
     ]
    },
    {
     "data": {
      "application/vnd.jupyter.widget-view+json": {
       "model_id": "c1d87026bb164fa79c7030a84ef7c56f",
       "version_major": 2,
       "version_minor": 0
      },
      "text/plain": [
       "  0%|          | 0/865 [00:00<?, ?it/s]"
      ]
     },
     "metadata": {},
     "output_type": "display_data"
    },
    {
     "name": "stdout",
     "output_type": "stream",
     "text": [
      "{'eval_loss': 1.9996156692504883, 'eval_accuracy': 0.5723170378941279, 'eval_weighted_precision': 0.6284493863353287, 'eval_weighted_recall': 0.5723170378941279, 'eval_weighted_f1': 0.5471088300116664, 'eval_macro_precision': 0.6259246274283818, 'eval_macro_recall': 0.5669383158799399, 'eval_macro_f1': 0.5422700005631079, 'eval_micro_precision': 0.5723170378941279, 'eval_micro_recall': 0.5723170378941279, 'eval_micro_f1': 0.5723170378941279, 'eval_mcc': 0.5701092020033695, 'eval_runtime': 123.7837, 'eval_samples_per_second': 55.856, 'eval_steps_per_second': 6.988, 'epoch': 0.69}\n",
      "{'loss': 1.9069, 'grad_norm': 3.374936103820801, 'learning_rate': 0.00016491904394757133, 'epoch': 0.7}\n",
      "{'loss': 1.9268, 'grad_norm': 2.867140531539917, 'learning_rate': 0.0001645335389360062, 'epoch': 0.71}\n",
      "{'loss': 1.8635, 'grad_norm': 2.8049261569976807, 'learning_rate': 0.00016414803392444103, 'epoch': 0.72}\n",
      "{'loss': 1.8459, 'grad_norm': 3.8106777667999268, 'learning_rate': 0.00016376252891287587, 'epoch': 0.72}\n",
      "{'loss': 1.8966, 'grad_norm': 3.376666307449341, 'learning_rate': 0.00016337702390131073, 'epoch': 0.73}\n",
      "{'loss': 1.8019, 'grad_norm': 3.2612247467041016, 'learning_rate': 0.00016299151888974557, 'epoch': 0.74}\n",
      "{'loss': 1.7987, 'grad_norm': 3.265366315841675, 'learning_rate': 0.0001626060138781804, 'epoch': 0.75}\n",
      "{'loss': 1.7498, 'grad_norm': 3.299283504486084, 'learning_rate': 0.0001622205088666153, 'epoch': 0.76}\n",
      "{'loss': 1.8662, 'grad_norm': 3.209444761276245, 'learning_rate': 0.00016183500385505013, 'epoch': 0.76}\n",
      "{'loss': 1.6965, 'grad_norm': 3.889267921447754, 'learning_rate': 0.00016144949884348497, 'epoch': 0.77}\n"
     ]
    },
    {
     "data": {
      "application/vnd.jupyter.widget-view+json": {
       "model_id": "cadd8ccaf83249d6b3b6837be4043bd8",
       "version_major": 2,
       "version_minor": 0
      },
      "text/plain": [
       "  0%|          | 0/865 [00:00<?, ?it/s]"
      ]
     },
     "metadata": {},
     "output_type": "display_data"
    },
    {
     "name": "stderr",
     "output_type": "stream",
     "text": [
      "c:\\Users\\RAZER\\AppData\\Local\\Programs\\Python\\Python310\\lib\\site-packages\\sklearn\\metrics\\_classification.py:1509: UndefinedMetricWarning: Precision is ill-defined and being set to 0.0 in labels with no predicted samples. Use `zero_division` parameter to control this behavior.\n",
      "  _warn_prf(average, modifier, f\"{metric.capitalize()} is\", len(result))\n",
      "c:\\Users\\RAZER\\AppData\\Local\\Programs\\Python\\Python310\\lib\\site-packages\\sklearn\\metrics\\_classification.py:1509: UndefinedMetricWarning: Precision is ill-defined and being set to 0.0 in labels with no predicted samples. Use `zero_division` parameter to control this behavior.\n",
      "  _warn_prf(average, modifier, f\"{metric.capitalize()} is\", len(result))\n"
     ]
    },
    {
     "name": "stdout",
     "output_type": "stream",
     "text": [
      "{'eval_loss': 1.820508599281311, 'eval_accuracy': 0.5817182528203645, 'eval_weighted_precision': 0.6212294478554645, 'eval_weighted_recall': 0.5817182528203645, 'eval_weighted_f1': 0.5564855290663566, 'eval_macro_precision': 0.6169971021488478, 'eval_macro_recall': 0.575725188456304, 'eval_macro_f1': 0.5502337591570947, 'eval_micro_precision': 0.5817182528203645, 'eval_micro_recall': 0.5817182528203645, 'eval_micro_f1': 0.5817182528203645, 'eval_mcc': 0.5796033563347381, 'eval_runtime': 124.8394, 'eval_samples_per_second': 55.383, 'eval_steps_per_second': 6.929, 'epoch': 0.77}\n",
      "{'loss': 1.8201, 'grad_norm': 3.2581958770751953, 'learning_rate': 0.0001610639938319198, 'epoch': 0.78}\n",
      "{'loss': 1.8101, 'grad_norm': 3.1089181900024414, 'learning_rate': 0.00016067848882035467, 'epoch': 0.79}\n",
      "{'loss': 1.9262, 'grad_norm': 3.390746831893921, 'learning_rate': 0.0001602929838087895, 'epoch': 0.79}\n",
      "{'loss': 1.7384, 'grad_norm': 3.7897114753723145, 'learning_rate': 0.00015990747879722437, 'epoch': 0.8}\n",
      "{'loss': 1.4563, 'grad_norm': 3.3024744987487793, 'learning_rate': 0.00015952197378565924, 'epoch': 0.81}\n",
      "{'loss': 1.506, 'grad_norm': 2.4255406856536865, 'learning_rate': 0.00015913646877409408, 'epoch': 0.82}\n",
      "{'loss': 1.5856, 'grad_norm': 2.884927272796631, 'learning_rate': 0.0001587509637625289, 'epoch': 0.82}\n",
      "{'loss': 1.849, 'grad_norm': 2.721456289291382, 'learning_rate': 0.00015836545875096378, 'epoch': 0.83}\n",
      "{'loss': 1.7051, 'grad_norm': 3.271254539489746, 'learning_rate': 0.00015797995373939861, 'epoch': 0.84}\n",
      "{'loss': 1.5411, 'grad_norm': 3.0702497959136963, 'learning_rate': 0.00015759444872783348, 'epoch': 0.85}\n"
     ]
    },
    {
     "data": {
      "application/vnd.jupyter.widget-view+json": {
       "model_id": "2af26c8ed7ab4d1297aa0cd58066cc1a",
       "version_major": 2,
       "version_minor": 0
      },
      "text/plain": [
       "  0%|          | 0/865 [00:00<?, ?it/s]"
      ]
     },
     "metadata": {},
     "output_type": "display_data"
    },
    {
     "name": "stderr",
     "output_type": "stream",
     "text": [
      "c:\\Users\\RAZER\\AppData\\Local\\Programs\\Python\\Python310\\lib\\site-packages\\sklearn\\metrics\\_classification.py:1509: UndefinedMetricWarning: Precision is ill-defined and being set to 0.0 in labels with no predicted samples. Use `zero_division` parameter to control this behavior.\n",
      "  _warn_prf(average, modifier, f\"{metric.capitalize()} is\", len(result))\n",
      "c:\\Users\\RAZER\\AppData\\Local\\Programs\\Python\\Python310\\lib\\site-packages\\sklearn\\metrics\\_classification.py:1509: UndefinedMetricWarning: Precision is ill-defined and being set to 0.0 in labels with no predicted samples. Use `zero_division` parameter to control this behavior.\n",
      "  _warn_prf(average, modifier, f\"{metric.capitalize()} is\", len(result))\n"
     ]
    },
    {
     "name": "stdout",
     "output_type": "stream",
     "text": [
      "{'eval_loss': 1.6367121934890747, 'eval_accuracy': 0.6197570147526758, 'eval_weighted_precision': 0.6580624350081029, 'eval_weighted_recall': 0.6197570147526758, 'eval_weighted_f1': 0.5998636944293313, 'eval_macro_precision': 0.6575430796293406, 'eval_macro_recall': 0.6142147541011674, 'eval_macro_f1': 0.5958376213608686, 'eval_micro_precision': 0.6197570147526758, 'eval_micro_recall': 0.6197570147526758, 'eval_micro_f1': 0.6197570147526758, 'eval_mcc': 0.6177696983028196, 'eval_runtime': 146.146, 'eval_samples_per_second': 47.309, 'eval_steps_per_second': 5.919, 'epoch': 0.85}\n",
      "{'loss': 1.5371, 'grad_norm': 3.9667179584503174, 'learning_rate': 0.00015720894371626832, 'epoch': 0.86}\n",
      "{'loss': 1.8064, 'grad_norm': 3.6256983280181885, 'learning_rate': 0.00015682343870470318, 'epoch': 0.86}\n",
      "{'loss': 1.7274, 'grad_norm': 2.34240984916687, 'learning_rate': 0.00015643793369313802, 'epoch': 0.87}\n",
      "{'loss': 1.566, 'grad_norm': 2.6789472103118896, 'learning_rate': 0.00015605242868157285, 'epoch': 0.88}\n",
      "{'loss': 1.6869, 'grad_norm': 2.8289873600006104, 'learning_rate': 0.00015566692367000772, 'epoch': 0.89}\n",
      "{'loss': 1.6081, 'grad_norm': 3.5299220085144043, 'learning_rate': 0.00015528141865844256, 'epoch': 0.89}\n",
      "{'loss': 1.5291, 'grad_norm': 2.6339385509490967, 'learning_rate': 0.00015489591364687742, 'epoch': 0.9}\n",
      "{'loss': 1.7182, 'grad_norm': 3.359606981277466, 'learning_rate': 0.00015451040863531228, 'epoch': 0.91}\n",
      "{'loss': 1.4686, 'grad_norm': 2.8179914951324463, 'learning_rate': 0.00015412490362374712, 'epoch': 0.92}\n",
      "{'loss': 1.5505, 'grad_norm': 3.6623897552490234, 'learning_rate': 0.00015373939861218196, 'epoch': 0.93}\n"
     ]
    },
    {
     "data": {
      "application/vnd.jupyter.widget-view+json": {
       "model_id": "a4e17719738b443a9fd3ed4eadb91a7a",
       "version_major": 2,
       "version_minor": 0
      },
      "text/plain": [
       "  0%|          | 0/865 [00:00<?, ?it/s]"
      ]
     },
     "metadata": {},
     "output_type": "display_data"
    },
    {
     "name": "stdout",
     "output_type": "stream",
     "text": [
      "{'eval_loss': 1.5577311515808105, 'eval_accuracy': 0.6252531096326295, 'eval_weighted_precision': 0.6636855552687655, 'eval_weighted_recall': 0.6252531096326295, 'eval_weighted_f1': 0.6092895494982387, 'eval_macro_precision': 0.6620362615274353, 'eval_macro_recall': 0.6211944967353176, 'eval_macro_f1': 0.6057449039759005, 'eval_micro_precision': 0.6252531096326295, 'eval_micro_recall': 0.6252531096326295, 'eval_micro_f1': 0.6252531096326295, 'eval_mcc': 0.6231839766450995, 'eval_runtime': 127.3792, 'eval_samples_per_second': 54.279, 'eval_steps_per_second': 6.791, 'epoch': 0.93}\n",
      "{'loss': 1.7229, 'grad_norm': 3.914520740509033, 'learning_rate': 0.0001533538936006168, 'epoch': 0.93}\n",
      "{'loss': 1.5487, 'grad_norm': 3.4919257164001465, 'learning_rate': 0.00015296838858905166, 'epoch': 0.94}\n",
      "{'loss': 1.3467, 'grad_norm': 3.5974788665771484, 'learning_rate': 0.00015258288357748652, 'epoch': 0.95}\n",
      "{'loss': 1.4135, 'grad_norm': 3.2152578830718994, 'learning_rate': 0.00015219737856592136, 'epoch': 0.96}\n",
      "{'loss': 1.41, 'grad_norm': 3.5259437561035156, 'learning_rate': 0.00015181187355435623, 'epoch': 0.96}\n",
      "{'loss': 1.5365, 'grad_norm': 3.268407106399536, 'learning_rate': 0.00015142636854279106, 'epoch': 0.97}\n",
      "{'loss': 1.3704, 'grad_norm': 2.8454649448394775, 'learning_rate': 0.0001510408635312259, 'epoch': 0.98}\n",
      "{'loss': 1.6044, 'grad_norm': 3.2198331356048584, 'learning_rate': 0.00015065535851966076, 'epoch': 0.99}\n",
      "{'loss': 1.4358, 'grad_norm': 4.06347131729126, 'learning_rate': 0.00015026985350809563, 'epoch': 0.99}\n",
      "{'loss': 1.4872, 'grad_norm': 3.0996265411376953, 'learning_rate': 0.00014988434849653047, 'epoch': 1.0}\n"
     ]
    },
    {
     "data": {
      "application/vnd.jupyter.widget-view+json": {
       "model_id": "1d32905dbb1d425c804d46b05a4a8038",
       "version_major": 2,
       "version_minor": 0
      },
      "text/plain": [
       "  0%|          | 0/865 [00:00<?, ?it/s]"
      ]
     },
     "metadata": {},
     "output_type": "display_data"
    },
    {
     "name": "stdout",
     "output_type": "stream",
     "text": [
      "{'eval_loss': 1.3963526487350464, 'eval_accuracy': 0.6572172403818339, 'eval_weighted_precision': 0.6836225809291324, 'eval_weighted_recall': 0.6572172403818339, 'eval_weighted_f1': 0.6386186171379424, 'eval_macro_precision': 0.6824666196792548, 'eval_macro_recall': 0.6521115299765612, 'eval_macro_f1': 0.6343322874392258, 'eval_micro_precision': 0.6572172403818339, 'eval_micro_recall': 0.6572172403818339, 'eval_micro_f1': 0.6572172403818339, 'eval_mcc': 0.6552748990367845, 'eval_runtime': 137.9938, 'eval_samples_per_second': 50.104, 'eval_steps_per_second': 6.268, 'epoch': 1.0}\n",
      "{'loss': 1.1418, 'grad_norm': 3.0539984703063965, 'learning_rate': 0.0001494988434849653, 'epoch': 1.01}\n",
      "{'loss': 1.2565, 'grad_norm': 3.85127854347229, 'learning_rate': 0.00014911333847340017, 'epoch': 1.02}\n",
      "{'loss': 1.1339, 'grad_norm': 3.5021135807037354, 'learning_rate': 0.000148727833461835, 'epoch': 1.03}\n",
      "{'loss': 1.1988, 'grad_norm': 3.868675947189331, 'learning_rate': 0.00014834232845026984, 'epoch': 1.03}\n",
      "{'loss': 1.2891, 'grad_norm': 2.717813014984131, 'learning_rate': 0.0001479568234387047, 'epoch': 1.04}\n",
      "{'loss': 1.2584, 'grad_norm': 3.8673596382141113, 'learning_rate': 0.00014757131842713957, 'epoch': 1.05}\n",
      "{'loss': 0.9186, 'grad_norm': 4.378118515014648, 'learning_rate': 0.0001471858134155744, 'epoch': 1.06}\n",
      "{'loss': 1.1837, 'grad_norm': 1.9133450984954834, 'learning_rate': 0.00014680030840400927, 'epoch': 1.06}\n",
      "{'loss': 1.0334, 'grad_norm': 3.688992977142334, 'learning_rate': 0.0001464148033924441, 'epoch': 1.07}\n",
      "{'loss': 1.2842, 'grad_norm': 2.7346279621124268, 'learning_rate': 0.00014602929838087895, 'epoch': 1.08}\n"
     ]
    },
    {
     "data": {
      "application/vnd.jupyter.widget-view+json": {
       "model_id": "807157052c13488d96bf0547ab01e824",
       "version_major": 2,
       "version_minor": 0
      },
      "text/plain": [
       "  0%|          | 0/865 [00:00<?, ?it/s]"
      ]
     },
     "metadata": {},
     "output_type": "display_data"
    },
    {
     "name": "stdout",
     "output_type": "stream",
     "text": [
      "{'eval_loss': 1.3085392713546753, 'eval_accuracy': 0.6680647960659531, 'eval_weighted_precision': 0.6970904067466642, 'eval_weighted_recall': 0.6680647960659531, 'eval_weighted_f1': 0.6540228335200097, 'eval_macro_precision': 0.6954247803004652, 'eval_macro_recall': 0.6649842400092507, 'eval_macro_f1': 0.6515045983356423, 'eval_micro_precision': 0.6680647960659531, 'eval_micro_recall': 0.6680647960659531, 'eval_micro_f1': 0.6680647960659531, 'eval_mcc': 0.6662185506656276, 'eval_runtime': 141.0349, 'eval_samples_per_second': 49.023, 'eval_steps_per_second': 6.133, 'epoch': 1.08}\n",
      "{'loss': 1.0987, 'grad_norm': 2.9432313442230225, 'learning_rate': 0.0001456437933693138, 'epoch': 1.09}\n",
      "{'loss': 1.1321, 'grad_norm': 2.355027198791504, 'learning_rate': 0.00014525828835774867, 'epoch': 1.09}\n",
      "{'loss': 1.1449, 'grad_norm': 2.9369142055511475, 'learning_rate': 0.0001448727833461835, 'epoch': 1.1}\n",
      "{'loss': 1.283, 'grad_norm': 2.6146345138549805, 'learning_rate': 0.00014448727833461835, 'epoch': 1.11}\n",
      "{'loss': 1.0651, 'grad_norm': 3.7352046966552734, 'learning_rate': 0.0001441017733230532, 'epoch': 1.12}\n",
      "{'loss': 1.0653, 'grad_norm': 2.232365369796753, 'learning_rate': 0.00014371626831148805, 'epoch': 1.13}\n",
      "{'loss': 1.0967, 'grad_norm': 3.2302560806274414, 'learning_rate': 0.00014333076329992289, 'epoch': 1.13}\n",
      "{'loss': 1.0494, 'grad_norm': 2.838684558868408, 'learning_rate': 0.00014294525828835775, 'epoch': 1.14}\n",
      "{'loss': 1.0304, 'grad_norm': 2.9066591262817383, 'learning_rate': 0.00014255975327679261, 'epoch': 1.15}\n",
      "{'loss': 1.0972, 'grad_norm': 3.480924367904663, 'learning_rate': 0.00014217424826522745, 'epoch': 1.16}\n"
     ]
    },
    {
     "data": {
      "application/vnd.jupyter.widget-view+json": {
       "model_id": "5eded4f937bc4772a6e28ac49715cd2d",
       "version_major": 2,
       "version_minor": 0
      },
      "text/plain": [
       "  0%|          | 0/865 [00:00<?, ?it/s]"
      ]
     },
     "metadata": {},
     "output_type": "display_data"
    },
    {
     "name": "stdout",
     "output_type": "stream",
     "text": [
      "{'eval_loss': 1.2437318563461304, 'eval_accuracy': 0.684408446630026, 'eval_weighted_precision': 0.7085070591804129, 'eval_weighted_recall': 0.684408446630026, 'eval_weighted_f1': 0.675704843476542, 'eval_macro_precision': 0.7051838749377028, 'eval_macro_recall': 0.6818845498415472, 'eval_macro_f1': 0.6725356698382609, 'eval_micro_precision': 0.684408446630026, 'eval_micro_recall': 0.684408446630026, 'eval_micro_f1': 0.684408446630026, 'eval_mcc': 0.6825801083282473, 'eval_runtime': 135.9518, 'eval_samples_per_second': 50.856, 'eval_steps_per_second': 6.363, 'epoch': 1.16}\n",
      "{'loss': 1.0239, 'grad_norm': 2.939408302307129, 'learning_rate': 0.00014178874325366232, 'epoch': 1.16}\n",
      "{'loss': 0.8931, 'grad_norm': 2.766871929168701, 'learning_rate': 0.00014140323824209715, 'epoch': 1.17}\n",
      "{'loss': 0.8656, 'grad_norm': 3.052074909210205, 'learning_rate': 0.000141017733230532, 'epoch': 1.18}\n",
      "{'loss': 0.9102, 'grad_norm': 3.730534553527832, 'learning_rate': 0.00014063222821896685, 'epoch': 1.19}\n",
      "{'loss': 1.0873, 'grad_norm': 2.927318811416626, 'learning_rate': 0.00014024672320740172, 'epoch': 1.2}\n",
      "{'loss': 0.959, 'grad_norm': 2.538363218307495, 'learning_rate': 0.00013986121819583656, 'epoch': 1.2}\n",
      "{'loss': 0.9146, 'grad_norm': 2.802605390548706, 'learning_rate': 0.0001394757131842714, 'epoch': 1.21}\n",
      "{'loss': 1.0869, 'grad_norm': 2.691598415374756, 'learning_rate': 0.00013909020817270626, 'epoch': 1.22}\n",
      "{'loss': 1.0305, 'grad_norm': 2.787956953048706, 'learning_rate': 0.0001387047031611411, 'epoch': 1.23}\n",
      "{'loss': 1.0862, 'grad_norm': 4.668502330780029, 'learning_rate': 0.00013831919814957596, 'epoch': 1.23}\n"
     ]
    },
    {
     "data": {
      "application/vnd.jupyter.widget-view+json": {
       "model_id": "0b91ed09f12147ffaef826402c563634",
       "version_major": 2,
       "version_minor": 0
      },
      "text/plain": [
       "  0%|          | 0/865 [00:00<?, ?it/s]"
      ]
     },
     "metadata": {},
     "output_type": "display_data"
    },
    {
     "name": "stdout",
     "output_type": "stream",
     "text": [
      "{'eval_loss': 1.2304725646972656, 'eval_accuracy': 0.6778999132195546, 'eval_weighted_precision': 0.7045742839082254, 'eval_weighted_recall': 0.6778999132195546, 'eval_weighted_f1': 0.6680493564029253, 'eval_macro_precision': 0.7021905278736582, 'eval_macro_recall': 0.6737936506056945, 'eval_macro_f1': 0.6645687958804333, 'eval_micro_precision': 0.6778999132195546, 'eval_micro_recall': 0.6778999132195546, 'eval_micro_f1': 0.6778999132195546, 'eval_mcc': 0.676035185375938, 'eval_runtime': 143.1988, 'eval_samples_per_second': 48.283, 'eval_steps_per_second': 6.041, 'epoch': 1.23}\n",
      "{'loss': 0.998, 'grad_norm': 2.5166854858398438, 'learning_rate': 0.00013793369313801082, 'epoch': 1.24}\n",
      "{'loss': 0.936, 'grad_norm': 3.0169646739959717, 'learning_rate': 0.00013754818812644566, 'epoch': 1.25}\n",
      "{'loss': 0.9474, 'grad_norm': 4.070072174072266, 'learning_rate': 0.0001371626831148805, 'epoch': 1.26}\n",
      "{'loss': 0.8429, 'grad_norm': 2.786745548248291, 'learning_rate': 0.00013677717810331533, 'epoch': 1.26}\n",
      "{'loss': 1.0567, 'grad_norm': 3.85313081741333, 'learning_rate': 0.0001363916730917502, 'epoch': 1.27}\n",
      "{'loss': 1.1972, 'grad_norm': 3.5292439460754395, 'learning_rate': 0.00013600616808018504, 'epoch': 1.28}\n",
      "{'loss': 0.9059, 'grad_norm': 2.6312224864959717, 'learning_rate': 0.0001356206630686199, 'epoch': 1.29}\n",
      "{'loss': 1.0077, 'grad_norm': 2.8122072219848633, 'learning_rate': 0.00013523515805705476, 'epoch': 1.3}\n",
      "{'loss': 0.8268, 'grad_norm': 2.6786904335021973, 'learning_rate': 0.0001348496530454896, 'epoch': 1.3}\n",
      "{'loss': 1.1221, 'grad_norm': 3.6625921726226807, 'learning_rate': 0.00013446414803392444, 'epoch': 1.31}\n"
     ]
    },
    {
     "data": {
      "application/vnd.jupyter.widget-view+json": {
       "model_id": "59ae0d879b514c13aa86a2d5d89ba1df",
       "version_major": 2,
       "version_minor": 0
      },
      "text/plain": [
       "  0%|          | 0/865 [00:00<?, ?it/s]"
      ]
     },
     "metadata": {},
     "output_type": "display_data"
    },
    {
     "name": "stdout",
     "output_type": "stream",
     "text": [
      "{'eval_loss': 1.1626098155975342, 'eval_accuracy': 0.6964130749204512, 'eval_weighted_precision': 0.7168223053270217, 'eval_weighted_recall': 0.6964130749204512, 'eval_weighted_f1': 0.6887156822268387, 'eval_macro_precision': 0.7141386596071774, 'eval_macro_recall': 0.6929587546241736, 'eval_macro_f1': 0.6854543101793579, 'eval_micro_precision': 0.6964130749204512, 'eval_micro_recall': 0.6964130749204512, 'eval_micro_f1': 0.6964130749204512, 'eval_mcc': 0.6946058474214601, 'eval_runtime': 137.9316, 'eval_samples_per_second': 50.126, 'eval_steps_per_second': 6.271, 'epoch': 1.31}\n",
      "{'loss': 0.9652, 'grad_norm': 3.3980867862701416, 'learning_rate': 0.0001340786430223593, 'epoch': 1.32}\n",
      "{'loss': 1.0529, 'grad_norm': 3.855386734008789, 'learning_rate': 0.00013369313801079414, 'epoch': 1.33}\n",
      "{'loss': 0.9023, 'grad_norm': 3.477311372756958, 'learning_rate': 0.000133307632999229, 'epoch': 1.33}\n",
      "{'loss': 1.061, 'grad_norm': 4.031056880950928, 'learning_rate': 0.00013292212798766384, 'epoch': 1.34}\n",
      "{'loss': 0.884, 'grad_norm': 2.961751699447632, 'learning_rate': 0.0001325366229760987, 'epoch': 1.35}\n",
      "{'loss': 0.9471, 'grad_norm': 2.6216766834259033, 'learning_rate': 0.00013215111796453354, 'epoch': 1.36}\n",
      "{'loss': 1.0086, 'grad_norm': 2.265679121017456, 'learning_rate': 0.00013176561295296838, 'epoch': 1.36}\n",
      "{'loss': 0.8558, 'grad_norm': 2.8973042964935303, 'learning_rate': 0.00013138010794140324, 'epoch': 1.37}\n",
      "{'loss': 0.84, 'grad_norm': 2.11000919342041, 'learning_rate': 0.00013099460292983808, 'epoch': 1.38}\n",
      "{'loss': 0.9659, 'grad_norm': 3.481039524078369, 'learning_rate': 0.00013060909791827295, 'epoch': 1.39}\n"
     ]
    },
    {
     "data": {
      "application/vnd.jupyter.widget-view+json": {
       "model_id": "81f2c79796c6447b92bc3beb85e80d66",
       "version_major": 2,
       "version_minor": 0
      },
      "text/plain": [
       "  0%|          | 0/865 [00:00<?, ?it/s]"
      ]
     },
     "metadata": {},
     "output_type": "display_data"
    },
    {
     "name": "stdout",
     "output_type": "stream",
     "text": [
      "{'eval_loss': 1.0996428728103638, 'eval_accuracy': 0.7117442869540064, 'eval_weighted_precision': 0.734404075429872, 'eval_weighted_recall': 0.7117442869540064, 'eval_weighted_f1': 0.7067777612376238, 'eval_macro_precision': 0.7318527584653558, 'eval_macro_recall': 0.7083896407563367, 'eval_macro_f1': 0.7033829733438159, 'eval_micro_precision': 0.7117442869540064, 'eval_micro_recall': 0.7117442869540064, 'eval_micro_f1': 0.7117442869540064, 'eval_mcc': 0.7100096133394229, 'eval_runtime': 140.0088, 'eval_samples_per_second': 49.383, 'eval_steps_per_second': 6.178, 'epoch': 1.39}\n",
      "{'loss': 0.8018, 'grad_norm': 3.3249964714050293, 'learning_rate': 0.0001302235929067078, 'epoch': 1.4}\n",
      "{'loss': 0.7749, 'grad_norm': 2.826200008392334, 'learning_rate': 0.00012983808789514265, 'epoch': 1.4}\n",
      "{'loss': 0.8692, 'grad_norm': 4.36859130859375, 'learning_rate': 0.00012945258288357748, 'epoch': 1.41}\n",
      "{'loss': 0.766, 'grad_norm': 2.6533472537994385, 'learning_rate': 0.00012906707787201232, 'epoch': 1.42}\n",
      "{'loss': 1.0809, 'grad_norm': 1.8322038650512695, 'learning_rate': 0.00012868157286044719, 'epoch': 1.43}\n",
      "{'loss': 0.9025, 'grad_norm': 5.0803914070129395, 'learning_rate': 0.00012829606784888205, 'epoch': 1.43}\n",
      "{'loss': 0.8354, 'grad_norm': 3.057035207748413, 'learning_rate': 0.0001279105628373169, 'epoch': 1.44}\n",
      "{'loss': 0.9438, 'grad_norm': 3.120084524154663, 'learning_rate': 0.00012752505782575175, 'epoch': 1.45}\n",
      "{'loss': 1.0578, 'grad_norm': 3.4478702545166016, 'learning_rate': 0.0001271395528141866, 'epoch': 1.46}\n",
      "{'loss': 0.9572, 'grad_norm': 4.02019739151001, 'learning_rate': 0.00012675404780262143, 'epoch': 1.46}\n"
     ]
    },
    {
     "data": {
      "application/vnd.jupyter.widget-view+json": {
       "model_id": "19f7ef6eb646406f8ca03e762d37802b",
       "version_major": 2,
       "version_minor": 0
      },
      "text/plain": [
       "  0%|          | 0/865 [00:00<?, ?it/s]"
      ]
     },
     "metadata": {},
     "output_type": "display_data"
    },
    {
     "name": "stdout",
     "output_type": "stream",
     "text": [
      "{'eval_loss': 1.0625404119491577, 'eval_accuracy': 0.7088516054382412, 'eval_weighted_precision': 0.7296697525633161, 'eval_weighted_recall': 0.7088516054382412, 'eval_weighted_f1': 0.7010125835032291, 'eval_macro_precision': 0.7276386713361461, 'eval_macro_recall': 0.7057456154921126, 'eval_macro_f1': 0.6981376995542274, 'eval_micro_precision': 0.7088516054382412, 'eval_micro_recall': 0.7088516054382412, 'eval_micro_f1': 0.7088516054382412, 'eval_mcc': 0.7071192560232937, 'eval_runtime': 137.7788, 'eval_samples_per_second': 50.182, 'eval_steps_per_second': 6.278, 'epoch': 1.46}\n",
      "{'loss': 0.9942, 'grad_norm': 2.548387050628662, 'learning_rate': 0.0001263685427910563, 'epoch': 1.47}\n",
      "{'loss': 0.8715, 'grad_norm': 3.4608397483825684, 'learning_rate': 0.00012598303777949115, 'epoch': 1.48}\n",
      "{'loss': 1.044, 'grad_norm': 5.08909797668457, 'learning_rate': 0.000125597532767926, 'epoch': 1.49}\n",
      "{'loss': 0.8468, 'grad_norm': 2.851529598236084, 'learning_rate': 0.00012521202775636083, 'epoch': 1.5}\n",
      "{'loss': 0.7457, 'grad_norm': 3.444730520248413, 'learning_rate': 0.0001248265227447957, 'epoch': 1.5}\n",
      "{'loss': 0.9441, 'grad_norm': 3.5589396953582764, 'learning_rate': 0.00012444101773323053, 'epoch': 1.51}\n",
      "{'loss': 0.8619, 'grad_norm': 3.7418692111968994, 'learning_rate': 0.00012405551272166537, 'epoch': 1.52}\n",
      "{'loss': 1.0055, 'grad_norm': 3.522709608078003, 'learning_rate': 0.00012367000771010023, 'epoch': 1.53}\n",
      "{'loss': 0.9955, 'grad_norm': 4.179482936859131, 'learning_rate': 0.0001232845026985351, 'epoch': 1.53}\n",
      "{'loss': 0.8855, 'grad_norm': 3.0468292236328125, 'learning_rate': 0.00012289899768696993, 'epoch': 1.54}\n"
     ]
    },
    {
     "data": {
      "application/vnd.jupyter.widget-view+json": {
       "model_id": "0dcf819576bd4667b0fce1275f0ce85d",
       "version_major": 2,
       "version_minor": 0
      },
      "text/plain": [
       "  0%|          | 0/865 [00:00<?, ?it/s]"
      ]
     },
     "metadata": {},
     "output_type": "display_data"
    },
    {
     "name": "stdout",
     "output_type": "stream",
     "text": [
      "{'eval_loss': 1.04210364818573, 'eval_accuracy': 0.7196991611223604, 'eval_weighted_precision': 0.7434769855460163, 'eval_weighted_recall': 0.7196991611223604, 'eval_weighted_f1': 0.7115801900349993, 'eval_macro_precision': 0.7409304713966166, 'eval_macro_recall': 0.7168058198199763, 'eval_macro_f1': 0.7084010017790288, 'eval_micro_precision': 0.7196991611223604, 'eval_micro_recall': 0.7196991611223604, 'eval_micro_f1': 0.7196991611223604, 'eval_mcc': 0.7181028971148784, 'eval_runtime': 143.0379, 'eval_samples_per_second': 48.337, 'eval_steps_per_second': 6.047, 'epoch': 1.54}\n",
      "{'loss': 0.9766, 'grad_norm': 4.077423095703125, 'learning_rate': 0.0001225134926754048, 'epoch': 1.55}\n",
      "{'loss': 0.9162, 'grad_norm': 3.2050344944000244, 'learning_rate': 0.00012212798766383963, 'epoch': 1.56}\n",
      "{'loss': 0.8884, 'grad_norm': 4.301814079284668, 'learning_rate': 0.00012174248265227448, 'epoch': 1.57}\n",
      "{'loss': 0.8263, 'grad_norm': 5.451102256774902, 'learning_rate': 0.00012135697764070932, 'epoch': 1.57}\n",
      "{'loss': 0.7985, 'grad_norm': 1.0415059328079224, 'learning_rate': 0.00012097147262914419, 'epoch': 1.58}\n",
      "{'loss': 1.0166, 'grad_norm': 4.510522365570068, 'learning_rate': 0.00012058596761757904, 'epoch': 1.59}\n",
      "{'loss': 0.8072, 'grad_norm': 6.1385087966918945, 'learning_rate': 0.00012020046260601387, 'epoch': 1.6}\n",
      "{'loss': 0.962, 'grad_norm': 2.1468794345855713, 'learning_rate': 0.00011981495759444874, 'epoch': 1.6}\n",
      "{'loss': 0.8189, 'grad_norm': 2.869485378265381, 'learning_rate': 0.00011942945258288359, 'epoch': 1.61}\n",
      "{'loss': 0.7946, 'grad_norm': 3.719849109649658, 'learning_rate': 0.00011904394757131843, 'epoch': 1.62}\n"
     ]
    },
    {
     "data": {
      "application/vnd.jupyter.widget-view+json": {
       "model_id": "383ca02c0b1c4d4694aaa0d709e492d4",
       "version_major": 2,
       "version_minor": 0
      },
      "text/plain": [
       "  0%|          | 0/865 [00:00<?, ?it/s]"
      ]
     },
     "metadata": {},
     "output_type": "display_data"
    },
    {
     "name": "stdout",
     "output_type": "stream",
     "text": [
      "{'eval_loss': 1.0049883127212524, 'eval_accuracy': 0.7314145212612091, 'eval_weighted_precision': 0.7487461708669761, 'eval_weighted_recall': 0.7314145212612091, 'eval_weighted_f1': 0.7268948304944103, 'eval_macro_precision': 0.7462662312634658, 'eval_macro_recall': 0.7286446235686737, 'eval_macro_f1': 0.7241271611027387, 'eval_micro_precision': 0.7314145212612091, 'eval_micro_recall': 0.7314145212612091, 'eval_micro_f1': 0.7314145212612091, 'eval_mcc': 0.7298212407771499, 'eval_runtime': 138.307, 'eval_samples_per_second': 49.99, 'eval_steps_per_second': 6.254, 'epoch': 1.62}\n",
      "{'loss': 0.7516, 'grad_norm': 2.1599037647247314, 'learning_rate': 0.00011865844255975329, 'epoch': 1.63}\n",
      "{'loss': 0.9509, 'grad_norm': 4.381593227386475, 'learning_rate': 0.00011827293754818813, 'epoch': 1.63}\n",
      "{'loss': 0.9284, 'grad_norm': 3.676100969314575, 'learning_rate': 0.00011788743253662298, 'epoch': 1.64}\n",
      "{'loss': 0.8408, 'grad_norm': 3.9381942749023438, 'learning_rate': 0.00011750192752505784, 'epoch': 1.65}\n",
      "{'loss': 0.8468, 'grad_norm': 3.304835796356201, 'learning_rate': 0.00011711642251349268, 'epoch': 1.66}\n",
      "{'loss': 1.0556, 'grad_norm': 4.033651351928711, 'learning_rate': 0.00011673091750192753, 'epoch': 1.67}\n",
      "{'loss': 0.9253, 'grad_norm': 3.690635919570923, 'learning_rate': 0.00011634541249036237, 'epoch': 1.67}\n",
      "{'loss': 0.9202, 'grad_norm': 2.8452160358428955, 'learning_rate': 0.00011595990747879723, 'epoch': 1.68}\n",
      "{'loss': 0.8812, 'grad_norm': 4.178142547607422, 'learning_rate': 0.00011557440246723208, 'epoch': 1.69}\n",
      "{'loss': 0.7815, 'grad_norm': 3.977668523788452, 'learning_rate': 0.00011518889745566692, 'epoch': 1.7}\n"
     ]
    },
    {
     "data": {
      "application/vnd.jupyter.widget-view+json": {
       "model_id": "d7794264f63043d6b447986dce3d8e67",
       "version_major": 2,
       "version_minor": 0
      },
      "text/plain": [
       "  0%|          | 0/865 [00:00<?, ?it/s]"
      ]
     },
     "metadata": {},
     "output_type": "display_data"
    },
    {
     "name": "stdout",
     "output_type": "stream",
     "text": [
      "{'eval_loss': 1.0218417644500732, 'eval_accuracy': 0.7246167196991611, 'eval_weighted_precision': 0.7472189899558558, 'eval_weighted_recall': 0.7246167196991611, 'eval_weighted_f1': 0.7226487151751492, 'eval_macro_precision': 0.7447636558235223, 'eval_macro_recall': 0.7223483000286451, 'eval_macro_f1': 0.720329617461807, 'eval_micro_precision': 0.7246167196991611, 'eval_micro_recall': 0.7246167196991611, 'eval_micro_f1': 0.7246167196991611, 'eval_mcc': 0.7229776211280832, 'eval_runtime': 138.5523, 'eval_samples_per_second': 49.902, 'eval_steps_per_second': 6.243, 'epoch': 1.7}\n",
      "{'loss': 0.8882, 'grad_norm': 2.3168513774871826, 'learning_rate': 0.00011480339244410178, 'epoch': 1.7}\n",
      "{'loss': 0.9223, 'grad_norm': 3.9904589653015137, 'learning_rate': 0.00011441788743253663, 'epoch': 1.71}\n",
      "{'loss': 0.8285, 'grad_norm': 3.2547953128814697, 'learning_rate': 0.00011403238242097147, 'epoch': 1.72}\n",
      "{'loss': 0.7475, 'grad_norm': 3.251565456390381, 'learning_rate': 0.00011364687740940634, 'epoch': 1.73}\n",
      "{'loss': 0.7697, 'grad_norm': 3.261528491973877, 'learning_rate': 0.00011326137239784119, 'epoch': 1.73}\n",
      "{'loss': 0.8352, 'grad_norm': 2.6731672286987305, 'learning_rate': 0.00011287586738627602, 'epoch': 1.74}\n",
      "{'loss': 0.8764, 'grad_norm': 3.2530181407928467, 'learning_rate': 0.00011249036237471086, 'epoch': 1.75}\n",
      "{'loss': 0.9497, 'grad_norm': 2.2876007556915283, 'learning_rate': 0.00011210485736314574, 'epoch': 1.76}\n",
      "{'loss': 1.008, 'grad_norm': 5.099693298339844, 'learning_rate': 0.00011171935235158058, 'epoch': 1.77}\n",
      "{'loss': 0.7931, 'grad_norm': 3.8430190086364746, 'learning_rate': 0.00011133384734001541, 'epoch': 1.77}\n"
     ]
    },
    {
     "data": {
      "application/vnd.jupyter.widget-view+json": {
       "model_id": "85972732c6c9428b880b3e4ccdd89809",
       "version_major": 2,
       "version_minor": 0
      },
      "text/plain": [
       "  0%|          | 0/865 [00:00<?, ?it/s]"
      ]
     },
     "metadata": {},
     "output_type": "display_data"
    },
    {
     "name": "stdout",
     "output_type": "stream",
     "text": [
      "{'eval_loss': 0.9507205486297607, 'eval_accuracy': 0.7413942724905987, 'eval_weighted_precision': 0.7584863275106202, 'eval_weighted_recall': 0.7413942724905987, 'eval_weighted_f1': 0.7387774548437327, 'eval_macro_precision': 0.7555350123976381, 'eval_macro_recall': 0.7390869617875578, 'eval_macro_f1': 0.7360070259490147, 'eval_micro_precision': 0.7413942724905987, 'eval_micro_recall': 0.7413942724905987, 'eval_micro_f1': 0.7413942724905987, 'eval_mcc': 0.7398269045281505, 'eval_runtime': 139.5857, 'eval_samples_per_second': 49.532, 'eval_steps_per_second': 6.197, 'epoch': 1.77}\n",
      "{'loss': 0.7491, 'grad_norm': 3.060415029525757, 'learning_rate': 0.00011094834232845028, 'epoch': 1.78}\n",
      "{'loss': 1.0372, 'grad_norm': 3.3058245182037354, 'learning_rate': 0.00011056283731688513, 'epoch': 1.79}\n",
      "{'loss': 0.8415, 'grad_norm': 4.3230881690979, 'learning_rate': 0.00011017733230531997, 'epoch': 1.8}\n",
      "{'loss': 0.7772, 'grad_norm': 3.188629150390625, 'learning_rate': 0.00010979182729375483, 'epoch': 1.8}\n",
      "{'loss': 0.791, 'grad_norm': 5.111169338226318, 'learning_rate': 0.00010940632228218968, 'epoch': 1.81}\n",
      "{'loss': 0.8466, 'grad_norm': 4.283782958984375, 'learning_rate': 0.00010902081727062452, 'epoch': 1.82}\n",
      "{'loss': 0.6999, 'grad_norm': 4.262781143188477, 'learning_rate': 0.00010863531225905937, 'epoch': 1.83}\n",
      "{'loss': 0.7481, 'grad_norm': 4.594127655029297, 'learning_rate': 0.00010824980724749423, 'epoch': 1.84}\n",
      "{'loss': 0.6293, 'grad_norm': 3.7132785320281982, 'learning_rate': 0.00010786430223592907, 'epoch': 1.84}\n",
      "{'loss': 0.9326, 'grad_norm': 2.8057820796966553, 'learning_rate': 0.00010747879722436392, 'epoch': 1.85}\n"
     ]
    },
    {
     "data": {
      "application/vnd.jupyter.widget-view+json": {
       "model_id": "c2de2f524794471eaf93194dbfb7b03a",
       "version_major": 2,
       "version_minor": 0
      },
      "text/plain": [
       "  0%|          | 0/865 [00:00<?, ?it/s]"
      ]
     },
     "metadata": {},
     "output_type": "display_data"
    },
    {
     "name": "stdout",
     "output_type": "stream",
     "text": [
      "{'eval_loss': 0.9299975037574768, 'eval_accuracy': 0.7470350014463407, 'eval_weighted_precision': 0.7634936664497335, 'eval_weighted_recall': 0.7470350014463407, 'eval_weighted_f1': 0.7440949565852306, 'eval_macro_precision': 0.7604074792653133, 'eval_macro_recall': 0.7450138174498898, 'eval_macro_f1': 0.7415511048094324, 'eval_micro_precision': 0.7470350014463407, 'eval_micro_recall': 0.7470350014463407, 'eval_micro_f1': 0.7470350014463407, 'eval_mcc': 0.7454858786640249, 'eval_runtime': 136.2415, 'eval_samples_per_second': 50.748, 'eval_steps_per_second': 6.349, 'epoch': 1.85}\n",
      "{'loss': 0.6463, 'grad_norm': 2.8700296878814697, 'learning_rate': 0.00010709329221279878, 'epoch': 1.86}\n",
      "{'loss': 0.9574, 'grad_norm': 7.30453634262085, 'learning_rate': 0.00010670778720123362, 'epoch': 1.87}\n",
      "{'loss': 0.7502, 'grad_norm': 2.2280168533325195, 'learning_rate': 0.00010632228218966846, 'epoch': 1.87}\n",
      "{'loss': 0.7942, 'grad_norm': 3.5609817504882812, 'learning_rate': 0.00010593677717810334, 'epoch': 1.88}\n",
      "{'loss': 0.7725, 'grad_norm': 3.1815688610076904, 'learning_rate': 0.00010555127216653817, 'epoch': 1.89}\n",
      "{'loss': 0.8435, 'grad_norm': 6.265247821807861, 'learning_rate': 0.00010516576715497301, 'epoch': 1.9}\n",
      "{'loss': 0.7926, 'grad_norm': 6.120423793792725, 'learning_rate': 0.00010478026214340786, 'epoch': 1.9}\n",
      "{'loss': 0.9176, 'grad_norm': 2.8384134769439697, 'learning_rate': 0.00010439475713184273, 'epoch': 1.91}\n",
      "{'loss': 0.7868, 'grad_norm': 4.677588939666748, 'learning_rate': 0.00010400925212027756, 'epoch': 1.92}\n",
      "{'loss': 0.7744, 'grad_norm': 4.145052909851074, 'learning_rate': 0.00010362374710871241, 'epoch': 1.93}\n"
     ]
    },
    {
     "data": {
      "application/vnd.jupyter.widget-view+json": {
       "model_id": "8ad89a70568347389813bcdd06fb61fa",
       "version_major": 2,
       "version_minor": 0
      },
      "text/plain": [
       "  0%|          | 0/865 [00:00<?, ?it/s]"
      ]
     },
     "metadata": {},
     "output_type": "display_data"
    },
    {
     "name": "stdout",
     "output_type": "stream",
     "text": [
      "{'eval_loss': 0.9268185496330261, 'eval_accuracy': 0.7442869540063639, 'eval_weighted_precision': 0.7628318025132516, 'eval_weighted_recall': 0.7442869540063639, 'eval_weighted_f1': 0.7399508144048034, 'eval_macro_precision': 0.7612963743073988, 'eval_macro_recall': 0.7411013368754876, 'eval_macro_f1': 0.7374524742369492, 'eval_micro_precision': 0.7442869540063639, 'eval_micro_recall': 0.7442869540063639, 'eval_micro_f1': 0.7442869540063639, 'eval_mcc': 0.7427382849030746, 'eval_runtime': 135.8916, 'eval_samples_per_second': 50.879, 'eval_steps_per_second': 6.365, 'epoch': 1.93}\n",
      "{'loss': 0.876, 'grad_norm': 4.897144317626953, 'learning_rate': 0.00010323824209714728, 'epoch': 1.94}\n",
      "{'loss': 0.8435, 'grad_norm': 4.189266681671143, 'learning_rate': 0.00010285273708558212, 'epoch': 1.94}\n",
      "{'loss': 0.7832, 'grad_norm': 2.74941086769104, 'learning_rate': 0.00010246723207401697, 'epoch': 1.95}\n",
      "{'loss': 0.8165, 'grad_norm': 3.5356619358062744, 'learning_rate': 0.00010208172706245183, 'epoch': 1.96}\n",
      "{'loss': 0.8339, 'grad_norm': 3.2869656085968018, 'learning_rate': 0.00010169622205088667, 'epoch': 1.97}\n",
      "{'loss': 0.6785, 'grad_norm': 2.1522200107574463, 'learning_rate': 0.00010131071703932152, 'epoch': 1.97}\n",
      "{'loss': 0.897, 'grad_norm': 2.9851083755493164, 'learning_rate': 0.00010092521202775635, 'epoch': 1.98}\n",
      "{'loss': 0.7514, 'grad_norm': 2.2512876987457275, 'learning_rate': 0.00010053970701619122, 'epoch': 1.99}\n",
      "{'loss': 0.8144, 'grad_norm': 3.01823091506958, 'learning_rate': 0.00010015420200462607, 'epoch': 2.0}\n",
      "{'loss': 0.6377, 'grad_norm': 3.2409796714782715, 'learning_rate': 9.976869699306092e-05, 'epoch': 2.0}\n"
     ]
    },
    {
     "data": {
      "application/vnd.jupyter.widget-view+json": {
       "model_id": "a3d104f600554f5c91a8be4338638b61",
       "version_major": 2,
       "version_minor": 0
      },
      "text/plain": [
       "  0%|          | 0/865 [00:00<?, ?it/s]"
      ]
     },
     "metadata": {},
     "output_type": "display_data"
    },
    {
     "name": "stdout",
     "output_type": "stream",
     "text": [
      "{'eval_loss': 0.8927254676818848, 'eval_accuracy': 0.7552791437662714, 'eval_weighted_precision': 0.7721652842708268, 'eval_weighted_recall': 0.7552791437662714, 'eval_weighted_f1': 0.7524720748212952, 'eval_macro_precision': 0.7688982106098512, 'eval_macro_recall': 0.7537001099469736, 'eval_macro_f1': 0.7500947140853605, 'eval_micro_precision': 0.7552791437662714, 'eval_micro_recall': 0.7552791437662714, 'eval_micro_f1': 0.7552791437662714, 'eval_mcc': 0.7537855616011289, 'eval_runtime': 136.0445, 'eval_samples_per_second': 50.822, 'eval_steps_per_second': 6.358, 'epoch': 2.0}\n",
      "{'loss': 0.4458, 'grad_norm': 0.979913055896759, 'learning_rate': 9.938319198149576e-05, 'epoch': 2.01}\n",
      "{'loss': 0.4511, 'grad_norm': 1.97086501121521, 'learning_rate': 9.899768696993061e-05, 'epoch': 2.02}\n",
      "{'loss': 0.3782, 'grad_norm': 2.970524311065674, 'learning_rate': 9.861218195836547e-05, 'epoch': 2.03}\n",
      "{'loss': 0.5127, 'grad_norm': 3.927824020385742, 'learning_rate': 9.822667694680031e-05, 'epoch': 2.04}\n",
      "{'loss': 0.3502, 'grad_norm': 2.4443700313568115, 'learning_rate': 9.784117193523516e-05, 'epoch': 2.04}\n",
      "{'loss': 0.3825, 'grad_norm': 2.711090087890625, 'learning_rate': 9.745566692367001e-05, 'epoch': 2.05}\n",
      "{'loss': 0.3542, 'grad_norm': 1.8141582012176514, 'learning_rate': 9.707016191210486e-05, 'epoch': 2.06}\n",
      "{'loss': 0.4907, 'grad_norm': 3.879805088043213, 'learning_rate': 9.668465690053971e-05, 'epoch': 2.07}\n",
      "{'loss': 0.5296, 'grad_norm': 2.7075915336608887, 'learning_rate': 9.629915188897456e-05, 'epoch': 2.07}\n",
      "{'loss': 0.4455, 'grad_norm': 2.668707847595215, 'learning_rate': 9.591364687740941e-05, 'epoch': 2.08}\n"
     ]
    },
    {
     "data": {
      "application/vnd.jupyter.widget-view+json": {
       "model_id": "c80f6c8c11b4426a846cb9c9434ce984",
       "version_major": 2,
       "version_minor": 0
      },
      "text/plain": [
       "  0%|          | 0/865 [00:00<?, ?it/s]"
      ]
     },
     "metadata": {},
     "output_type": "display_data"
    },
    {
     "name": "stdout",
     "output_type": "stream",
     "text": [
      "{'eval_loss': 0.8363466262817383, 'eval_accuracy': 0.7684408446630026, 'eval_weighted_precision': 0.781285600267835, 'eval_weighted_recall': 0.7684408446630026, 'eval_weighted_f1': 0.7645215835386661, 'eval_macro_precision': 0.7780540404152415, 'eval_macro_recall': 0.7668887366738041, 'eval_macro_f1': 0.7620253895844216, 'eval_micro_precision': 0.7684408446630026, 'eval_micro_recall': 0.7684408446630026, 'eval_micro_f1': 0.7684408446630026, 'eval_mcc': 0.7670177382816723, 'eval_runtime': 137.4893, 'eval_samples_per_second': 50.288, 'eval_steps_per_second': 6.291, 'epoch': 2.08}\n",
      "{'loss': 0.4515, 'grad_norm': 2.5414066314697266, 'learning_rate': 9.552814186584425e-05, 'epoch': 2.09}\n",
      "{'loss': 0.3726, 'grad_norm': 1.383700966835022, 'learning_rate': 9.514263685427912e-05, 'epoch': 2.1}\n",
      "{'loss': 0.4573, 'grad_norm': 2.8401811122894287, 'learning_rate': 9.475713184271397e-05, 'epoch': 2.1}\n",
      "{'loss': 0.4592, 'grad_norm': 3.413926839828491, 'learning_rate': 9.43716268311488e-05, 'epoch': 2.11}\n",
      "{'loss': 0.3504, 'grad_norm': 2.544743299484253, 'learning_rate': 9.398612181958367e-05, 'epoch': 2.12}\n",
      "{'loss': 0.3681, 'grad_norm': 1.1729849576950073, 'learning_rate': 9.36006168080185e-05, 'epoch': 2.13}\n",
      "{'loss': 0.4834, 'grad_norm': 2.4496877193450928, 'learning_rate': 9.321511179645336e-05, 'epoch': 2.14}\n",
      "{'loss': 0.3904, 'grad_norm': 2.8266186714172363, 'learning_rate': 9.28296067848882e-05, 'epoch': 2.14}\n",
      "{'loss': 0.4291, 'grad_norm': 3.4391984939575195, 'learning_rate': 9.244410177332306e-05, 'epoch': 2.15}\n",
      "{'loss': 0.4271, 'grad_norm': 3.2847812175750732, 'learning_rate': 9.205859676175791e-05, 'epoch': 2.16}\n"
     ]
    },
    {
     "data": {
      "application/vnd.jupyter.widget-view+json": {
       "model_id": "c50e896b3e7f449d802953be1230fdd6",
       "version_major": 2,
       "version_minor": 0
      },
      "text/plain": [
       "  0%|          | 0/865 [00:00<?, ?it/s]"
      ]
     },
     "metadata": {},
     "output_type": "display_data"
    },
    {
     "name": "stdout",
     "output_type": "stream",
     "text": [
      "{'eval_loss': 0.8589582443237305, 'eval_accuracy': 0.7577379230546717, 'eval_weighted_precision': 0.7770345540441345, 'eval_weighted_recall': 0.7577379230546717, 'eval_weighted_f1': 0.7540159264168116, 'eval_macro_precision': 0.7737876783698105, 'eval_macro_recall': 0.7558238144002712, 'eval_macro_f1': 0.7513054652473353, 'eval_micro_precision': 0.7577379230546717, 'eval_micro_recall': 0.7577379230546717, 'eval_micro_f1': 0.7577379230546717, 'eval_mcc': 0.7562779801561078, 'eval_runtime': 137.2194, 'eval_samples_per_second': 50.386, 'eval_steps_per_second': 6.304, 'epoch': 2.16}\n",
      "{'loss': 0.3442, 'grad_norm': 2.1149816513061523, 'learning_rate': 9.167309175019276e-05, 'epoch': 2.17}\n",
      "{'loss': 0.3402, 'grad_norm': 0.8447396755218506, 'learning_rate': 9.128758673862761e-05, 'epoch': 2.17}\n",
      "{'loss': 0.4494, 'grad_norm': 3.048534870147705, 'learning_rate': 9.090208172706246e-05, 'epoch': 2.18}\n",
      "{'loss': 0.4973, 'grad_norm': 4.172161102294922, 'learning_rate': 9.05165767154973e-05, 'epoch': 2.19}\n",
      "{'loss': 0.4496, 'grad_norm': 3.7933242321014404, 'learning_rate': 9.013107170393216e-05, 'epoch': 2.2}\n",
      "{'loss': 0.4374, 'grad_norm': 2.795018434524536, 'learning_rate': 8.9745566692367e-05, 'epoch': 2.21}\n",
      "{'loss': 0.526, 'grad_norm': 2.3665578365325928, 'learning_rate': 8.936006168080185e-05, 'epoch': 2.21}\n",
      "{'loss': 0.4634, 'grad_norm': 4.9712815284729, 'learning_rate': 8.897455666923671e-05, 'epoch': 2.22}\n",
      "{'loss': 0.5555, 'grad_norm': 1.9371089935302734, 'learning_rate': 8.858905165767155e-05, 'epoch': 2.23}\n",
      "{'loss': 0.4709, 'grad_norm': 1.874319076538086, 'learning_rate': 8.82035466461064e-05, 'epoch': 2.24}\n"
     ]
    },
    {
     "data": {
      "application/vnd.jupyter.widget-view+json": {
       "model_id": "9741cb1bb44c4133843bc2c35c9fbcaf",
       "version_major": 2,
       "version_minor": 0
      },
      "text/plain": [
       "  0%|          | 0/865 [00:00<?, ?it/s]"
      ]
     },
     "metadata": {},
     "output_type": "display_data"
    },
    {
     "name": "stdout",
     "output_type": "stream",
     "text": [
      "{'eval_loss': 0.8641772866249084, 'eval_accuracy': 0.7581718252820364, 'eval_weighted_precision': 0.7730462204435993, 'eval_weighted_recall': 0.7581718252820364, 'eval_weighted_f1': 0.7576722911773401, 'eval_macro_precision': 0.7703773512163177, 'eval_macro_recall': 0.755520751333784, 'eval_macro_f1': 0.7549035701446337, 'eval_micro_precision': 0.7581718252820364, 'eval_micro_recall': 0.7581718252820364, 'eval_micro_f1': 0.7581718252820364, 'eval_mcc': 0.7566576995767066, 'eval_runtime': 135.021, 'eval_samples_per_second': 51.207, 'eval_steps_per_second': 6.406, 'epoch': 2.24}\n",
      "{'loss': 0.4594, 'grad_norm': 1.1466529369354248, 'learning_rate': 8.781804163454125e-05, 'epoch': 2.24}\n",
      "{'loss': 0.3738, 'grad_norm': 2.8226332664489746, 'learning_rate': 8.74325366229761e-05, 'epoch': 2.25}\n",
      "{'loss': 0.4244, 'grad_norm': 4.050442218780518, 'learning_rate': 8.704703161141095e-05, 'epoch': 2.26}\n",
      "{'loss': 0.4198, 'grad_norm': 3.673518657684326, 'learning_rate': 8.66615265998458e-05, 'epoch': 2.27}\n",
      "{'loss': 0.4327, 'grad_norm': 2.0530550479888916, 'learning_rate': 8.627602158828065e-05, 'epoch': 2.27}\n",
      "{'loss': 0.3786, 'grad_norm': 4.468331336975098, 'learning_rate': 8.589051657671549e-05, 'epoch': 2.28}\n",
      "{'loss': 0.4934, 'grad_norm': 3.2769761085510254, 'learning_rate': 8.550501156515036e-05, 'epoch': 2.29}\n",
      "{'loss': 0.6253, 'grad_norm': 3.458012342453003, 'learning_rate': 8.51195065535852e-05, 'epoch': 2.3}\n",
      "{'loss': 0.4265, 'grad_norm': 1.5248780250549316, 'learning_rate': 8.473400154202004e-05, 'epoch': 2.31}\n",
      "{'loss': 0.4704, 'grad_norm': 1.7457947731018066, 'learning_rate': 8.434849653045491e-05, 'epoch': 2.31}\n"
     ]
    },
    {
     "data": {
      "application/vnd.jupyter.widget-view+json": {
       "model_id": "14ee5b3834f34b2e9ef8e4f346847fed",
       "version_major": 2,
       "version_minor": 0
      },
      "text/plain": [
       "  0%|          | 0/865 [00:00<?, ?it/s]"
      ]
     },
     "metadata": {},
     "output_type": "display_data"
    },
    {
     "name": "stdout",
     "output_type": "stream",
     "text": [
      "{'eval_loss': 0.8512814044952393, 'eval_accuracy': 0.7646803586925079, 'eval_weighted_precision': 0.7809627420560344, 'eval_weighted_recall': 0.7646803586925079, 'eval_weighted_f1': 0.7650135298706863, 'eval_macro_precision': 0.7785668009450496, 'eval_macro_recall': 0.762565614872559, 'eval_macro_f1': 0.7626637276461339, 'eval_micro_precision': 0.7646803586925079, 'eval_micro_recall': 0.7646803586925079, 'eval_micro_f1': 0.7646803586925079, 'eval_mcc': 0.7632134534088771, 'eval_runtime': 124.4494, 'eval_samples_per_second': 55.557, 'eval_steps_per_second': 6.951, 'epoch': 2.31}\n",
      "{'loss': 0.4482, 'grad_norm': 3.5904929637908936, 'learning_rate': 8.396299151888975e-05, 'epoch': 2.32}\n",
      "{'loss': 0.5795, 'grad_norm': 3.2195072174072266, 'learning_rate': 8.35774865073246e-05, 'epoch': 2.33}\n",
      "{'loss': 0.4485, 'grad_norm': 2.1728711128234863, 'learning_rate': 8.319198149575945e-05, 'epoch': 2.34}\n",
      "{'loss': 0.3761, 'grad_norm': 4.226446628570557, 'learning_rate': 8.28064764841943e-05, 'epoch': 2.34}\n",
      "{'loss': 0.441, 'grad_norm': 1.6250386238098145, 'learning_rate': 8.242097147262915e-05, 'epoch': 2.35}\n",
      "{'loss': 0.4183, 'grad_norm': 4.034574508666992, 'learning_rate': 8.2035466461064e-05, 'epoch': 2.36}\n",
      "{'loss': 0.345, 'grad_norm': 3.753692150115967, 'learning_rate': 8.164996144949885e-05, 'epoch': 2.37}\n",
      "{'loss': 0.4669, 'grad_norm': 1.1966875791549683, 'learning_rate': 8.12644564379337e-05, 'epoch': 2.37}\n",
      "{'loss': 0.4866, 'grad_norm': 1.977130651473999, 'learning_rate': 8.087895142636854e-05, 'epoch': 2.38}\n",
      "{'loss': 0.5661, 'grad_norm': 2.6358120441436768, 'learning_rate': 8.04934464148034e-05, 'epoch': 2.39}\n"
     ]
    },
    {
     "data": {
      "application/vnd.jupyter.widget-view+json": {
       "model_id": "d4f00b7f1e9243eab46c78fb65662836",
       "version_major": 2,
       "version_minor": 0
      },
      "text/plain": [
       "  0%|          | 0/865 [00:00<?, ?it/s]"
      ]
     },
     "metadata": {},
     "output_type": "display_data"
    },
    {
     "name": "stdout",
     "output_type": "stream",
     "text": [
      "{'eval_loss': 0.8433274626731873, 'eval_accuracy': 0.7632340179346254, 'eval_weighted_precision': 0.7800246884645883, 'eval_weighted_recall': 0.7632340179346254, 'eval_weighted_f1': 0.7610531668985512, 'eval_macro_precision': 0.7778704008412987, 'eval_macro_recall': 0.7603377707553681, 'eval_macro_f1': 0.7584289583874793, 'eval_micro_precision': 0.7632340179346254, 'eval_micro_recall': 0.7632340179346254, 'eval_micro_f1': 0.7632340179346254, 'eval_mcc': 0.7617790999207693, 'eval_runtime': 121.0168, 'eval_samples_per_second': 57.133, 'eval_steps_per_second': 7.148, 'epoch': 2.39}\n",
      "{'loss': 0.5028, 'grad_norm': 3.7755134105682373, 'learning_rate': 8.010794140323825e-05, 'epoch': 2.4}\n",
      "{'loss': 0.2951, 'grad_norm': 2.2724273204803467, 'learning_rate': 7.972243639167309e-05, 'epoch': 2.41}\n",
      "{'loss': 0.3449, 'grad_norm': 2.833723306655884, 'learning_rate': 7.933693138010795e-05, 'epoch': 2.41}\n",
      "{'loss': 0.2969, 'grad_norm': 3.091113805770874, 'learning_rate': 7.895142636854279e-05, 'epoch': 2.42}\n",
      "{'loss': 0.3827, 'grad_norm': 4.080282211303711, 'learning_rate': 7.856592135697764e-05, 'epoch': 2.43}\n",
      "{'loss': 0.438, 'grad_norm': 3.200226068496704, 'learning_rate': 7.81804163454125e-05, 'epoch': 2.44}\n",
      "{'loss': 0.5048, 'grad_norm': 3.9881746768951416, 'learning_rate': 7.779491133384734e-05, 'epoch': 2.44}\n",
      "{'loss': 0.4632, 'grad_norm': 2.156902313232422, 'learning_rate': 7.74094063222822e-05, 'epoch': 2.45}\n",
      "{'loss': 0.4305, 'grad_norm': 1.8423888683319092, 'learning_rate': 7.702390131071704e-05, 'epoch': 2.46}\n",
      "{'loss': 0.4181, 'grad_norm': 3.6292178630828857, 'learning_rate': 7.66383962991519e-05, 'epoch': 2.47}\n"
     ]
    },
    {
     "data": {
      "application/vnd.jupyter.widget-view+json": {
       "model_id": "11668e9684b840d2ac02e8035c969f68",
       "version_major": 2,
       "version_minor": 0
      },
      "text/plain": [
       "  0%|          | 0/865 [00:00<?, ?it/s]"
      ]
     },
     "metadata": {},
     "output_type": "display_data"
    },
    {
     "name": "stdout",
     "output_type": "stream",
     "text": [
      "{'eval_loss': 0.8213604092597961, 'eval_accuracy': 0.7713335261787677, 'eval_weighted_precision': 0.7880449674048228, 'eval_weighted_recall': 0.7713335261787677, 'eval_weighted_f1': 0.771458410635831, 'eval_macro_precision': 0.7858264888134966, 'eval_macro_recall': 0.7693919048077628, 'eval_macro_f1': 0.7693352674241571, 'eval_micro_precision': 0.7713335261787677, 'eval_micro_recall': 0.7713335261787677, 'eval_micro_f1': 0.7713335261787677, 'eval_mcc': 0.7699092018875001, 'eval_runtime': 120.9821, 'eval_samples_per_second': 57.149, 'eval_steps_per_second': 7.15, 'epoch': 2.47}\n",
      "{'loss': 0.4957, 'grad_norm': 3.5321500301361084, 'learning_rate': 7.625289128758675e-05, 'epoch': 2.47}\n",
      "{'loss': 0.4871, 'grad_norm': 1.9835789203643799, 'learning_rate': 7.58673862760216e-05, 'epoch': 2.48}\n",
      "{'loss': 0.466, 'grad_norm': 2.988687753677368, 'learning_rate': 7.548188126445645e-05, 'epoch': 2.49}\n",
      "{'loss': 0.446, 'grad_norm': 2.495115280151367, 'learning_rate': 7.509637625289128e-05, 'epoch': 2.5}\n",
      "{'loss': 0.3699, 'grad_norm': 3.421154260635376, 'learning_rate': 7.471087124132613e-05, 'epoch': 2.51}\n",
      "{'loss': 0.3411, 'grad_norm': 4.148919582366943, 'learning_rate': 7.4325366229761e-05, 'epoch': 2.51}\n",
      "{'loss': 0.4167, 'grad_norm': 3.0481789112091064, 'learning_rate': 7.393986121819584e-05, 'epoch': 2.52}\n",
      "{'loss': 0.3056, 'grad_norm': 2.7376773357391357, 'learning_rate': 7.355435620663069e-05, 'epoch': 2.53}\n",
      "{'loss': 0.3798, 'grad_norm': 3.399726390838623, 'learning_rate': 7.316885119506554e-05, 'epoch': 2.54}\n",
      "{'loss': 0.4098, 'grad_norm': 1.6732529401779175, 'learning_rate': 7.278334618350039e-05, 'epoch': 2.54}\n"
     ]
    },
    {
     "data": {
      "application/vnd.jupyter.widget-view+json": {
       "model_id": "847adf03eeae406f9ccd3b5092da8d14",
       "version_major": 2,
       "version_minor": 0
      },
      "text/plain": [
       "  0%|          | 0/865 [00:00<?, ?it/s]"
      ]
     },
     "metadata": {},
     "output_type": "display_data"
    },
    {
     "name": "stdout",
     "output_type": "stream",
     "text": [
      "{'eval_loss': 0.8186818361282349, 'eval_accuracy': 0.7671391379809083, 'eval_weighted_precision': 0.7797455262384441, 'eval_weighted_recall': 0.7671391379809083, 'eval_weighted_f1': 0.7659549525365101, 'eval_macro_precision': 0.7777581755213212, 'eval_macro_recall': 0.7644752517898857, 'eval_macro_f1': 0.7635636217993393, 'eval_micro_precision': 0.7671391379809083, 'eval_micro_recall': 0.7671391379809083, 'eval_micro_f1': 0.7671391379809083, 'eval_mcc': 0.7656756885092459, 'eval_runtime': 121.0386, 'eval_samples_per_second': 57.122, 'eval_steps_per_second': 7.146, 'epoch': 2.54}\n",
      "{'loss': 0.3675, 'grad_norm': 3.196603298187256, 'learning_rate': 7.239784117193524e-05, 'epoch': 2.55}\n",
      "{'loss': 0.4606, 'grad_norm': 2.611884593963623, 'learning_rate': 7.201233616037009e-05, 'epoch': 2.56}\n",
      "{'loss': 0.5193, 'grad_norm': 3.244961977005005, 'learning_rate': 7.162683114880494e-05, 'epoch': 2.57}\n",
      "{'loss': 0.3119, 'grad_norm': 1.9951931238174438, 'learning_rate': 7.124132613723978e-05, 'epoch': 2.58}\n",
      "{'loss': 0.3065, 'grad_norm': 1.9600993394851685, 'learning_rate': 7.085582112567464e-05, 'epoch': 2.58}\n",
      "{'loss': 0.3165, 'grad_norm': 2.768630027770996, 'learning_rate': 7.047031611410949e-05, 'epoch': 2.59}\n",
      "{'loss': 0.4521, 'grad_norm': 2.2056877613067627, 'learning_rate': 7.008481110254433e-05, 'epoch': 2.6}\n",
      "{'loss': 0.4587, 'grad_norm': 2.927335500717163, 'learning_rate': 6.96993060909792e-05, 'epoch': 2.61}\n",
      "{'loss': 0.3575, 'grad_norm': 1.5646140575408936, 'learning_rate': 6.931380107941403e-05, 'epoch': 2.61}\n",
      "{'loss': 0.329, 'grad_norm': 1.9959385395050049, 'learning_rate': 6.892829606784888e-05, 'epoch': 2.62}\n"
     ]
    },
    {
     "data": {
      "application/vnd.jupyter.widget-view+json": {
       "model_id": "d332612c8d9f4a4aae9b24e37fa4592b",
       "version_major": 2,
       "version_minor": 0
      },
      "text/plain": [
       "  0%|          | 0/865 [00:00<?, ?it/s]"
      ]
     },
     "metadata": {},
     "output_type": "display_data"
    },
    {
     "name": "stdout",
     "output_type": "stream",
     "text": [
      "{'eval_loss': 0.808532178401947, 'eval_accuracy': 0.7732137691640151, 'eval_weighted_precision': 0.7827714071516922, 'eval_weighted_recall': 0.7732137691640151, 'eval_weighted_f1': 0.7716168498808306, 'eval_macro_precision': 0.7798567801957252, 'eval_macro_recall': 0.7718789314165438, 'eval_macro_f1': 0.769370595588285, 'eval_micro_precision': 0.7732137691640151, 'eval_micro_recall': 0.7732137691640151, 'eval_micro_f1': 0.7732137691640151, 'eval_mcc': 0.7717773208385481, 'eval_runtime': 121.065, 'eval_samples_per_second': 57.11, 'eval_steps_per_second': 7.145, 'epoch': 2.62}\n",
      "{'loss': 0.2998, 'grad_norm': 2.887369394302368, 'learning_rate': 6.854279105628375e-05, 'epoch': 2.63}\n",
      "{'loss': 0.2381, 'grad_norm': 1.798422932624817, 'learning_rate': 6.815728604471858e-05, 'epoch': 2.64}\n",
      "{'loss': 0.3201, 'grad_norm': 2.8631269931793213, 'learning_rate': 6.777178103315343e-05, 'epoch': 2.64}\n",
      "{'loss': 0.4286, 'grad_norm': 2.178966522216797, 'learning_rate': 6.738627602158828e-05, 'epoch': 2.65}\n",
      "{'loss': 0.3866, 'grad_norm': 1.1784168481826782, 'learning_rate': 6.700077101002314e-05, 'epoch': 2.66}\n",
      "{'loss': 0.3649, 'grad_norm': 3.264777660369873, 'learning_rate': 6.661526599845799e-05, 'epoch': 2.67}\n",
      "{'loss': 0.4076, 'grad_norm': 2.3450896739959717, 'learning_rate': 6.622976098689284e-05, 'epoch': 2.68}\n",
      "{'loss': 0.4993, 'grad_norm': 2.799473762512207, 'learning_rate': 6.584425597532769e-05, 'epoch': 2.68}\n",
      "{'loss': 0.3129, 'grad_norm': 1.611547589302063, 'learning_rate': 6.545875096376252e-05, 'epoch': 2.69}\n",
      "{'loss': 0.3045, 'grad_norm': 0.37916299700737, 'learning_rate': 6.507324595219738e-05, 'epoch': 2.7}\n"
     ]
    },
    {
     "data": {
      "application/vnd.jupyter.widget-view+json": {
       "model_id": "a3c20ebc21de4d66880fce447f721291",
       "version_major": 2,
       "version_minor": 0
      },
      "text/plain": [
       "  0%|          | 0/865 [00:00<?, ?it/s]"
      ]
     },
     "metadata": {},
     "output_type": "display_data"
    },
    {
     "name": "stdout",
     "output_type": "stream",
     "text": [
      "{'eval_loss': 0.80088871717453, 'eval_accuracy': 0.7768296210587214, 'eval_weighted_precision': 0.7884610882800637, 'eval_weighted_recall': 0.7768296210587214, 'eval_weighted_f1': 0.773884093182185, 'eval_macro_precision': 0.7855851779138185, 'eval_macro_recall': 0.7753554398780216, 'eval_macro_f1': 0.7716682020260957, 'eval_micro_precision': 0.7768296210587214, 'eval_micro_recall': 0.7768296210587214, 'eval_micro_f1': 0.7768296210587214, 'eval_mcc': 0.7754557955930852, 'eval_runtime': 120.9312, 'eval_samples_per_second': 57.173, 'eval_steps_per_second': 7.153, 'epoch': 2.7}\n",
      "{'loss': 0.3763, 'grad_norm': 2.417717456817627, 'learning_rate': 6.468774094063224e-05, 'epoch': 2.71}\n",
      "{'loss': 0.4504, 'grad_norm': 3.9774208068847656, 'learning_rate': 6.430223592906708e-05, 'epoch': 2.71}\n",
      "{'loss': 0.421, 'grad_norm': 4.071054458618164, 'learning_rate': 6.391673091750193e-05, 'epoch': 2.72}\n",
      "{'loss': 0.5036, 'grad_norm': 1.6421222686767578, 'learning_rate': 6.353122590593678e-05, 'epoch': 2.73}\n",
      "{'loss': 0.4201, 'grad_norm': 1.8278908729553223, 'learning_rate': 6.314572089437163e-05, 'epoch': 2.74}\n",
      "{'loss': 0.389, 'grad_norm': 2.727815866470337, 'learning_rate': 6.276021588280648e-05, 'epoch': 2.74}\n",
      "{'loss': 0.387, 'grad_norm': 3.477198839187622, 'learning_rate': 6.237471087124133e-05, 'epoch': 2.75}\n",
      "{'loss': 0.3719, 'grad_norm': 3.3159475326538086, 'learning_rate': 6.198920585967618e-05, 'epoch': 2.76}\n",
      "{'loss': 0.5184, 'grad_norm': 2.937392473220825, 'learning_rate': 6.160370084811102e-05, 'epoch': 2.77}\n",
      "{'loss': 0.353, 'grad_norm': 2.9471490383148193, 'learning_rate': 6.121819583654588e-05, 'epoch': 2.78}\n"
     ]
    },
    {
     "data": {
      "application/vnd.jupyter.widget-view+json": {
       "model_id": "6e6430981a444bd888ecc5904879fdbf",
       "version_major": 2,
       "version_minor": 0
      },
      "text/plain": [
       "  0%|          | 0/865 [00:00<?, ?it/s]"
      ]
     },
     "metadata": {},
     "output_type": "display_data"
    },
    {
     "name": "stdout",
     "output_type": "stream",
     "text": [
      "{'eval_loss': 0.8025733828544617, 'eval_accuracy': 0.7768296210587214, 'eval_weighted_precision': 0.786612926165115, 'eval_weighted_recall': 0.7768296210587214, 'eval_weighted_f1': 0.7742595394212646, 'eval_macro_precision': 0.7843650922586676, 'eval_macro_recall': 0.7745637498977169, 'eval_macro_f1': 0.7719839769270823, 'eval_micro_precision': 0.7768296210587214, 'eval_micro_recall': 0.7768296210587214, 'eval_micro_f1': 0.7768296210587214, 'eval_mcc': 0.7754378826333316, 'eval_runtime': 121.266, 'eval_samples_per_second': 57.015, 'eval_steps_per_second': 7.133, 'epoch': 2.78}\n",
      "{'loss': 0.3119, 'grad_norm': 2.8782100677490234, 'learning_rate': 6.083269082498073e-05, 'epoch': 2.78}\n",
      "{'loss': 0.5121, 'grad_norm': 3.8068301677703857, 'learning_rate': 6.044718581341558e-05, 'epoch': 2.79}\n",
      "{'loss': 0.5475, 'grad_norm': 2.7930853366851807, 'learning_rate': 6.006168080185043e-05, 'epoch': 2.8}\n",
      "{'loss': 0.3463, 'grad_norm': 4.994381904602051, 'learning_rate': 5.967617579028527e-05, 'epoch': 2.81}\n",
      "{'loss': 0.4636, 'grad_norm': 1.954538345336914, 'learning_rate': 5.929067077872012e-05, 'epoch': 2.81}\n",
      "{'loss': 0.3687, 'grad_norm': 1.6311709880828857, 'learning_rate': 5.890516576715498e-05, 'epoch': 2.82}\n",
      "{'loss': 0.4509, 'grad_norm': 3.857041120529175, 'learning_rate': 5.8519660755589824e-05, 'epoch': 2.83}\n",
      "{'loss': 0.4334, 'grad_norm': 6.093446731567383, 'learning_rate': 5.8134155744024674e-05, 'epoch': 2.84}\n",
      "{'loss': 0.4243, 'grad_norm': 3.412865400314331, 'learning_rate': 5.774865073245952e-05, 'epoch': 2.85}\n",
      "{'loss': 0.3961, 'grad_norm': 3.5562562942504883, 'learning_rate': 5.7363145720894376e-05, 'epoch': 2.85}\n"
     ]
    },
    {
     "data": {
      "application/vnd.jupyter.widget-view+json": {
       "model_id": "2f0e4e2bc879457f94513ea645ac5a2d",
       "version_major": 2,
       "version_minor": 0
      },
      "text/plain": [
       "  0%|          | 0/865 [00:00<?, ?it/s]"
      ]
     },
     "metadata": {},
     "output_type": "display_data"
    },
    {
     "name": "stdout",
     "output_type": "stream",
     "text": [
      "{'eval_loss': 0.7765315771102905, 'eval_accuracy': 0.7842059589239225, 'eval_weighted_precision': 0.7906571738522585, 'eval_weighted_recall': 0.7842059589239225, 'eval_weighted_f1': 0.7817429306211309, 'eval_macro_precision': 0.7879310988598088, 'eval_macro_recall': 0.781960609296248, 'eval_macro_f1': 0.7791299565499439, 'eval_micro_precision': 0.7842059589239225, 'eval_micro_recall': 0.7842059589239225, 'eval_micro_f1': 0.7842059589239225, 'eval_mcc': 0.7828408185623553, 'eval_runtime': 120.9226, 'eval_samples_per_second': 57.177, 'eval_steps_per_second': 7.153, 'epoch': 2.85}\n",
      "{'loss': 0.4221, 'grad_norm': 3.4110748767852783, 'learning_rate': 5.6977640709329226e-05, 'epoch': 2.86}\n",
      "{'loss': 0.321, 'grad_norm': 0.8363069295883179, 'learning_rate': 5.659213569776407e-05, 'epoch': 2.87}\n",
      "{'loss': 0.4359, 'grad_norm': 3.477919101715088, 'learning_rate': 5.620663068619893e-05, 'epoch': 2.88}\n",
      "{'loss': 0.3405, 'grad_norm': 2.059335708618164, 'learning_rate': 5.5821125674633765e-05, 'epoch': 2.88}\n",
      "{'loss': 0.3752, 'grad_norm': 4.078366279602051, 'learning_rate': 5.543562066306862e-05, 'epoch': 2.89}\n",
      "{'loss': 0.3688, 'grad_norm': 1.2826135158538818, 'learning_rate': 5.505011565150347e-05, 'epoch': 2.9}\n",
      "{'loss': 0.3811, 'grad_norm': 1.5506635904312134, 'learning_rate': 5.466461063993832e-05, 'epoch': 2.91}\n",
      "{'loss': 0.3504, 'grad_norm': 0.8999218940734863, 'learning_rate': 5.4279105628373175e-05, 'epoch': 2.91}\n",
      "{'loss': 0.3058, 'grad_norm': 2.2311246395111084, 'learning_rate': 5.3893600616808025e-05, 'epoch': 2.92}\n",
      "{'loss': 0.4646, 'grad_norm': 2.0884106159210205, 'learning_rate': 5.350809560524287e-05, 'epoch': 2.93}\n"
     ]
    },
    {
     "data": {
      "application/vnd.jupyter.widget-view+json": {
       "model_id": "db23fecf59db403f8853c209bd964436",
       "version_major": 2,
       "version_minor": 0
      },
      "text/plain": [
       "  0%|          | 0/865 [00:00<?, ?it/s]"
      ]
     },
     "metadata": {},
     "output_type": "display_data"
    },
    {
     "name": "stdout",
     "output_type": "stream",
     "text": [
      "{'eval_loss': 0.7791460156440735, 'eval_accuracy': 0.7853630315302286, 'eval_weighted_precision': 0.7975536751049429, 'eval_weighted_recall': 0.7853630315302286, 'eval_weighted_f1': 0.7849882056053189, 'eval_macro_precision': 0.7948054918376791, 'eval_macro_recall': 0.7835302191347412, 'eval_macro_f1': 0.7826444835548271, 'eval_micro_precision': 0.7853630315302286, 'eval_micro_recall': 0.7853630315302286, 'eval_micro_f1': 0.7853630315302286, 'eval_mcc': 0.7840158490271835, 'eval_runtime': 123.4654, 'eval_samples_per_second': 55.999, 'eval_steps_per_second': 7.006, 'epoch': 2.93}\n",
      "{'loss': 0.3143, 'grad_norm': 2.9602932929992676, 'learning_rate': 5.312259059367773e-05, 'epoch': 2.94}\n",
      "{'loss': 0.383, 'grad_norm': 2.9423928260803223, 'learning_rate': 5.2737085582112564e-05, 'epoch': 2.95}\n",
      "{'loss': 0.2886, 'grad_norm': 2.1519851684570312, 'learning_rate': 5.235158057054742e-05, 'epoch': 2.95}\n",
      "{'loss': 0.4354, 'grad_norm': 3.3836007118225098, 'learning_rate': 5.196607555898227e-05, 'epoch': 2.96}\n",
      "{'loss': 0.3955, 'grad_norm': 4.43189001083374, 'learning_rate': 5.1580570547417116e-05, 'epoch': 2.97}\n",
      "{'loss': 0.3371, 'grad_norm': 1.8039369583129883, 'learning_rate': 5.119506553585197e-05, 'epoch': 2.98}\n",
      "{'loss': 0.3798, 'grad_norm': 3.809246063232422, 'learning_rate': 5.080956052428682e-05, 'epoch': 2.98}\n",
      "{'loss': 0.3779, 'grad_norm': 2.017158269882202, 'learning_rate': 5.042405551272167e-05, 'epoch': 2.99}\n",
      "{'loss': 0.3141, 'grad_norm': 2.598734140396118, 'learning_rate': 5.0038550501156525e-05, 'epoch': 3.0}\n",
      "{'loss': 0.2792, 'grad_norm': 1.929643988609314, 'learning_rate': 4.965304548959136e-05, 'epoch': 3.01}\n"
     ]
    },
    {
     "data": {
      "application/vnd.jupyter.widget-view+json": {
       "model_id": "fa96eec5f0784e98b0b90e568d3d5240",
       "version_major": 2,
       "version_minor": 0
      },
      "text/plain": [
       "  0%|          | 0/865 [00:00<?, ?it/s]"
      ]
     },
     "metadata": {},
     "output_type": "display_data"
    },
    {
     "name": "stdout",
     "output_type": "stream",
     "text": [
      "{'eval_loss': 0.7712973952293396, 'eval_accuracy': 0.7869540063638993, 'eval_weighted_precision': 0.7933894975345553, 'eval_weighted_recall': 0.7869540063638993, 'eval_weighted_f1': 0.7848419776812536, 'eval_macro_precision': 0.7912677594740003, 'eval_macro_recall': 0.7848271261125226, 'eval_macro_f1': 0.7826143939374367, 'eval_micro_precision': 0.7869540063638993, 'eval_micro_recall': 0.7869540063638993, 'eval_micro_f1': 0.7869540063638993, 'eval_mcc': 0.7855945459367977, 'eval_runtime': 127.2608, 'eval_samples_per_second': 54.329, 'eval_steps_per_second': 6.797, 'epoch': 3.01}\n",
      "{'loss': 0.1839, 'grad_norm': 1.5199692249298096, 'learning_rate': 4.926754047802621e-05, 'epoch': 3.01}\n",
      "{'loss': 0.1472, 'grad_norm': 1.8596339225769043, 'learning_rate': 4.888203546646107e-05, 'epoch': 3.02}\n",
      "{'loss': 0.1961, 'grad_norm': 3.011589765548706, 'learning_rate': 4.8496530454895915e-05, 'epoch': 3.03}\n",
      "{'loss': 0.1677, 'grad_norm': 1.233290672302246, 'learning_rate': 4.8111025443330765e-05, 'epoch': 3.04}\n",
      "{'loss': 0.1457, 'grad_norm': 1.8864741325378418, 'learning_rate': 4.7725520431765616e-05, 'epoch': 3.05}\n",
      "{'loss': 0.1079, 'grad_norm': 0.7015050649642944, 'learning_rate': 4.734001542020047e-05, 'epoch': 3.05}\n",
      "{'loss': 0.1648, 'grad_norm': 2.3166253566741943, 'learning_rate': 4.695451040863532e-05, 'epoch': 3.06}\n",
      "{'loss': 0.1804, 'grad_norm': 2.081937074661255, 'learning_rate': 4.656900539707016e-05, 'epoch': 3.07}\n",
      "{'loss': 0.1784, 'grad_norm': 1.4257315397262573, 'learning_rate': 4.618350038550501e-05, 'epoch': 3.08}\n",
      "{'loss': 0.1886, 'grad_norm': 1.5863041877746582, 'learning_rate': 4.579799537393986e-05, 'epoch': 3.08}\n"
     ]
    },
    {
     "data": {
      "application/vnd.jupyter.widget-view+json": {
       "model_id": "7c41882d7ebe43a68481a3dbbf0ab866",
       "version_major": 2,
       "version_minor": 0
      },
      "text/plain": [
       "  0%|          | 0/865 [00:00<?, ?it/s]"
      ]
     },
     "metadata": {},
     "output_type": "display_data"
    },
    {
     "name": "stdout",
     "output_type": "stream",
     "text": [
      "{'eval_loss': 0.7593622207641602, 'eval_accuracy': 0.7920161990164882, 'eval_weighted_precision': 0.7992660093701243, 'eval_weighted_recall': 0.7920161990164882, 'eval_weighted_f1': 0.7904909505607732, 'eval_macro_precision': 0.7963316050877083, 'eval_macro_recall': 0.7901873166197485, 'eval_macro_f1': 0.7880719086861374, 'eval_micro_precision': 0.7920161990164882, 'eval_micro_recall': 0.7920161990164882, 'eval_micro_f1': 0.7920161990164882, 'eval_mcc': 0.7906946044475311, 'eval_runtime': 129.816, 'eval_samples_per_second': 53.26, 'eval_steps_per_second': 6.663, 'epoch': 3.08}\n",
      "{'loss': 0.1303, 'grad_norm': 2.000298261642456, 'learning_rate': 4.5412490362374714e-05, 'epoch': 3.09}\n",
      "{'loss': 0.1783, 'grad_norm': 2.100229501724243, 'learning_rate': 4.5026985350809564e-05, 'epoch': 3.1}\n",
      "{'loss': 0.0866, 'grad_norm': 1.019671082496643, 'learning_rate': 4.4641480339244415e-05, 'epoch': 3.11}\n",
      "{'loss': 0.2119, 'grad_norm': 1.2360670566558838, 'learning_rate': 4.425597532767926e-05, 'epoch': 3.11}\n",
      "{'loss': 0.1721, 'grad_norm': 1.8808398246765137, 'learning_rate': 4.387047031611411e-05, 'epoch': 3.12}\n",
      "{'loss': 0.2565, 'grad_norm': 1.1323590278625488, 'learning_rate': 4.348496530454896e-05, 'epoch': 3.13}\n",
      "{'loss': 0.1844, 'grad_norm': 0.7720702290534973, 'learning_rate': 4.309946029298381e-05, 'epoch': 3.14}\n",
      "{'loss': 0.1503, 'grad_norm': 2.5093464851379395, 'learning_rate': 4.271395528141866e-05, 'epoch': 3.15}\n",
      "{'loss': 0.125, 'grad_norm': 0.9589769244194031, 'learning_rate': 4.232845026985351e-05, 'epoch': 3.15}\n",
      "{'loss': 0.147, 'grad_norm': 2.4137027263641357, 'learning_rate': 4.1942945258288356e-05, 'epoch': 3.16}\n"
     ]
    },
    {
     "data": {
      "application/vnd.jupyter.widget-view+json": {
       "model_id": "94c7099737494715b55d76dc7aa2cd57",
       "version_major": 2,
       "version_minor": 0
      },
      "text/plain": [
       "  0%|          | 0/865 [00:00<?, ?it/s]"
      ]
     },
     "metadata": {},
     "output_type": "display_data"
    },
    {
     "name": "stdout",
     "output_type": "stream",
     "text": [
      "{'eval_loss': 0.747670590877533, 'eval_accuracy': 0.7918715649407, 'eval_weighted_precision': 0.7992798895382041, 'eval_weighted_recall': 0.7918715649407, 'eval_weighted_f1': 0.790548547188882, 'eval_macro_precision': 0.7965379544741844, 'eval_macro_recall': 0.7905872365572749, 'eval_macro_f1': 0.7884821949662397, 'eval_micro_precision': 0.7918715649407, 'eval_micro_recall': 0.7918715649407, 'eval_micro_f1': 0.7918715649407, 'eval_mcc': 0.7905463552846984, 'eval_runtime': 141.9361, 'eval_samples_per_second': 48.712, 'eval_steps_per_second': 6.094, 'epoch': 3.16}\n",
      "{'loss': 0.1608, 'grad_norm': 2.157076358795166, 'learning_rate': 4.1557440246723214e-05, 'epoch': 3.17}\n",
      "{'loss': 0.1387, 'grad_norm': 1.3170864582061768, 'learning_rate': 4.117193523515806e-05, 'epoch': 3.18}\n",
      "{'loss': 0.1179, 'grad_norm': 2.0194759368896484, 'learning_rate': 4.078643022359291e-05, 'epoch': 3.18}\n",
      "{'loss': 0.201, 'grad_norm': 1.8394768238067627, 'learning_rate': 4.040092521202776e-05, 'epoch': 3.19}\n",
      "{'loss': 0.1575, 'grad_norm': 1.4279459714889526, 'learning_rate': 4.00154202004626e-05, 'epoch': 3.2}\n",
      "{'loss': 0.1142, 'grad_norm': 2.763314962387085, 'learning_rate': 3.962991518889746e-05, 'epoch': 3.21}\n",
      "{'loss': 0.1212, 'grad_norm': 1.8417270183563232, 'learning_rate': 3.924441017733231e-05, 'epoch': 3.22}\n",
      "{'loss': 0.1649, 'grad_norm': 0.8451288342475891, 'learning_rate': 3.8858905165767155e-05, 'epoch': 3.22}\n",
      "{'loss': 0.1794, 'grad_norm': 1.2328320741653442, 'learning_rate': 3.8473400154202006e-05, 'epoch': 3.23}\n",
      "{'loss': 0.2341, 'grad_norm': 1.4281940460205078, 'learning_rate': 3.8087895142636857e-05, 'epoch': 3.24}\n"
     ]
    },
    {
     "data": {
      "application/vnd.jupyter.widget-view+json": {
       "model_id": "5a4997595b004c37aeeba8d7370f75b6",
       "version_major": 2,
       "version_minor": 0
      },
      "text/plain": [
       "  0%|          | 0/865 [00:00<?, ?it/s]"
      ]
     },
     "metadata": {},
     "output_type": "display_data"
    },
    {
     "name": "stdout",
     "output_type": "stream",
     "text": [
      "{'eval_loss': 0.7412517666816711, 'eval_accuracy': 0.7973676598206537, 'eval_weighted_precision': 0.8030599979128147, 'eval_weighted_recall': 0.7973676598206537, 'eval_weighted_f1': 0.7967256056627755, 'eval_macro_precision': 0.800601669347248, 'eval_macro_recall': 0.7956420485229013, 'eval_macro_f1': 0.794568721206706, 'eval_micro_precision': 0.7973676598206537, 'eval_micro_recall': 0.7973676598206537, 'eval_micro_f1': 0.7973676598206537, 'eval_mcc': 0.7960546635529863, 'eval_runtime': 152.0738, 'eval_samples_per_second': 45.465, 'eval_steps_per_second': 5.688, 'epoch': 3.24}\n",
      "{'loss': 0.1692, 'grad_norm': 0.6719221472740173, 'learning_rate': 3.770239013107171e-05, 'epoch': 3.25}\n",
      "{'loss': 0.2468, 'grad_norm': 1.994182825088501, 'learning_rate': 3.731688511950656e-05, 'epoch': 3.25}\n",
      "{'loss': 0.2188, 'grad_norm': 2.375981569290161, 'learning_rate': 3.69313801079414e-05, 'epoch': 3.26}\n",
      "{'loss': 0.1164, 'grad_norm': 1.2699055671691895, 'learning_rate': 3.654587509637625e-05, 'epoch': 3.27}\n",
      "{'loss': 0.1783, 'grad_norm': 1.7085639238357544, 'learning_rate': 3.61603700848111e-05, 'epoch': 3.28}\n",
      "{'loss': 0.1234, 'grad_norm': 1.720257043838501, 'learning_rate': 3.5774865073245954e-05, 'epoch': 3.28}\n",
      "{'loss': 0.1322, 'grad_norm': 1.1957330703735352, 'learning_rate': 3.5389360061680805e-05, 'epoch': 3.29}\n",
      "{'loss': 0.099, 'grad_norm': 2.1102511882781982, 'learning_rate': 3.5003855050115655e-05, 'epoch': 3.3}\n",
      "{'loss': 0.1889, 'grad_norm': 1.653220534324646, 'learning_rate': 3.46183500385505e-05, 'epoch': 3.31}\n",
      "{'loss': 0.2198, 'grad_norm': 0.8579348921775818, 'learning_rate': 3.423284502698536e-05, 'epoch': 3.32}\n"
     ]
    },
    {
     "data": {
      "application/vnd.jupyter.widget-view+json": {
       "model_id": "46529c41047b408d9b7f5834ba343acd",
       "version_major": 2,
       "version_minor": 0
      },
      "text/plain": [
       "  0%|          | 0/865 [00:00<?, ?it/s]"
      ]
     },
     "metadata": {},
     "output_type": "display_data"
    },
    {
     "name": "stdout",
     "output_type": "stream",
     "text": [
      "{'eval_loss': 0.7451155185699463, 'eval_accuracy': 0.7934625397743709, 'eval_weighted_precision': 0.7994305989768541, 'eval_weighted_recall': 0.7934625397743709, 'eval_weighted_f1': 0.7921537174474016, 'eval_macro_precision': 0.7970068422834242, 'eval_macro_recall': 0.7920028516120319, 'eval_macro_f1': 0.7902420185233789, 'eval_micro_precision': 0.7934625397743709, 'eval_micro_recall': 0.7934625397743709, 'eval_micro_f1': 0.7934625397743709, 'eval_mcc': 0.7921330437648343, 'eval_runtime': 147.1825, 'eval_samples_per_second': 46.976, 'eval_steps_per_second': 5.877, 'epoch': 3.32}\n",
      "{'loss': 0.1282, 'grad_norm': 1.62775719165802, 'learning_rate': 3.38473400154202e-05, 'epoch': 3.32}\n",
      "{'loss': 0.1365, 'grad_norm': 1.3170288801193237, 'learning_rate': 3.346183500385505e-05, 'epoch': 3.33}\n",
      "{'loss': 0.1455, 'grad_norm': 1.9475860595703125, 'learning_rate': 3.30763299922899e-05, 'epoch': 3.34}\n",
      "{'loss': 0.1349, 'grad_norm': 1.8041406869888306, 'learning_rate': 3.2690824980724746e-05, 'epoch': 3.35}\n",
      "{'loss': 0.1968, 'grad_norm': 0.5004653334617615, 'learning_rate': 3.2305319969159603e-05, 'epoch': 3.35}\n",
      "{'loss': 0.2151, 'grad_norm': 2.309731960296631, 'learning_rate': 3.1919814957594454e-05, 'epoch': 3.36}\n",
      "{'loss': 0.1252, 'grad_norm': 1.5978890657424927, 'learning_rate': 3.15343099460293e-05, 'epoch': 3.37}\n",
      "{'loss': 0.125, 'grad_norm': 1.582998514175415, 'learning_rate': 3.114880493446415e-05, 'epoch': 3.38}\n",
      "{'loss': 0.162, 'grad_norm': 0.9207072257995605, 'learning_rate': 3.0763299922899e-05, 'epoch': 3.38}\n",
      "{'loss': 0.1505, 'grad_norm': 0.5794817805290222, 'learning_rate': 3.037779491133385e-05, 'epoch': 3.39}\n"
     ]
    },
    {
     "data": {
      "application/vnd.jupyter.widget-view+json": {
       "model_id": "4c48e72a359342e89a2203afdab9c70b",
       "version_major": 2,
       "version_minor": 0
      },
      "text/plain": [
       "  0%|          | 0/865 [00:00<?, ?it/s]"
      ]
     },
     "metadata": {},
     "output_type": "display_data"
    },
    {
     "name": "stdout",
     "output_type": "stream",
     "text": [
      "{'eval_loss': 0.7390806078910828, 'eval_accuracy': 0.7937518079259474, 'eval_weighted_precision': 0.8007823253195451, 'eval_weighted_recall': 0.7937518079259474, 'eval_weighted_f1': 0.7931935576270676, 'eval_macro_precision': 0.7982812815878347, 'eval_macro_recall': 0.7921755689828751, 'eval_macro_f1': 0.7911344122081758, 'eval_micro_precision': 0.7937518079259474, 'eval_micro_recall': 0.7937518079259474, 'eval_micro_f1': 0.7937518079259474, 'eval_mcc': 0.7924242421110691, 'eval_runtime': 151.698, 'eval_samples_per_second': 45.577, 'eval_steps_per_second': 5.702, 'epoch': 3.39}\n",
      "{'loss': 0.1485, 'grad_norm': 2.420853614807129, 'learning_rate': 2.99922898997687e-05, 'epoch': 3.4}\n",
      "{'loss': 0.1576, 'grad_norm': 1.5856298208236694, 'learning_rate': 2.9606784888203548e-05, 'epoch': 3.41}\n",
      "{'loss': 0.097, 'grad_norm': 1.8692498207092285, 'learning_rate': 2.9221279876638396e-05, 'epoch': 3.42}\n",
      "{'loss': 0.1952, 'grad_norm': 1.1733366250991821, 'learning_rate': 2.8835774865073246e-05, 'epoch': 3.42}\n",
      "{'loss': 0.1584, 'grad_norm': 0.7515308856964111, 'learning_rate': 2.84502698535081e-05, 'epoch': 3.43}\n",
      "{'loss': 0.1787, 'grad_norm': 1.4224709272384644, 'learning_rate': 2.8064764841942948e-05, 'epoch': 3.44}\n",
      "{'loss': 0.2191, 'grad_norm': 1.146863579750061, 'learning_rate': 2.7679259830377795e-05, 'epoch': 3.45}\n",
      "{'loss': 0.1106, 'grad_norm': 1.6823487281799316, 'learning_rate': 2.7293754818812646e-05, 'epoch': 3.45}\n",
      "{'loss': 0.134, 'grad_norm': 2.0652706623077393, 'learning_rate': 2.6908249807247493e-05, 'epoch': 3.46}\n",
      "{'loss': 0.1568, 'grad_norm': 2.627429246902466, 'learning_rate': 2.6522744795682347e-05, 'epoch': 3.47}\n"
     ]
    },
    {
     "data": {
      "application/vnd.jupyter.widget-view+json": {
       "model_id": "6f2eab49e0aa44cb93b1ad122a97f94f",
       "version_major": 2,
       "version_minor": 0
      },
      "text/plain": [
       "  0%|          | 0/865 [00:00<?, ?it/s]"
      ]
     },
     "metadata": {},
     "output_type": "display_data"
    },
    {
     "name": "stdout",
     "output_type": "stream",
     "text": [
      "{'eval_loss': 0.7295205593109131, 'eval_accuracy': 0.8005496094879954, 'eval_weighted_precision': 0.8050988759839276, 'eval_weighted_recall': 0.8005496094879954, 'eval_weighted_f1': 0.7999453761049355, 'eval_macro_precision': 0.8027430695678229, 'eval_macro_recall': 0.7989347386870287, 'eval_macro_f1': 0.7979046808041268, 'eval_micro_precision': 0.8005496094879954, 'eval_micro_recall': 0.8005496094879954, 'eval_micro_f1': 0.8005496094879954, 'eval_mcc': 0.7992501879222078, 'eval_runtime': 146.9216, 'eval_samples_per_second': 47.059, 'eval_steps_per_second': 5.887, 'epoch': 3.47}\n",
      "{'loss': 0.1368, 'grad_norm': 1.1025444269180298, 'learning_rate': 2.6137239784117194e-05, 'epoch': 3.48}\n",
      "{'loss': 0.102, 'grad_norm': 0.2037380039691925, 'learning_rate': 2.5751734772552045e-05, 'epoch': 3.48}\n",
      "{'loss': 0.2237, 'grad_norm': 1.0001015663146973, 'learning_rate': 2.5366229760986892e-05, 'epoch': 3.49}\n",
      "{'loss': 0.1322, 'grad_norm': 0.5048303604125977, 'learning_rate': 2.4980724749421743e-05, 'epoch': 3.5}\n",
      "{'loss': 0.1972, 'grad_norm': 0.8417490720748901, 'learning_rate': 2.4595219737856594e-05, 'epoch': 3.51}\n",
      "{'loss': 0.1603, 'grad_norm': 0.6402614712715149, 'learning_rate': 2.4209714726291444e-05, 'epoch': 3.52}\n",
      "{'loss': 0.1612, 'grad_norm': 1.3594266176223755, 'learning_rate': 2.3824209714726292e-05, 'epoch': 3.52}\n",
      "{'loss': 0.1608, 'grad_norm': 2.2161026000976562, 'learning_rate': 2.3438704703161142e-05, 'epoch': 3.53}\n",
      "{'loss': 0.1237, 'grad_norm': 1.7149720191955566, 'learning_rate': 2.3053199691595993e-05, 'epoch': 3.54}\n",
      "{'loss': 0.1526, 'grad_norm': 0.5132944583892822, 'learning_rate': 2.266769468003084e-05, 'epoch': 3.55}\n"
     ]
    },
    {
     "data": {
      "application/vnd.jupyter.widget-view+json": {
       "model_id": "866761922e1242c18d28cda37cdadb8d",
       "version_major": 2,
       "version_minor": 0
      },
      "text/plain": [
       "  0%|          | 0/865 [00:00<?, ?it/s]"
      ]
     },
     "metadata": {},
     "output_type": "display_data"
    },
    {
     "name": "stdout",
     "output_type": "stream",
     "text": [
      "{'eval_loss': 0.7366273403167725, 'eval_accuracy': 0.7951981486838299, 'eval_weighted_precision': 0.8003811525027232, 'eval_weighted_recall': 0.7951981486838299, 'eval_weighted_f1': 0.7947605224573056, 'eval_macro_precision': 0.7981199770437496, 'eval_macro_recall': 0.7930143814124667, 'eval_macro_f1': 0.7925105496001484, 'eval_micro_precision': 0.7951981486838299, 'eval_micro_recall': 0.7951981486838299, 'eval_micro_f1': 0.7951981486838299, 'eval_mcc': 0.793860789844474, 'eval_runtime': 148.8131, 'eval_samples_per_second': 46.461, 'eval_steps_per_second': 5.813, 'epoch': 3.55}\n",
      "{'loss': 0.1535, 'grad_norm': 1.6097831726074219, 'learning_rate': 2.228218966846569e-05, 'epoch': 3.55}\n",
      "{'loss': 0.1313, 'grad_norm': 3.029561996459961, 'learning_rate': 2.189668465690054e-05, 'epoch': 3.56}\n",
      "{'loss': 0.1325, 'grad_norm': 2.155515193939209, 'learning_rate': 2.1511179645335393e-05, 'epoch': 3.57}\n",
      "{'loss': 0.1398, 'grad_norm': 2.258655309677124, 'learning_rate': 2.112567463377024e-05, 'epoch': 3.58}\n",
      "{'loss': 0.1281, 'grad_norm': 2.621857166290283, 'learning_rate': 2.0740169622205087e-05, 'epoch': 3.59}\n",
      "{'loss': 0.128, 'grad_norm': 0.23538723587989807, 'learning_rate': 2.035466461063994e-05, 'epoch': 3.59}\n",
      "{'loss': 0.0905, 'grad_norm': 0.3063761591911316, 'learning_rate': 1.996915959907479e-05, 'epoch': 3.6}\n",
      "{'loss': 0.1258, 'grad_norm': 2.9349992275238037, 'learning_rate': 1.958365458750964e-05, 'epoch': 3.61}\n",
      "{'loss': 0.1371, 'grad_norm': 2.704150676727295, 'learning_rate': 1.9198149575944487e-05, 'epoch': 3.62}\n",
      "{'loss': 0.1307, 'grad_norm': 0.3852013647556305, 'learning_rate': 1.881264456437934e-05, 'epoch': 3.62}\n"
     ]
    },
    {
     "data": {
      "application/vnd.jupyter.widget-view+json": {
       "model_id": "bd3436e87f2d4bf585b56366bef2040e",
       "version_major": 2,
       "version_minor": 0
      },
      "text/plain": [
       "  0%|          | 0/865 [00:00<?, ?it/s]"
      ]
     },
     "metadata": {},
     "output_type": "display_data"
    },
    {
     "name": "stdout",
     "output_type": "stream",
     "text": [
      "{'eval_loss': 0.7245731949806213, 'eval_accuracy': 0.8009835117153601, 'eval_weighted_precision': 0.8059620468980417, 'eval_weighted_recall': 0.8009835117153601, 'eval_weighted_f1': 0.8008717497884038, 'eval_macro_precision': 0.8035146173358584, 'eval_macro_recall': 0.7994315986115368, 'eval_macro_f1': 0.7988197610686923, 'eval_micro_precision': 0.8009835117153601, 'eval_micro_recall': 0.8009835117153601, 'eval_micro_f1': 0.8009835117153601, 'eval_mcc': 0.7996801762778073, 'eval_runtime': 177.8569, 'eval_samples_per_second': 38.874, 'eval_steps_per_second': 4.863, 'epoch': 3.62}\n",
      "{'loss': 0.1665, 'grad_norm': 1.0859767198562622, 'learning_rate': 1.8427139552814188e-05, 'epoch': 3.63}\n",
      "{'loss': 0.1497, 'grad_norm': 0.968686044216156, 'learning_rate': 1.8041634541249035e-05, 'epoch': 3.64}\n",
      "{'loss': 0.1361, 'grad_norm': 0.7855222225189209, 'learning_rate': 1.7656129529683886e-05, 'epoch': 3.65}\n",
      "{'loss': 0.075, 'grad_norm': 1.152819037437439, 'learning_rate': 1.7270624518118737e-05, 'epoch': 3.65}\n",
      "{'loss': 0.1026, 'grad_norm': 1.1530605554580688, 'learning_rate': 1.6885119506553587e-05, 'epoch': 3.66}\n",
      "{'loss': 0.1082, 'grad_norm': 0.6823784708976746, 'learning_rate': 1.6499614494988435e-05, 'epoch': 3.67}\n",
      "{'loss': 0.1306, 'grad_norm': 0.7070795297622681, 'learning_rate': 1.6114109483423285e-05, 'epoch': 3.68}\n",
      "{'loss': 0.0972, 'grad_norm': 0.13904312252998352, 'learning_rate': 1.5728604471858136e-05, 'epoch': 3.69}\n",
      "{'loss': 0.21, 'grad_norm': 1.4116283655166626, 'learning_rate': 1.5343099460292983e-05, 'epoch': 3.69}\n",
      "{'loss': 0.2144, 'grad_norm': 1.606858730316162, 'learning_rate': 1.4957594448727836e-05, 'epoch': 3.7}\n"
     ]
    },
    {
     "data": {
      "application/vnd.jupyter.widget-view+json": {
       "model_id": "2ab8eb4920fa4790abb86cbd1de45924",
       "version_major": 2,
       "version_minor": 0
      },
      "text/plain": [
       "  0%|          | 0/865 [00:00<?, ?it/s]"
      ]
     },
     "metadata": {},
     "output_type": "display_data"
    },
    {
     "name": "stdout",
     "output_type": "stream",
     "text": [
      "{'eval_loss': 0.7326819896697998, 'eval_accuracy': 0.7985247324269598, 'eval_weighted_precision': 0.8038863044385597, 'eval_weighted_recall': 0.7985247324269598, 'eval_weighted_f1': 0.79821640581694, 'eval_macro_precision': 0.8015790503236093, 'eval_macro_recall': 0.7965967993589764, 'eval_macro_f1': 0.7960643394294752, 'eval_micro_precision': 0.7985247324269598, 'eval_micro_recall': 0.7985247324269598, 'eval_micro_f1': 0.7985247324269598, 'eval_mcc': 0.7972078263236694, 'eval_runtime': 168.4379, 'eval_samples_per_second': 41.048, 'eval_steps_per_second': 5.135, 'epoch': 3.7}\n",
      "{'loss': 0.2368, 'grad_norm': 2.933972120285034, 'learning_rate': 1.4572089437162683e-05, 'epoch': 3.71}\n",
      "{'loss': 0.1652, 'grad_norm': 0.4123089015483856, 'learning_rate': 1.4186584425597532e-05, 'epoch': 3.72}\n",
      "{'loss': 0.0914, 'grad_norm': 1.9426206350326538, 'learning_rate': 1.3801079414032383e-05, 'epoch': 3.72}\n",
      "{'loss': 0.0799, 'grad_norm': 0.8480398058891296, 'learning_rate': 1.3415574402467232e-05, 'epoch': 3.73}\n",
      "{'loss': 0.2239, 'grad_norm': 1.8970938920974731, 'learning_rate': 1.3030069390902083e-05, 'epoch': 3.74}\n",
      "{'loss': 0.1458, 'grad_norm': 1.5379300117492676, 'learning_rate': 1.2644564379336932e-05, 'epoch': 3.75}\n",
      "{'loss': 0.1178, 'grad_norm': 2.0305540561676025, 'learning_rate': 1.2259059367771782e-05, 'epoch': 3.75}\n",
      "{'loss': 0.0856, 'grad_norm': 0.8907986879348755, 'learning_rate': 1.1873554356206631e-05, 'epoch': 3.76}\n",
      "{'loss': 0.1207, 'grad_norm': 1.6799734830856323, 'learning_rate': 1.1488049344641482e-05, 'epoch': 3.77}\n",
      "{'loss': 0.1436, 'grad_norm': 2.2165844440460205, 'learning_rate': 1.110254433307633e-05, 'epoch': 3.78}\n"
     ]
    },
    {
     "data": {
      "application/vnd.jupyter.widget-view+json": {
       "model_id": "27b75e6fa380471d96eb60344fbc389e",
       "version_major": 2,
       "version_minor": 0
      },
      "text/plain": [
       "  0%|          | 0/865 [00:00<?, ?it/s]"
      ]
     },
     "metadata": {},
     "output_type": "display_data"
    },
    {
     "name": "stdout",
     "output_type": "stream",
     "text": [
      "{'eval_loss': 0.7250979542732239, 'eval_accuracy': 0.8041654613827017, 'eval_weighted_precision': 0.8079275278164318, 'eval_weighted_recall': 0.8041654613827017, 'eval_weighted_f1': 0.8036165011033516, 'eval_macro_precision': 0.8060476430270311, 'eval_macro_recall': 0.802306883335326, 'eval_macro_f1': 0.8016948316204614, 'eval_micro_precision': 0.8041654613827017, 'eval_micro_recall': 0.8041654613827017, 'eval_micro_f1': 0.8041654613827017, 'eval_mcc': 0.8028799989922846, 'eval_runtime': 164.0545, 'eval_samples_per_second': 42.145, 'eval_steps_per_second': 5.273, 'epoch': 3.78}\n",
      "{'loss': 0.1367, 'grad_norm': 2.008538007736206, 'learning_rate': 1.071703932151118e-05, 'epoch': 3.79}\n",
      "{'loss': 0.0915, 'grad_norm': 0.874319851398468, 'learning_rate': 1.0331534309946029e-05, 'epoch': 3.79}\n",
      "{'loss': 0.2166, 'grad_norm': 3.103738307952881, 'learning_rate': 9.94602929838088e-06, 'epoch': 3.8}\n",
      "{'loss': 0.1293, 'grad_norm': 3.102787971496582, 'learning_rate': 9.560524286815729e-06, 'epoch': 3.81}\n",
      "{'loss': 0.1542, 'grad_norm': 3.0504322052001953, 'learning_rate': 9.17501927525058e-06, 'epoch': 3.82}\n",
      "{'loss': 0.1162, 'grad_norm': 0.2206093817949295, 'learning_rate': 8.789514263685428e-06, 'epoch': 3.82}\n",
      "{'loss': 0.2628, 'grad_norm': 6.070445537567139, 'learning_rate': 8.404009252120277e-06, 'epoch': 3.83}\n",
      "{'loss': 0.1814, 'grad_norm': 3.2628345489501953, 'learning_rate': 8.018504240555128e-06, 'epoch': 3.84}\n",
      "{'loss': 0.1709, 'grad_norm': 1.6472586393356323, 'learning_rate': 7.632999228989977e-06, 'epoch': 3.85}\n",
      "{'loss': 0.1454, 'grad_norm': 0.3171449303627014, 'learning_rate': 7.247494217424827e-06, 'epoch': 3.86}\n"
     ]
    },
    {
     "data": {
      "application/vnd.jupyter.widget-view+json": {
       "model_id": "9047f55b7fe54b39b2503c655fecd05d",
       "version_major": 2,
       "version_minor": 0
      },
      "text/plain": [
       "  0%|          | 0/865 [00:00<?, ?it/s]"
      ]
     },
     "metadata": {},
     "output_type": "display_data"
    },
    {
     "name": "stdout",
     "output_type": "stream",
     "text": [
      "{'eval_loss': 0.7225527167320251, 'eval_accuracy': 0.8047439976858548, 'eval_weighted_precision': 0.8078608419511918, 'eval_weighted_recall': 0.8047439976858548, 'eval_weighted_f1': 0.8040901215571116, 'eval_macro_precision': 0.8057917878168929, 'eval_macro_recall': 0.8029785660469285, 'eval_macro_f1': 0.8021052609972266, 'eval_micro_precision': 0.8047439976858548, 'eval_micro_recall': 0.8047439976858548, 'eval_micro_f1': 0.8047439976858548, 'eval_mcc': 0.8034590742946638, 'eval_runtime': 142.424, 'eval_samples_per_second': 48.545, 'eval_steps_per_second': 6.073, 'epoch': 3.86}\n",
      "{'loss': 0.1839, 'grad_norm': 1.9117724895477295, 'learning_rate': 6.861989205859677e-06, 'epoch': 3.86}\n",
      "{'loss': 0.107, 'grad_norm': 1.772916555404663, 'learning_rate': 6.476484194294526e-06, 'epoch': 3.87}\n",
      "{'loss': 0.0884, 'grad_norm': 0.6382591128349304, 'learning_rate': 6.090979182729376e-06, 'epoch': 3.88}\n",
      "{'loss': 0.1501, 'grad_norm': 0.7555890083312988, 'learning_rate': 5.7054741711642256e-06, 'epoch': 3.89}\n",
      "{'loss': 0.1602, 'grad_norm': 2.3313300609588623, 'learning_rate': 5.319969159599075e-06, 'epoch': 3.89}\n",
      "{'loss': 0.1012, 'grad_norm': 1.3684711456298828, 'learning_rate': 4.934464148033924e-06, 'epoch': 3.9}\n",
      "{'loss': 0.1288, 'grad_norm': 1.578595519065857, 'learning_rate': 4.548959136468774e-06, 'epoch': 3.91}\n",
      "{'loss': 0.1077, 'grad_norm': 0.3659326434135437, 'learning_rate': 4.163454124903624e-06, 'epoch': 3.92}\n",
      "{'loss': 0.1094, 'grad_norm': 0.24702727794647217, 'learning_rate': 3.7779491133384736e-06, 'epoch': 3.92}\n",
      "{'loss': 0.1687, 'grad_norm': 1.9435110092163086, 'learning_rate': 3.3924441017733234e-06, 'epoch': 3.93}\n"
     ]
    },
    {
     "data": {
      "application/vnd.jupyter.widget-view+json": {
       "model_id": "1ff1d1c3a0df4938820ce0ade266a9dd",
       "version_major": 2,
       "version_minor": 0
      },
      "text/plain": [
       "  0%|          | 0/865 [00:00<?, ?it/s]"
      ]
     },
     "metadata": {},
     "output_type": "display_data"
    },
    {
     "name": "stdout",
     "output_type": "stream",
     "text": [
      "{'eval_loss': 0.7201117277145386, 'eval_accuracy': 0.8050332658374313, 'eval_weighted_precision': 0.8082702711114423, 'eval_weighted_recall': 0.8050332658374313, 'eval_weighted_f1': 0.8045004910086186, 'eval_macro_precision': 0.8063055741283967, 'eval_macro_recall': 0.8032981117385513, 'eval_macro_f1': 0.802602201709508, 'eval_micro_precision': 0.8050332658374313, 'eval_micro_recall': 0.8050332658374313, 'eval_micro_f1': 0.8050332658374313, 'eval_mcc': 0.8037487540774232, 'eval_runtime': 136.5492, 'eval_samples_per_second': 50.634, 'eval_steps_per_second': 6.335, 'epoch': 3.93}\n",
      "{'loss': 0.1213, 'grad_norm': 2.2325809001922607, 'learning_rate': 3.006939090208173e-06, 'epoch': 3.94}\n",
      "{'loss': 0.1521, 'grad_norm': 3.4039623737335205, 'learning_rate': 2.6214340786430223e-06, 'epoch': 3.95}\n",
      "{'loss': 0.1118, 'grad_norm': 2.057098627090454, 'learning_rate': 2.235929067077872e-06, 'epoch': 3.96}\n",
      "{'loss': 0.1504, 'grad_norm': 0.3810752332210541, 'learning_rate': 1.8504240555127218e-06, 'epoch': 3.96}\n",
      "{'loss': 0.2054, 'grad_norm': 3.435879945755005, 'learning_rate': 1.4649190439475714e-06, 'epoch': 3.97}\n",
      "{'loss': 0.0879, 'grad_norm': 0.5501286387443542, 'learning_rate': 1.079414032382421e-06, 'epoch': 3.98}\n",
      "{'loss': 0.1071, 'grad_norm': 1.1940865516662598, 'learning_rate': 6.939090208172706e-07, 'epoch': 3.99}\n",
      "{'loss': 0.1057, 'grad_norm': 1.028050184249878, 'learning_rate': 3.084040092521203e-07, 'epoch': 3.99}\n",
      "{'train_runtime': 52271.3828, 'train_samples_per_second': 1.587, 'train_steps_per_second': 0.099, 'train_loss': 1.1228529338594944, 'epoch': 4.0}\n"
     ]
    },
    {
     "data": {
      "application/vnd.jupyter.widget-view+json": {
       "model_id": "45926b43be434e67b0f687b650a1dab0",
       "version_major": 2,
       "version_minor": 0
      },
      "text/plain": [
       "  0%|          | 0/2593 [00:00<?, ?it/s]"
      ]
     },
     "metadata": {},
     "output_type": "display_data"
    },
    {
     "data": {
      "application/vnd.jupyter.widget-view+json": {
       "model_id": "f171cfc0041745b49d989fb018a52a31",
       "version_major": 2,
       "version_minor": 0
      },
      "text/plain": [
       "  0%|          | 0/865 [00:00<?, ?it/s]"
      ]
     },
     "metadata": {},
     "output_type": "display_data"
    }
   ],
   "source": [
    "classifier_3.train()"
   ]
  },
  {
   "cell_type": "code",
   "execution_count": 48,
   "metadata": {},
   "outputs": [
    {
     "data": {
      "application/vnd.jupyter.widget-view+json": {
       "model_id": "53fdd6a0cd1b4c459ad2024f6bd84a2c",
       "version_major": 2,
       "version_minor": 0
      },
      "text/plain": [
       "  0%|          | 0/864 [00:00<?, ?it/s]"
      ]
     },
     "metadata": {},
     "output_type": "display_data"
    },
    {
     "data": {
      "text/plain": [
       "{'test_loss': 0.6874881386756897,\n",
       " 'test_accuracy': 0.8104546770923834,\n",
       " 'test_weighted_precision': 0.8128909357456612,\n",
       " 'test_weighted_recall': 0.8104546770923834,\n",
       " 'test_weighted_f1': 0.8094551685398517,\n",
       " 'test_macro_precision': 0.811010929425097,\n",
       " 'test_macro_recall': 0.8080139372254836,\n",
       " 'test_macro_f1': 0.8072555229638625,\n",
       " 'test_micro_precision': 0.8104546770923834,\n",
       " 'test_micro_recall': 0.8104546770923834,\n",
       " 'test_micro_f1': 0.8104546770923834,\n",
       " 'test_mcc': 0.8092071019839266,\n",
       " 'test_samples_per_second': 50.641,\n",
       " 'test_steps_per_second': 6.336,\n",
       " 'epoch': 4.0,\n",
       " 'test_inference_time': 0.0197467998841587}"
      ]
     },
     "execution_count": 48,
     "metadata": {},
     "output_type": "execute_result"
    }
   ],
   "source": [
    "classifier_3.evaluate()"
   ]
  },
  {
   "cell_type": "code",
   "execution_count": 49,
   "metadata": {},
   "outputs": [],
   "source": [
    "classifier_3.save_classifier()"
   ]
  },
  {
   "cell_type": "code",
   "execution_count": null,
   "metadata": {},
   "outputs": [],
   "source": []
  }
 ],
 "metadata": {
  "kernelspec": {
   "display_name": "cloudspace",
   "language": "python",
   "name": "python3"
  },
  "language_info": {
   "codemirror_mode": {
    "name": "ipython",
    "version": 3
   },
   "file_extension": ".py",
   "mimetype": "text/x-python",
   "name": "python",
   "nbconvert_exporter": "python",
   "pygments_lexer": "ipython3",
   "version": "3.10.0"
  }
 },
 "nbformat": 4,
 "nbformat_minor": 2
}
